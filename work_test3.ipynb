{
 "cells": [
  {
   "cell_type": "markdown",
   "metadata": {},
   "source": [
    "Зачет 3."
   ]
  },
  {
   "cell_type": "markdown",
   "metadata": {},
   "source": [
    "1. Загрузите данные.\n",
    "2. Посчитайте размерность данных.\n",
    "3. Посчитайте количество пропущенных значений в каждой переменной.\n",
    "4. Выведите тип данных каждой переменной. (См pandas.DataFrame.dtypes — pandas 1.2.3 documentation (pydata.org))\n",
    "5. Вина какой области (province) получают наилучший рейтинг?\n",
    "6. На основе словаря color создайте переменную, в которой закодирован цвет вина. (map)\n",
    "7. Удалите наблюдения для которых цвет (color) не указан.\n",
    "8. Визуализируйте распределения числовых переменных.\n",
    "9. Для каждой страны рассчитайте долю каждого вида вина. В какой стране доля белого вина наибольшая, а в какой красного? \n",
    "   (Нужен ответ вида: в стране А наибольшая доля белого вина, а в стране B — красного.\n",
    "10. Заполните ответы в тест и отправьте сохраненный файл в формате pdf\n",
    "11. Дополнительно можно посмотреть Пример исследовательского анализа данных и сделать что-то аналогичное."
   ]
  },
  {
   "cell_type": "code",
   "execution_count": 7,
   "metadata": {},
   "outputs": [],
   "source": [
    "# import\n",
    "import pandas as pd\n",
    "import numpy as np\n",
    "import matplotlib.pyplot as plt"
   ]
  },
  {
   "cell_type": "code",
   "execution_count": 9,
   "metadata": {},
   "outputs": [
    {
     "data": {
      "text/html": [
       "<div>\n",
       "<style scoped>\n",
       "    .dataframe tbody tr th:only-of-type {\n",
       "        vertical-align: middle;\n",
       "    }\n",
       "\n",
       "    .dataframe tbody tr th {\n",
       "        vertical-align: top;\n",
       "    }\n",
       "\n",
       "    .dataframe thead th {\n",
       "        text-align: right;\n",
       "    }\n",
       "</style>\n",
       "<table border=\"1\" class=\"dataframe\">\n",
       "  <thead>\n",
       "    <tr style=\"text-align: right;\">\n",
       "      <th></th>\n",
       "      <th>country</th>\n",
       "      <th>description</th>\n",
       "      <th>designation</th>\n",
       "      <th>points</th>\n",
       "      <th>price</th>\n",
       "      <th>province</th>\n",
       "      <th>region_1</th>\n",
       "      <th>region_2</th>\n",
       "      <th>variety</th>\n",
       "      <th>winery</th>\n",
       "    </tr>\n",
       "  </thead>\n",
       "  <tbody>\n",
       "    <tr>\n",
       "      <th>0</th>\n",
       "      <td>US</td>\n",
       "      <td>With a delicate, silky mouthfeel and bright ac...</td>\n",
       "      <td>NaN</td>\n",
       "      <td>86</td>\n",
       "      <td>23.0</td>\n",
       "      <td>California</td>\n",
       "      <td>Central Coast</td>\n",
       "      <td>Central Coast</td>\n",
       "      <td>Pinot Noir</td>\n",
       "      <td>MacMurray Ranch</td>\n",
       "    </tr>\n",
       "    <tr>\n",
       "      <th>1</th>\n",
       "      <td>Italy</td>\n",
       "      <td>D'Alceo is a drop dead gorgeous wine that ooze...</td>\n",
       "      <td>D'Alceo</td>\n",
       "      <td>96</td>\n",
       "      <td>275.0</td>\n",
       "      <td>Tuscany</td>\n",
       "      <td>Toscana</td>\n",
       "      <td>NaN</td>\n",
       "      <td>Red Blend</td>\n",
       "      <td>Castello dei Rampolla</td>\n",
       "    </tr>\n",
       "    <tr>\n",
       "      <th>2</th>\n",
       "      <td>France</td>\n",
       "      <td>The great dominance of Cabernet Sauvignon in t...</td>\n",
       "      <td>NaN</td>\n",
       "      <td>91</td>\n",
       "      <td>40.0</td>\n",
       "      <td>Bordeaux</td>\n",
       "      <td>Haut-Médoc</td>\n",
       "      <td>NaN</td>\n",
       "      <td>Bordeaux-style Red Blend</td>\n",
       "      <td>Château Bernadotte</td>\n",
       "    </tr>\n",
       "    <tr>\n",
       "      <th>3</th>\n",
       "      <td>Italy</td>\n",
       "      <td>The modest cherry, dark berry and black tea no...</td>\n",
       "      <td>NaN</td>\n",
       "      <td>81</td>\n",
       "      <td>15.0</td>\n",
       "      <td>Tuscany</td>\n",
       "      <td>Chianti Classico</td>\n",
       "      <td>NaN</td>\n",
       "      <td>Sangiovese</td>\n",
       "      <td>Valiano</td>\n",
       "    </tr>\n",
       "    <tr>\n",
       "      <th>4</th>\n",
       "      <td>US</td>\n",
       "      <td>Exceedingly light in color, scent and flavor, ...</td>\n",
       "      <td>NaN</td>\n",
       "      <td>83</td>\n",
       "      <td>25.0</td>\n",
       "      <td>Oregon</td>\n",
       "      <td>Rogue Valley</td>\n",
       "      <td>Southern Oregon</td>\n",
       "      <td>Pinot Noir</td>\n",
       "      <td>Deer Creek</td>\n",
       "    </tr>\n",
       "  </tbody>\n",
       "</table>\n",
       "</div>"
      ],
      "text/plain": [
       "  country                                        description designation  \\\n",
       "0      US  With a delicate, silky mouthfeel and bright ac...         NaN   \n",
       "1   Italy  D'Alceo is a drop dead gorgeous wine that ooze...     D'Alceo   \n",
       "2  France  The great dominance of Cabernet Sauvignon in t...         NaN   \n",
       "3   Italy  The modest cherry, dark berry and black tea no...         NaN   \n",
       "4      US  Exceedingly light in color, scent and flavor, ...         NaN   \n",
       "\n",
       "   points  price    province          region_1         region_2  \\\n",
       "0      86   23.0  California     Central Coast    Central Coast   \n",
       "1      96  275.0     Tuscany           Toscana              NaN   \n",
       "2      91   40.0    Bordeaux        Haut-Médoc              NaN   \n",
       "3      81   15.0     Tuscany  Chianti Classico              NaN   \n",
       "4      83   25.0      Oregon      Rogue Valley  Southern Oregon   \n",
       "\n",
       "                    variety                 winery  \n",
       "0                Pinot Noir        MacMurray Ranch  \n",
       "1                 Red Blend  Castello dei Rampolla  \n",
       "2  Bordeaux-style Red Blend     Château Bernadotte  \n",
       "3                Sangiovese                Valiano  \n",
       "4                Pinot Noir             Deer Creek  "
      ]
     },
     "execution_count": 9,
     "metadata": {},
     "output_type": "execute_result"
    }
   ],
   "source": [
    "#1\n",
    "df = pd.read_csv('G:/study/documents_study/materials/wine_1.csv')\n",
    "df.head()"
   ]
  },
  {
   "cell_type": "code",
   "execution_count": 10,
   "metadata": {},
   "outputs": [
    {
     "data": {
      "text/plain": [
       "(20000, 10)"
      ]
     },
     "execution_count": 10,
     "metadata": {},
     "output_type": "execute_result"
    }
   ],
   "source": [
    "#2\n",
    "df.shape"
   ]
  },
  {
   "cell_type": "code",
   "execution_count": 11,
   "metadata": {},
   "outputs": [
    {
     "name": "stdout",
     "output_type": "stream",
     "text": [
      "<class 'pandas.core.frame.DataFrame'>\n",
      "RangeIndex: 20000 entries, 0 to 19999\n",
      "Data columns (total 10 columns):\n",
      " #   Column       Non-Null Count  Dtype  \n",
      "---  ------       --------------  -----  \n",
      " 0   country      20000 non-null  object \n",
      " 1   description  20000 non-null  object \n",
      " 2   designation  13999 non-null  object \n",
      " 3   points       20000 non-null  int64  \n",
      " 4   price        18198 non-null  float64\n",
      " 5   province     20000 non-null  object \n",
      " 6   region_1     16543 non-null  object \n",
      " 7   region_2     8058 non-null   object \n",
      " 8   variety      20000 non-null  object \n",
      " 9   winery       20000 non-null  object \n",
      "dtypes: float64(1), int64(1), object(8)\n",
      "memory usage: 1.5+ MB\n"
     ]
    },
    {
     "data": {
      "text/plain": [
       "country            0\n",
       "description        0\n",
       "designation     6001\n",
       "points             0\n",
       "price           1802\n",
       "province           0\n",
       "region_1        3457\n",
       "region_2       11942\n",
       "variety            0\n",
       "winery             0\n",
       "dtype: int64"
      ]
     },
     "execution_count": 11,
     "metadata": {},
     "output_type": "execute_result"
    }
   ],
   "source": [
    "#3\n",
    "df.info()\n",
    "df.isna().sum()\n"
   ]
  },
  {
   "cell_type": "code",
   "execution_count": 12,
   "metadata": {},
   "outputs": [
    {
     "data": {
      "text/plain": [
       "country         object\n",
       "description     object\n",
       "designation     object\n",
       "points           int64\n",
       "price          float64\n",
       "province        object\n",
       "region_1        object\n",
       "region_2        object\n",
       "variety         object\n",
       "winery          object\n",
       "dtype: object"
      ]
     },
     "execution_count": 12,
     "metadata": {},
     "output_type": "execute_result"
    }
   ],
   "source": [
    "#4\n",
    "df.dtypes"
   ]
  },
  {
   "cell_type": "code",
   "execution_count": 13,
   "metadata": {},
   "outputs": [],
   "source": [
    "#df.sort_values('points', ascending=False)\n",
    "top_wines = df[df['points'] == 100]\n"
   ]
  },
  {
   "cell_type": "code",
   "execution_count": 14,
   "metadata": {},
   "outputs": [
    {
     "name": "stdout",
     "output_type": "stream",
     "text": [
      "            points   price\n",
      "province                  \n",
      "California     100   245.0\n",
      "Champagne      100  1400.0\n",
      "Tuscany        100   460.0\n"
     ]
    }
   ],
   "source": [
    "#5\n",
    "province = top_wines.pivot_table(df, \n",
    "                          index='province')\n",
    "print(province)\n",
    "\n"
   ]
  },
  {
   "cell_type": "code",
   "execution_count": 24,
   "metadata": {},
   "outputs": [
    {
     "data": {
      "text/html": [
       "<div>\n",
       "<style scoped>\n",
       "    .dataframe tbody tr th:only-of-type {\n",
       "        vertical-align: middle;\n",
       "    }\n",
       "\n",
       "    .dataframe tbody tr th {\n",
       "        vertical-align: top;\n",
       "    }\n",
       "\n",
       "    .dataframe thead th {\n",
       "        text-align: right;\n",
       "    }\n",
       "</style>\n",
       "<table border=\"1\" class=\"dataframe\">\n",
       "  <thead>\n",
       "    <tr style=\"text-align: right;\">\n",
       "      <th></th>\n",
       "      <th>country</th>\n",
       "      <th>description</th>\n",
       "      <th>designation</th>\n",
       "      <th>points</th>\n",
       "      <th>price</th>\n",
       "      <th>province</th>\n",
       "      <th>region_1</th>\n",
       "      <th>region_2</th>\n",
       "      <th>variety</th>\n",
       "      <th>winery</th>\n",
       "      <th>color</th>\n",
       "    </tr>\n",
       "  </thead>\n",
       "  <tbody>\n",
       "    <tr>\n",
       "      <th>0</th>\n",
       "      <td>US</td>\n",
       "      <td>With a delicate, silky mouthfeel and bright ac...</td>\n",
       "      <td>NaN</td>\n",
       "      <td>86</td>\n",
       "      <td>23.0</td>\n",
       "      <td>California</td>\n",
       "      <td>Central Coast</td>\n",
       "      <td>Central Coast</td>\n",
       "      <td>Pinot Noir</td>\n",
       "      <td>MacMurray Ranch</td>\n",
       "      <td>red</td>\n",
       "    </tr>\n",
       "    <tr>\n",
       "      <th>1</th>\n",
       "      <td>Italy</td>\n",
       "      <td>D'Alceo is a drop dead gorgeous wine that ooze...</td>\n",
       "      <td>D'Alceo</td>\n",
       "      <td>96</td>\n",
       "      <td>275.0</td>\n",
       "      <td>Tuscany</td>\n",
       "      <td>Toscana</td>\n",
       "      <td>NaN</td>\n",
       "      <td>Red Blend</td>\n",
       "      <td>Castello dei Rampolla</td>\n",
       "      <td>red</td>\n",
       "    </tr>\n",
       "    <tr>\n",
       "      <th>2</th>\n",
       "      <td>France</td>\n",
       "      <td>The great dominance of Cabernet Sauvignon in t...</td>\n",
       "      <td>NaN</td>\n",
       "      <td>91</td>\n",
       "      <td>40.0</td>\n",
       "      <td>Bordeaux</td>\n",
       "      <td>Haut-Médoc</td>\n",
       "      <td>NaN</td>\n",
       "      <td>Bordeaux-style Red Blend</td>\n",
       "      <td>Château Bernadotte</td>\n",
       "      <td>red</td>\n",
       "    </tr>\n",
       "    <tr>\n",
       "      <th>3</th>\n",
       "      <td>Italy</td>\n",
       "      <td>The modest cherry, dark berry and black tea no...</td>\n",
       "      <td>NaN</td>\n",
       "      <td>81</td>\n",
       "      <td>15.0</td>\n",
       "      <td>Tuscany</td>\n",
       "      <td>Chianti Classico</td>\n",
       "      <td>NaN</td>\n",
       "      <td>Sangiovese</td>\n",
       "      <td>Valiano</td>\n",
       "      <td>red</td>\n",
       "    </tr>\n",
       "    <tr>\n",
       "      <th>4</th>\n",
       "      <td>US</td>\n",
       "      <td>Exceedingly light in color, scent and flavor, ...</td>\n",
       "      <td>NaN</td>\n",
       "      <td>83</td>\n",
       "      <td>25.0</td>\n",
       "      <td>Oregon</td>\n",
       "      <td>Rogue Valley</td>\n",
       "      <td>Southern Oregon</td>\n",
       "      <td>Pinot Noir</td>\n",
       "      <td>Deer Creek</td>\n",
       "      <td>red</td>\n",
       "    </tr>\n",
       "    <tr>\n",
       "      <th>5</th>\n",
       "      <td>Austria</td>\n",
       "      <td>This is always a major wine, and this vintage ...</td>\n",
       "      <td>Dürnsteiner Kellerberg Smaragd</td>\n",
       "      <td>96</td>\n",
       "      <td>89.0</td>\n",
       "      <td>Wachau</td>\n",
       "      <td>NaN</td>\n",
       "      <td>NaN</td>\n",
       "      <td>Riesling</td>\n",
       "      <td>F X Pichler</td>\n",
       "      <td>white</td>\n",
       "    </tr>\n",
       "    <tr>\n",
       "      <th>6</th>\n",
       "      <td>US</td>\n",
       "      <td>Tastes excessively sharp throughout, with a cu...</td>\n",
       "      <td>Distraction</td>\n",
       "      <td>84</td>\n",
       "      <td>40.0</td>\n",
       "      <td>California</td>\n",
       "      <td>Paso Robles</td>\n",
       "      <td>Central Coast</td>\n",
       "      <td>Bordeaux-style Red Blend</td>\n",
       "      <td>Pear Valley</td>\n",
       "      <td>red</td>\n",
       "    </tr>\n",
       "    <tr>\n",
       "      <th>7</th>\n",
       "      <td>US</td>\n",
       "      <td>Addictive aromas of hot blackberry pie laced w...</td>\n",
       "      <td>White Hawk Vineyard</td>\n",
       "      <td>93</td>\n",
       "      <td>40.0</td>\n",
       "      <td>California</td>\n",
       "      <td>Santa Barbara County</td>\n",
       "      <td>Central Coast</td>\n",
       "      <td>Syrah</td>\n",
       "      <td>Mulvane Wine Co.</td>\n",
       "      <td>red</td>\n",
       "    </tr>\n",
       "    <tr>\n",
       "      <th>8</th>\n",
       "      <td>US</td>\n",
       "      <td>Marc Piro broke away from his day job at Au Bo...</td>\n",
       "      <td>Presqu'ile Vineyard</td>\n",
       "      <td>93</td>\n",
       "      <td>44.0</td>\n",
       "      <td>California</td>\n",
       "      <td>Santa Maria Valley</td>\n",
       "      <td>Central Coast</td>\n",
       "      <td>Pinot Noir</td>\n",
       "      <td>Piro</td>\n",
       "      <td>red</td>\n",
       "    </tr>\n",
       "    <tr>\n",
       "      <th>9</th>\n",
       "      <td>US</td>\n",
       "      <td>A soft, round Merlot made from what tastes lik...</td>\n",
       "      <td>Larry Venturi Vineyards</td>\n",
       "      <td>85</td>\n",
       "      <td>35.0</td>\n",
       "      <td>California</td>\n",
       "      <td>Mendocino</td>\n",
       "      <td>Mendocino/Lake Counties</td>\n",
       "      <td>Merlot</td>\n",
       "      <td>Simaine Cellars</td>\n",
       "      <td>red</td>\n",
       "    </tr>\n",
       "  </tbody>\n",
       "</table>\n",
       "</div>"
      ],
      "text/plain": [
       "   country                                        description  \\\n",
       "0       US  With a delicate, silky mouthfeel and bright ac...   \n",
       "1    Italy  D'Alceo is a drop dead gorgeous wine that ooze...   \n",
       "2   France  The great dominance of Cabernet Sauvignon in t...   \n",
       "3    Italy  The modest cherry, dark berry and black tea no...   \n",
       "4       US  Exceedingly light in color, scent and flavor, ...   \n",
       "5  Austria  This is always a major wine, and this vintage ...   \n",
       "6       US  Tastes excessively sharp throughout, with a cu...   \n",
       "7       US  Addictive aromas of hot blackberry pie laced w...   \n",
       "8       US  Marc Piro broke away from his day job at Au Bo...   \n",
       "9       US  A soft, round Merlot made from what tastes lik...   \n",
       "\n",
       "                      designation  points  price    province  \\\n",
       "0                             NaN      86   23.0  California   \n",
       "1                         D'Alceo      96  275.0     Tuscany   \n",
       "2                             NaN      91   40.0    Bordeaux   \n",
       "3                             NaN      81   15.0     Tuscany   \n",
       "4                             NaN      83   25.0      Oregon   \n",
       "5  Dürnsteiner Kellerberg Smaragd      96   89.0      Wachau   \n",
       "6                     Distraction      84   40.0  California   \n",
       "7             White Hawk Vineyard      93   40.0  California   \n",
       "8             Presqu'ile Vineyard      93   44.0  California   \n",
       "9         Larry Venturi Vineyards      85   35.0  California   \n",
       "\n",
       "               region_1                 region_2                   variety  \\\n",
       "0         Central Coast            Central Coast                Pinot Noir   \n",
       "1               Toscana                      NaN                 Red Blend   \n",
       "2            Haut-Médoc                      NaN  Bordeaux-style Red Blend   \n",
       "3      Chianti Classico                      NaN                Sangiovese   \n",
       "4          Rogue Valley          Southern Oregon                Pinot Noir   \n",
       "5                   NaN                      NaN                  Riesling   \n",
       "6           Paso Robles            Central Coast  Bordeaux-style Red Blend   \n",
       "7  Santa Barbara County            Central Coast                     Syrah   \n",
       "8    Santa Maria Valley            Central Coast                Pinot Noir   \n",
       "9             Mendocino  Mendocino/Lake Counties                    Merlot   \n",
       "\n",
       "                  winery  color  \n",
       "0        MacMurray Ranch    red  \n",
       "1  Castello dei Rampolla    red  \n",
       "2     Château Bernadotte    red  \n",
       "3                Valiano    red  \n",
       "4             Deer Creek    red  \n",
       "5            F X Pichler  white  \n",
       "6            Pear Valley    red  \n",
       "7       Mulvane Wine Co.    red  \n",
       "8                   Piro    red  \n",
       "9        Simaine Cellars    red  "
      ]
     },
     "execution_count": 24,
     "metadata": {},
     "output_type": "execute_result"
    }
   ],
   "source": [
    "#6\n",
    "color = {\"Chardonnay\": \"white\",\n",
    "\"Pinot Noir\": 'red',\n",
    "\"Cabernet Sauvignon\": \"red\",\n",
    "\"Red Blend\": \"red\",\n",
    "\"Bordeaux-style Red Blend\": \"red\",\n",
    "\"Sauvignon Blanc\": \"white\",\n",
    "\"Syrah\": \"red\",\n",
    "\"Riesling\": \"white\",\n",
    "\"Merlot\": \"red\",\n",
    "\"Zinfandel\": \"red\",\n",
    "\"Sangiovese\": \"red\",\n",
    "\"Malbec\": \"red\",\n",
    "\"White Blend\": \"white\",\n",
    "\"Rosé\": \"other\",\n",
    "\"Tempranillo\": \"red\",\n",
    "\"Nebbiolo\": \"red\",\n",
    "\"Portuguese Red\": \"red\",\n",
    "\"Sparkling Blend\": \"other\",\n",
    "\"Shiraz\": \"red\",\n",
    "\"Corvina, Rondinella, Molinara\": \"red\",\n",
    "\"Rhône-style Red Blend\": \"red\",\n",
    "\"Barbera\": \"red\",\n",
    "\"Pinot Gris\": \"white\",\n",
    "\"Viognier\": \"white\",\n",
    "\"Bordeaux-style White Blend\": \"white\",\n",
    "\"Champagne Blend\": \"other\",\n",
    "\"Port\": \"red\",\n",
    "\"Grüner Veltliner\": \"white\",\n",
    "\"Gewürztraminer\": \"white\",\n",
    "\"Portuguese White\": \"white\",\n",
    "\"Petite Sirah\": \"red\",\n",
    "\"Carmenère\": \"red\"}\n",
    "\n",
    "#dfcolor = pd.DataFrame(color,index=['color']).T\n",
    "df['color'] = df['variety'].map(color)\n",
    "df.head(10)\n",
    "\n",
    "\n"
   ]
  },
  {
   "cell_type": "code",
   "execution_count": 25,
   "metadata": {},
   "outputs": [
    {
     "name": "stdout",
     "output_type": "stream",
     "text": [
      "          points      price\n",
      "color                      \n",
      "other  87.331808  30.707031\n",
      "red    88.168158  38.086357\n",
      "white  87.721363  27.088496\n"
     ]
    }
   ],
   "source": [
    "#7\n",
    "df2 = df.loc[df['color'] != 'other']\n",
    "proverka = df.pivot_table(df, \n",
    "                          index='color',\n",
    "                          aggfunc=np.mean)\n",
    "print(proverka)"
   ]
  },
  {
   "cell_type": "code",
   "execution_count": 17,
   "metadata": {},
   "outputs": [
    {
     "data": {
      "text/plain": [
       "<matplotlib.collections.PathCollection at 0x1ba87f43ca0>"
      ]
     },
     "execution_count": 17,
     "metadata": {},
     "output_type": "execute_result"
    },
    {
     "data": {
      "image/png": "[encoded data removed]",
      "text/plain": [
       "<Figure size 640x480 with 1 Axes>"
      ]
     },
     "metadata": {},
     "output_type": "display_data"
    }
   ],
   "source": [
    "#8\n",
    "\n",
    "plt.xlabel('points')\n",
    "plt.ylabel('price')\n",
    "plt.scatter(x=df['points'], y=df['price'])"
   ]
  },
  {
   "cell_type": "code",
   "execution_count": 18,
   "metadata": {},
   "outputs": [
    {
     "data": {
      "text/plain": [
       "[<matplotlib.lines.Line2D at 0x1ba8861dbd0>]"
      ]
     },
     "execution_count": 18,
     "metadata": {},
     "output_type": "execute_result"
    },
    {
     "data": {
      "image/png": "[encoded data removed]",
      "text/plain": [
       "<Figure size 640x480 with 1 Axes>"
      ]
     },
     "metadata": {},
     "output_type": "display_data"
    }
   ],
   "source": [
    "#8.1\n",
    "d = df.groupby('points').mean()\n",
    "plt.xlabel('points')\n",
    "plt.ylabel('Средняя цена')\n",
    "plt.plot(d.index, d.values)"
   ]
  },
  {
   "cell_type": "code",
   "execution_count": 19,
   "metadata": {},
   "outputs": [
    {
     "data": {
      "text/plain": [
       "<BarContainer object of 7 artists>"
      ]
     },
     "execution_count": 19,
     "metadata": {},
     "output_type": "execute_result"
    },
    {
     "data": {
      "image/png": "[encoded data removed]",
      "text/plain": [
       "<Figure size 640x480 with 1 Axes>"
      ]
     },
     "metadata": {},
     "output_type": "display_data"
    }
   ],
   "source": [
    "#8.2\n",
    "countries = df['country'].value_counts().head(7)\n",
    "plt.xlabel('Cтрана')\n",
    "plt.ylabel('Количество вин')\n",
    "plt.bar(x=countries.index, height=countries.values)"
   ]
  },
  {
   "cell_type": "code",
   "execution_count": 20,
   "metadata": {},
   "outputs": [
    {
     "data": {
      "text/plain": [
       "(array([0.0124, 0.    , 0.0212, 0.    , 0.0509, 0.    , 0.0811, 0.    ,\n",
       "        0.1454, 0.    , 0.1653, 0.    , 0.1982, 0.    , 0.2813, 0.    ,\n",
       "        0.2352, 0.    , 0.1644, 0.    , 0.2088, 0.    , 0.1415, 0.    ,\n",
       "        0.1255, 0.    , 0.0784, 0.    , 0.0506, 0.    , 0.0232, 0.    ,\n",
       "        0.0088, 0.    , 0.0051, 0.    , 0.0017, 0.    , 0.0007, 0.0003]),\n",
       " array([ 80. ,  80.5,  81. ,  81.5,  82. ,  82.5,  83. ,  83.5,  84. ,\n",
       "         84.5,  85. ,  85.5,  86. ,  86.5,  87. ,  87.5,  88. ,  88.5,\n",
       "         89. ,  89.5,  90. ,  90.5,  91. ,  91.5,  92. ,  92.5,  93. ,\n",
       "         93.5,  94. ,  94.5,  95. ,  95.5,  96. ,  96.5,  97. ,  97.5,\n",
       "         98. ,  98.5,  99. ,  99.5, 100. ]),\n",
       " <BarContainer object of 40 artists>)"
      ]
     },
     "execution_count": 20,
     "metadata": {},
     "output_type": "execute_result"
    },
    {
     "data": {
      "image/png": "[encoded data removed]",
      "text/plain": [
       "<Figure size 640x480 with 1 Axes>"
      ]
     },
     "metadata": {},
     "output_type": "display_data"
    }
   ],
   "source": [
    "#8.3\n",
    "plt.xlabel('points')\n",
    "plt.ylabel('Вероятность')\n",
    "plt.hist(x=df['points'], bins=40, density=True)"
   ]
  },
  {
   "cell_type": "code",
   "execution_count": 21,
   "metadata": {},
   "outputs": [
    {
     "data": {
      "text/html": [
       "<div>\n",
       "<style scoped>\n",
       "    .dataframe tbody tr th:only-of-type {\n",
       "        vertical-align: middle;\n",
       "    }\n",
       "\n",
       "    .dataframe tbody tr th {\n",
       "        vertical-align: top;\n",
       "    }\n",
       "\n",
       "    .dataframe thead th {\n",
       "        text-align: right;\n",
       "    }\n",
       "</style>\n",
       "<table border=\"1\" class=\"dataframe\">\n",
       "  <thead>\n",
       "    <tr style=\"text-align: right;\">\n",
       "      <th></th>\n",
       "      <th></th>\n",
       "      <th>variety</th>\n",
       "    </tr>\n",
       "    <tr>\n",
       "      <th>country</th>\n",
       "      <th>color</th>\n",
       "      <th></th>\n",
       "    </tr>\n",
       "  </thead>\n",
       "  <tbody>\n",
       "    <tr>\n",
       "      <th rowspan=\"3\" valign=\"top\">Argentina</th>\n",
       "      <th>other</th>\n",
       "      <td>12</td>\n",
       "    </tr>\n",
       "    <tr>\n",
       "      <th>red</th>\n",
       "      <td>528</td>\n",
       "    </tr>\n",
       "    <tr>\n",
       "      <th>white</th>\n",
       "      <td>87</td>\n",
       "    </tr>\n",
       "    <tr>\n",
       "      <th rowspan=\"3\" valign=\"top\">Australia</th>\n",
       "      <th>other</th>\n",
       "      <td>14</td>\n",
       "    </tr>\n",
       "    <tr>\n",
       "      <th>red</th>\n",
       "      <td>325</td>\n",
       "    </tr>\n",
       "    <tr>\n",
       "      <th>white</th>\n",
       "      <td>169</td>\n",
       "    </tr>\n",
       "    <tr>\n",
       "      <th rowspan=\"3\" valign=\"top\">Austria</th>\n",
       "      <th>other</th>\n",
       "      <td>6</td>\n",
       "    </tr>\n",
       "    <tr>\n",
       "      <th>red</th>\n",
       "      <td>33</td>\n",
       "    </tr>\n",
       "    <tr>\n",
       "      <th>white</th>\n",
       "      <td>261</td>\n",
       "    </tr>\n",
       "    <tr>\n",
       "      <th>Brazil</th>\n",
       "      <th>other</th>\n",
       "      <td>2</td>\n",
       "    </tr>\n",
       "    <tr>\n",
       "      <th rowspan=\"2\" valign=\"top\">Bulgaria</th>\n",
       "      <th>red</th>\n",
       "      <td>6</td>\n",
       "    </tr>\n",
       "    <tr>\n",
       "      <th>white</th>\n",
       "      <td>3</td>\n",
       "    </tr>\n",
       "    <tr>\n",
       "      <th rowspan=\"2\" valign=\"top\">Canada</th>\n",
       "      <th>red</th>\n",
       "      <td>5</td>\n",
       "    </tr>\n",
       "    <tr>\n",
       "      <th>white</th>\n",
       "      <td>16</td>\n",
       "    </tr>\n",
       "    <tr>\n",
       "      <th>Chile</th>\n",
       "      <th>other</th>\n",
       "      <td>13</td>\n",
       "    </tr>\n",
       "  </tbody>\n",
       "</table>\n",
       "</div>"
      ],
      "text/plain": [
       "                 variety\n",
       "country   color         \n",
       "Argentina other       12\n",
       "          red        528\n",
       "          white       87\n",
       "Australia other       14\n",
       "          red        325\n",
       "          white      169\n",
       "Austria   other        6\n",
       "          red         33\n",
       "          white      261\n",
       "Brazil    other        2\n",
       "Bulgaria  red          6\n",
       "          white        3\n",
       "Canada    red          5\n",
       "          white       16\n",
       "Chile     other       13"
      ]
     },
     "execution_count": 21,
     "metadata": {},
     "output_type": "execute_result"
    }
   ],
   "source": [
    "#9\n",
    "df2.head(10)\n",
    "\n",
    "group=df.groupby(['country','color'])\n",
    "stats=pd.DataFrame(group.agg('count')['variety'])\n",
    "stats.head(15)"
   ]
  }
 ],
 "metadata": {
  "kernelspec": {
   "display_name": "Python 3.10.7 64-bit",
   "language": "python",
   "name": "python3"
  },
  "language_info": {
   "codemirror_mode": {
    "name": "ipython",
    "version": 3
   },
   "file_extension": ".py",
   "mimetype": "text/x-python",
   "name": "python",
   "nbconvert_exporter": "python",
   "pygments_lexer": "ipython3",
   "version": "3.10.7"
  },
  "orig_nbformat": 4,
  "vscode": {
   "interpreter": {
    "hash": "800f5446f05b6c19c3d9d5605cc8e76c92f802913ec490527ddacf581c40d26e"
   }
  }
 },
 "nbformat": 4,
 "nbformat_minor": 2
}
