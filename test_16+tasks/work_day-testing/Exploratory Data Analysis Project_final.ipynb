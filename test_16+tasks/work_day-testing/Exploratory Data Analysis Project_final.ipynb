{
 "cells": [
  {
   "cell_type": "markdown",
   "metadata": {},
   "source": [
    "# Проект анализа исследовательских данных¶\n",
    "# Факторы, влияющие на цену транспортного средства"
   ]
  },
  {
   "cell_type": "markdown",
   "metadata": {
    "toc": true
   },
   "source": [
    "<h1>Содержание<span class=\"tocSkip\"></span></h1>\n",
    "<div class=\"toc\"><ul class=\"toc-item\"><li><span><a href=\"#Goal\" data-toc-modified-id=\"Goal-1\"><span class=\"toc-item-num\">1&nbsp;&nbsp;</span>Цель</a></span></li><li><span><a href=\"#Hypothesis\" data-toc-modified-id=\"Hypothesis-2\"><span class=\"toc-item-num\">2&nbsp;&nbsp;</span>Гипотеза</a></span></li><li><span><a href=\"#Description-of-the-data\" data-toc-modified-id=\"Description-of-the-data-3\"><span class=\"toc-item-num\">3&nbsp;&nbsp;</span>Описание данных</a></span></li><li><span><a href=\"#Imports\" data-toc-modified-id=\"Imports-4\"><span class=\"toc-item-num\">4&nbsp;&nbsp;</span>Импорт</a></span></li><li><span><a href=\"#Input-data\" data-toc-modified-id=\"Input-data-5\"><span class=\"toc-item-num\">5&nbsp;&nbsp;</span>Входные данные</a></span></li><li><span><a href=\"#Overview\" data-toc-modified-id=\"Overview-6\"><span class=\"toc-item-num\">6&nbsp;&nbsp;</span>Обзор</a></span></li><li><span><a href=\"#Preprocessing\" data-toc-modified-id=\"Preprocessing-7\"><span class=\"toc-item-num\">7&nbsp;&nbsp;</span>Предварительная обработка</a></span><ul class=\"toc-item\"><li><span><a href=\"#Artifacts\" data-toc-modified-id=\"Artifacts-7.1\"><span class=\"toc-item-num\">7.1&nbsp;&nbsp;</span>Артефакты</a></span><ul class=\"toc-item\"><li><span><a href=\"#Price\" data-toc-modified-id=\"Price-7.1.1\"><span class=\"toc-item-num\">7.1.1&nbsp;&nbsp;</span>Цена</a></span><ul class=\"toc-item\"><li><span><a href=\"#Car-brand\" data-toc-modified-id=\"Car-brand-7.1.1.1\"><span class=\"toc-item-num\">7.1.1.1&nbsp;&nbsp;</span>Марка автомобиля</a></span></li><li><span><a href=\"#Unusually-high-values\" data-toc-modified-id=\"Unusually-high-values-7.1.1.2\"><span class=\"toc-item-num\">7.1.1.2&nbsp;&nbsp;</span>Необычно высокие значения</a></span></li><li><span><a href=\"#Other-artifacts\" data-toc-modified-id=\"Other-artifacts-7.1.1.3\"><span class=\"toc-item-num\">7.1.1.3&nbsp;&nbsp;</span>Другие артефакты</a></span></li></ul></li></ul></li><li><span><a href=\"#Missing-values\" data-toc-modified-id=\"Missing-values-7.2\"><span class=\"toc-item-num\">7.2&nbsp;&nbsp;</span>Отсутствующие значения</a></span><ul class=\"toc-item\"><li><span><a href=\"#Is_4wd\" data-toc-modified-id=\"Is_4wd-7.2.1\"><span class=\"toc-item-num\">7.2.1&nbsp;&nbsp;</span>Полный привод</a></span></li><li><span><a href=\"#Odometer\" data-toc-modified-id=\"Odometer-7.2.2\"><span class=\"toc-item-num\">7.2.2&nbsp;&nbsp;</span>Пробег</a></span></li><li><span><a href=\"#Model_year\" data-toc-modified-id=\"Model_year-7.2.3\"><span class=\"toc-item-num\">7.2.3&nbsp;&nbsp;</span>Год выпуска</a></span></li><li><span><a href=\"#Cylinders\" data-toc-modified-id=\"Cylinders-7.2.4\"><span class=\"toc-item-num\">7.2.4&nbsp;&nbsp;</span>Цилиндр</a></span></li><li><span><a href=\"#Paint-color\" data-toc-modified-id=\"Paint-color-7.2.5\"><span class=\"toc-item-num\">7.2.5&nbsp;&nbsp;</span>Цвет краски</a></span></li></ul></li><li><span><a href=\"#Data-type-change\" data-toc-modified-id=\"Data-type-change-7.3\"><span class=\"toc-item-num\">7.3&nbsp;&nbsp;</span>Изменение типа данных</a></span></li><li><span><a href=\"#Duplicates\" data-toc-modified-id=\"Duplicates-7.4\"><span class=\"toc-item-num\">7.4&nbsp;&nbsp;</span>Дубликаты</a></span></li></ul></li><li><span><a href=\"#Calculations\" data-toc-modified-id=\"Calculations-8\"><span class=\"toc-item-num\">8&nbsp;&nbsp;</span>Расчеты</a></span><ul class=\"toc-item\"><li><span><a href=\"#Month-and-DOW-when-the-ad-was-posted\" data-toc-modified-id=\"Month-and-DOW-when-the-ad-was-posted-8.1\"><span class=\"toc-item-num\">8.1&nbsp;&nbsp;</span>Месяц и DOW, когда было размещено объявление</a></span></li><li><span><a href=\"#Age-in-years\" data-toc-modified-id=\"Age-in-years-8.2\"><span class=\"toc-item-num\">8.2&nbsp;&nbsp;</span>Возраст в годах</a></span></li><li><span><a href=\"#Average-mileage-per-year\" data-toc-modified-id=\"Average-mileage-per-year-8.3\"><span class=\"toc-item-num\">8.3&nbsp;&nbsp;</span>Средний пробег в год</a></span></li><li><span><a href=\"#Condition\" data-toc-modified-id=\"Condition-8.4\"><span class=\"toc-item-num\">8.4&nbsp;&nbsp;</span>Состояние</a></span></li></ul></li><li><span><a href=\"#EDA\" data-toc-modified-id=\"EDA-9\"><span class=\"toc-item-num\">9&nbsp;&nbsp;</span>EDA</a></span><ul class=\"toc-item\"><li><span><a href=\"#Histograms\" data-toc-modified-id=\"Histograms-9.1\"><span class=\"toc-item-num\">9.1&nbsp;&nbsp;</span>Гистограммы</a></span><ul class=\"toc-item\"><li><span><a href=\"#Price\" data-toc-modified-id=\"Price-9.1.1\"><span class=\"toc-item-num\">9.1.1&nbsp;&nbsp;</span>Цена</a></span></li><li><span><a href=\"#Condition\" data-toc-modified-id=\"Condition-9.1.2\"><span class=\"toc-item-num\">9.1.2&nbsp;&nbsp;</span>Состояние</a></span></li><li><span><a href=\"#Age-of-a-vehicle-when-the-ad-was-placed\" data-toc-modified-id=\"Age-of-a-vehicle-when-the-ad-was-placed-9.1.3\"><span class=\"toc-item-num\">9.1.3&nbsp;&nbsp;</span>Возраст транспортного средства, когда было размещено объявление</a></span></li><li><span><a href=\"#Odometer\" data-toc-modified-id=\"Odometer-9.1.4\"><span class=\"toc-item-num\">9.1.4&nbsp;&nbsp;</span>Пробег</a></span></li><li><span><a href=\"#Cylinders\" data-toc-modified-id=\"Cylinders-9.1.5\"><span class=\"toc-item-num\">9.1.5&nbsp;&nbsp;</span>Цилиндр</a></span></li><li><span><a href=\"#Days_listed\" data-toc-modified-id=\"Days_listed-9.1.6\"><span class=\"toc-item-num\">9.1.6&nbsp;&nbsp;</span>Days_listed</a></span></li></ul></li><li><span><a href=\"#Removing-outliers\" data-toc-modified-id=\"Removing-outliers-9.2\"><span class=\"toc-item-num\">9.2&nbsp;&nbsp;</span>Удаление выбросов</a></span><ul class=\"toc-item\"><li><span><a href=\"#Identifying-type-of-a-distribution\" data-toc-modified-id=\"Identifying-type-of-a-distribution-9.2.1\"><span class=\"toc-item-num\">9.2.1&nbsp;&nbsp;</span>Определение типа дистрибутива</a></span></li><li><span><a href=\"#Using-IQR-to-remove-outliers\" data-toc-modified-id=\"Using-IQR-to-remove-outliers-9.2.2\"><span class=\"toc-item-num\">9.2.2&nbsp;&nbsp;</span>Использование IQR для удаления выбросов</a></span></li><li><span><a href=\"#Filtered-data-histograms\" data-toc-modified-id=\"Filtered-data-histograms-9.2.3\"><span class=\"toc-item-num\">9.2.3&nbsp;&nbsp;</span>Гистограммы отфильтрованных данных</a></span></li></ul></li><li><span><a href=\"#Type-of-vehicles\" data-toc-modified-id=\"Type-of-vehicles-9.3\"><span class=\"toc-item-num\">9.3&nbsp;&nbsp;</span>Тип транспортных средств</a></span></li><li><span><a href=\"#Factors-influencing-price\" data-toc-modified-id=\"Factors-influencing-price-9.4\"><span class=\"toc-item-num\">9.4&nbsp;&nbsp;</span>Факторы, влияющие на цену</a></span><ul class=\"toc-item\"><li><span><a href=\"#Condition-vs-price\" data-toc-modified-id=\"Condition-vs-price-9.4.1\"><span class=\"toc-item-num\">9.4.1&nbsp;&nbsp;</span>Состояние vs цена</a></span></li><li><span><a href=\"#Transmission-type-vs-price\" data-toc-modified-id=\"Transmission-type-vs-price-9.4.2\"><span class=\"toc-item-num\">9.4.2&nbsp;&nbsp;</span>Тип коробки передач vs цена</a></span></li><li><span><a href=\"#Paint-color-vs-price\" data-toc-modified-id=\"Paint-color-vs-price-9.4.3\"><span class=\"toc-item-num\">9.4.3&nbsp;&nbsp;</span>Цвет краски vs цена</a></span></li><li><span><a href=\"#Age-vs-price\" data-toc-modified-id=\"Age-vs-price-9.4.4\"><span class=\"toc-item-num\">9.4.4&nbsp;&nbsp;</span>Возраст vs цена</a></span></li><li><span><a href=\"#Mileage-vs-price\" data-toc-modified-id=\"Mileage-vs-price-9.4.5\"><span class=\"toc-item-num\">9.4.5&nbsp;&nbsp;</span>Пробег vs цена</a></span></li></ul></li></ul></li></ul></div>"
   ]
  },
  {
   "cell_type": "markdown",
   "metadata": {},
   "source": [
    "### Цель\n",
    "Подготовьте отчет для списка коленчатых валов, чтобы определить, влияют ли возраст, пробег, состояние, тип трансмиссии и цвет на цену транспортного средства на основе данных, собранных за последние несколько лет"
   ]
  },
  {
   "cell_type": "markdown",
   "metadata": {},
   "source": [
    "### Гипотеза\n",
    "Исходя из здравого смысла, мы прогнозируем следующие тенденции:\n",
    "\n",
    "1. Чем старше транспортное средство, тем ниже цена;\n",
    "2. Чем выше пробег, тем ниже цена;\n",
    "3. Транспортное средство с состоянием «новый» должно быть дороже, чем транспортное средство с состоянием «аварийный»;\n",
    "4. Тип передачи, вероятно, зависит от клиента и не должен иметь четкой связи с ценой;\n",
    "5. Цвет также является предпочтением конкретного клиента, но все же некоторые цвета могут быть более популярными, чем другие, поэтому цена автомобиля может быть выше для более популярного цвета."
   ]
  },
  {
   "cell_type": "markdown",
   "metadata": {},
   "source": [
    "### Описание данных¶\n",
    "Набор данных содержит следующие поля:\n",
    "\n",
    "- price\n",
    "- model_year\n",
    "- model\n",
    "- condition\n",
    "- cylinders\n",
    "- fuel — газ, дизельное топливо и т.д.\n",
    "- odometer — пробег автомобиля на момент публикации объявления\n",
    "- transmission\n",
    "- paint_color\n",
    "- is_4wd — имеет ли автомобиль 4-колесный привод (булев тип)\n",
    "- date_posted — дата публикации объявления\n",
    "- days_listed — от публикации до удаления"
   ]
  },
  {
   "cell_type": "markdown",
   "metadata": {},
   "source": [
    "### Импорт"
   ]
  },
  {
   "cell_type": "code",
   "execution_count": 1,
   "metadata": {},
   "outputs": [
    {
     "name": "stdout",
     "output_type": "stream",
     "text": [
      "Setup Complete\n"
     ]
    }
   ],
   "source": [
    "import pandas as pd\n",
    "import numpy as np\n",
    "\n",
    "import matplotlib.pyplot as plt\n",
    "%matplotlib inline\n",
    "\n",
    "import sys\n",
    "import warnings\n",
    "if not sys.warnoptions:\n",
    "       warnings.simplefilter(\"ignore\")\n",
    "\n",
    "# pd.set_option('display.max_rows', None)\n",
    "\n",
    "print(\"Setup Complete\")"
   ]
  },
  {
   "cell_type": "markdown",
   "metadata": {},
   "source": [
    "### Входные данные"
   ]
  },
  {
   "cell_type": "code",
   "execution_count": 2,
   "metadata": {},
   "outputs": [],
   "source": [
    "try:\n",
    "    df = pd.read_csv('vehicles_us.csv')\n",
    "except:\n",
    "    df = pd.read_csv('/datasets/vehicles_us.csv')"
   ]
  },
  {
   "cell_type": "markdown",
   "metadata": {},
   "source": [
    "### Обзор"
   ]
  },
  {
   "cell_type": "code",
   "execution_count": 4,
   "metadata": {},
   "outputs": [
    {
     "data": {
      "text/html": [
       "<div>\n",
       "<style scoped>\n",
       "    .dataframe tbody tr th:only-of-type {\n",
       "        vertical-align: middle;\n",
       "    }\n",
       "\n",
       "    .dataframe tbody tr th {\n",
       "        vertical-align: top;\n",
       "    }\n",
       "\n",
       "    .dataframe thead th {\n",
       "        text-align: right;\n",
       "    }\n",
       "</style>\n",
       "<table border=\"1\" class=\"dataframe\">\n",
       "  <thead>\n",
       "    <tr style=\"text-align: right;\">\n",
       "      <th></th>\n",
       "      <th>price</th>\n",
       "      <th>model_year</th>\n",
       "      <th>model</th>\n",
       "      <th>condition</th>\n",
       "      <th>cylinders</th>\n",
       "      <th>fuel</th>\n",
       "      <th>odometer</th>\n",
       "      <th>transmission</th>\n",
       "      <th>type</th>\n",
       "      <th>paint_color</th>\n",
       "      <th>is_4wd</th>\n",
       "      <th>date_posted</th>\n",
       "      <th>days_listed</th>\n",
       "    </tr>\n",
       "  </thead>\n",
       "  <tbody>\n",
       "    <tr>\n",
       "      <th>0</th>\n",
       "      <td>9400</td>\n",
       "      <td>2011.0</td>\n",
       "      <td>bmw x5</td>\n",
       "      <td>good</td>\n",
       "      <td>6.0</td>\n",
       "      <td>gas</td>\n",
       "      <td>145000.0</td>\n",
       "      <td>automatic</td>\n",
       "      <td>SUV</td>\n",
       "      <td>NaN</td>\n",
       "      <td>1.0</td>\n",
       "      <td>2018-06-23</td>\n",
       "      <td>19</td>\n",
       "    </tr>\n",
       "    <tr>\n",
       "      <th>1</th>\n",
       "      <td>25500</td>\n",
       "      <td>NaN</td>\n",
       "      <td>ford f-150</td>\n",
       "      <td>good</td>\n",
       "      <td>6.0</td>\n",
       "      <td>gas</td>\n",
       "      <td>88705.0</td>\n",
       "      <td>automatic</td>\n",
       "      <td>pickup</td>\n",
       "      <td>white</td>\n",
       "      <td>1.0</td>\n",
       "      <td>2018-10-19</td>\n",
       "      <td>50</td>\n",
       "    </tr>\n",
       "    <tr>\n",
       "      <th>2</th>\n",
       "      <td>5500</td>\n",
       "      <td>2013.0</td>\n",
       "      <td>hyundai sonata</td>\n",
       "      <td>like new</td>\n",
       "      <td>4.0</td>\n",
       "      <td>gas</td>\n",
       "      <td>110000.0</td>\n",
       "      <td>automatic</td>\n",
       "      <td>sedan</td>\n",
       "      <td>red</td>\n",
       "      <td>NaN</td>\n",
       "      <td>2019-02-07</td>\n",
       "      <td>79</td>\n",
       "    </tr>\n",
       "    <tr>\n",
       "      <th>3</th>\n",
       "      <td>1500</td>\n",
       "      <td>2003.0</td>\n",
       "      <td>ford f-150</td>\n",
       "      <td>fair</td>\n",
       "      <td>8.0</td>\n",
       "      <td>gas</td>\n",
       "      <td>NaN</td>\n",
       "      <td>automatic</td>\n",
       "      <td>pickup</td>\n",
       "      <td>NaN</td>\n",
       "      <td>NaN</td>\n",
       "      <td>2019-03-22</td>\n",
       "      <td>9</td>\n",
       "    </tr>\n",
       "    <tr>\n",
       "      <th>4</th>\n",
       "      <td>14900</td>\n",
       "      <td>2017.0</td>\n",
       "      <td>chrysler 200</td>\n",
       "      <td>excellent</td>\n",
       "      <td>4.0</td>\n",
       "      <td>gas</td>\n",
       "      <td>80903.0</td>\n",
       "      <td>automatic</td>\n",
       "      <td>sedan</td>\n",
       "      <td>black</td>\n",
       "      <td>NaN</td>\n",
       "      <td>2019-04-02</td>\n",
       "      <td>28</td>\n",
       "    </tr>\n",
       "    <tr>\n",
       "      <th>5</th>\n",
       "      <td>14990</td>\n",
       "      <td>2014.0</td>\n",
       "      <td>chrysler 300</td>\n",
       "      <td>excellent</td>\n",
       "      <td>6.0</td>\n",
       "      <td>gas</td>\n",
       "      <td>57954.0</td>\n",
       "      <td>automatic</td>\n",
       "      <td>sedan</td>\n",
       "      <td>black</td>\n",
       "      <td>1.0</td>\n",
       "      <td>2018-06-20</td>\n",
       "      <td>15</td>\n",
       "    </tr>\n",
       "    <tr>\n",
       "      <th>6</th>\n",
       "      <td>12990</td>\n",
       "      <td>2015.0</td>\n",
       "      <td>toyota camry</td>\n",
       "      <td>excellent</td>\n",
       "      <td>4.0</td>\n",
       "      <td>gas</td>\n",
       "      <td>79212.0</td>\n",
       "      <td>automatic</td>\n",
       "      <td>sedan</td>\n",
       "      <td>white</td>\n",
       "      <td>NaN</td>\n",
       "      <td>2018-12-27</td>\n",
       "      <td>73</td>\n",
       "    </tr>\n",
       "    <tr>\n",
       "      <th>7</th>\n",
       "      <td>15990</td>\n",
       "      <td>2013.0</td>\n",
       "      <td>honda pilot</td>\n",
       "      <td>excellent</td>\n",
       "      <td>6.0</td>\n",
       "      <td>gas</td>\n",
       "      <td>109473.0</td>\n",
       "      <td>automatic</td>\n",
       "      <td>SUV</td>\n",
       "      <td>black</td>\n",
       "      <td>1.0</td>\n",
       "      <td>2019-01-07</td>\n",
       "      <td>68</td>\n",
       "    </tr>\n",
       "    <tr>\n",
       "      <th>8</th>\n",
       "      <td>11500</td>\n",
       "      <td>2012.0</td>\n",
       "      <td>kia sorento</td>\n",
       "      <td>excellent</td>\n",
       "      <td>4.0</td>\n",
       "      <td>gas</td>\n",
       "      <td>104174.0</td>\n",
       "      <td>automatic</td>\n",
       "      <td>SUV</td>\n",
       "      <td>NaN</td>\n",
       "      <td>1.0</td>\n",
       "      <td>2018-07-16</td>\n",
       "      <td>19</td>\n",
       "    </tr>\n",
       "    <tr>\n",
       "      <th>9</th>\n",
       "      <td>9200</td>\n",
       "      <td>2008.0</td>\n",
       "      <td>honda pilot</td>\n",
       "      <td>excellent</td>\n",
       "      <td>NaN</td>\n",
       "      <td>gas</td>\n",
       "      <td>147191.0</td>\n",
       "      <td>automatic</td>\n",
       "      <td>SUV</td>\n",
       "      <td>blue</td>\n",
       "      <td>1.0</td>\n",
       "      <td>2019-02-15</td>\n",
       "      <td>17</td>\n",
       "    </tr>\n",
       "  </tbody>\n",
       "</table>\n",
       "</div>"
      ],
      "text/plain": [
       "   price  model_year           model  condition  cylinders fuel  odometer  \\\n",
       "0   9400      2011.0          bmw x5       good        6.0  gas  145000.0   \n",
       "1  25500         NaN      ford f-150       good        6.0  gas   88705.0   \n",
       "2   5500      2013.0  hyundai sonata   like new        4.0  gas  110000.0   \n",
       "3   1500      2003.0      ford f-150       fair        8.0  gas       NaN   \n",
       "4  14900      2017.0    chrysler 200  excellent        4.0  gas   80903.0   \n",
       "5  14990      2014.0    chrysler 300  excellent        6.0  gas   57954.0   \n",
       "6  12990      2015.0    toyota camry  excellent        4.0  gas   79212.0   \n",
       "7  15990      2013.0     honda pilot  excellent        6.0  gas  109473.0   \n",
       "8  11500      2012.0     kia sorento  excellent        4.0  gas  104174.0   \n",
       "9   9200      2008.0     honda pilot  excellent        NaN  gas  147191.0   \n",
       "\n",
       "  transmission    type paint_color  is_4wd date_posted  days_listed  \n",
       "0    automatic     SUV         NaN     1.0  2018-06-23           19  \n",
       "1    automatic  pickup       white     1.0  2018-10-19           50  \n",
       "2    automatic   sedan         red     NaN  2019-02-07           79  \n",
       "3    automatic  pickup         NaN     NaN  2019-03-22            9  \n",
       "4    automatic   sedan       black     NaN  2019-04-02           28  \n",
       "5    automatic   sedan       black     1.0  2018-06-20           15  \n",
       "6    automatic   sedan       white     NaN  2018-12-27           73  \n",
       "7    automatic     SUV       black     1.0  2019-01-07           68  \n",
       "8    automatic     SUV         NaN     1.0  2018-07-16           19  \n",
       "9    automatic     SUV        blue     1.0  2019-02-15           17  "
      ]
     },
     "execution_count": 4,
     "metadata": {},
     "output_type": "execute_result"
    }
   ],
   "source": [
    "df.head(10)"
   ]
  },
  {
   "cell_type": "code",
   "execution_count": 5,
   "metadata": {},
   "outputs": [
    {
     "name": "stdout",
     "output_type": "stream",
     "text": [
      "<class 'pandas.core.frame.DataFrame'>\n",
      "RangeIndex: 51525 entries, 0 to 51524\n",
      "Data columns (total 13 columns):\n",
      " #   Column        Non-Null Count  Dtype  \n",
      "---  ------        --------------  -----  \n",
      " 0   price         51525 non-null  int64  \n",
      " 1   model_year    47906 non-null  float64\n",
      " 2   model         51525 non-null  object \n",
      " 3   condition     51525 non-null  object \n",
      " 4   cylinders     46265 non-null  float64\n",
      " 5   fuel          51525 non-null  object \n",
      " 6   odometer      43633 non-null  float64\n",
      " 7   transmission  51525 non-null  object \n",
      " 8   type          51525 non-null  object \n",
      " 9   paint_color   42258 non-null  object \n",
      " 10  is_4wd        25572 non-null  float64\n",
      " 11  date_posted   51525 non-null  object \n",
      " 12  days_listed   51525 non-null  int64  \n",
      "dtypes: float64(4), int64(2), object(7)\n",
      "memory usage: 5.1+ MB\n"
     ]
    }
   ],
   "source": [
    "df.info()"
   ]
  },
  {
   "cell_type": "markdown",
   "metadata": {},
   "source": [
    "Из приведенной выше таблицы можно сделать следующие выводы:\n",
    "\n",
    "- Набор данных включает 51525 наблюдений и 13 колонок;\n",
    "- Столбец является целевой переменной, а остальные 12 столбцов являются объектами;price\n",
    "- 4 признака числовые, остальные 9 категоричны;\n",
    "- Тип данных Float должен быть изменен на целое число;\n",
    "- is_4wd является плавающей, но категориальной (двоичной) переменной является сущность (True = 1, False = 0);\n",
    "- date_posted столбец должен быть преобразован в формат date_time;\n",
    "- Значения отсутствуют в , , , , (почти половина отсутствует);model_yearcylindersodometerpaint_coloris_4wd\n",
    "- Названия столбцов кажутся правильными."
   ]
  },
  {
   "cell_type": "code",
   "execution_count": 7,
   "metadata": {},
   "outputs": [
    {
     "data": {
      "text/html": [
       "<div>\n",
       "<style scoped>\n",
       "    .dataframe tbody tr th:only-of-type {\n",
       "        vertical-align: middle;\n",
       "    }\n",
       "\n",
       "    .dataframe tbody tr th {\n",
       "        vertical-align: top;\n",
       "    }\n",
       "\n",
       "    .dataframe thead th {\n",
       "        text-align: right;\n",
       "    }\n",
       "</style>\n",
       "<table border=\"1\" class=\"dataframe\">\n",
       "  <thead>\n",
       "    <tr style=\"text-align: right;\">\n",
       "      <th></th>\n",
       "      <th>price</th>\n",
       "      <th>model_year</th>\n",
       "      <th>cylinders</th>\n",
       "      <th>odometer</th>\n",
       "      <th>is_4wd</th>\n",
       "      <th>days_listed</th>\n",
       "    </tr>\n",
       "  </thead>\n",
       "  <tbody>\n",
       "    <tr>\n",
       "      <th>count</th>\n",
       "      <td>51525.000000</td>\n",
       "      <td>47906.000000</td>\n",
       "      <td>46265.000000</td>\n",
       "      <td>43633.000000</td>\n",
       "      <td>25572.0</td>\n",
       "      <td>51525.00000</td>\n",
       "    </tr>\n",
       "    <tr>\n",
       "      <th>mean</th>\n",
       "      <td>12132.464920</td>\n",
       "      <td>2009.750470</td>\n",
       "      <td>6.125235</td>\n",
       "      <td>115553.461738</td>\n",
       "      <td>1.0</td>\n",
       "      <td>39.55476</td>\n",
       "    </tr>\n",
       "    <tr>\n",
       "      <th>std</th>\n",
       "      <td>10040.803015</td>\n",
       "      <td>6.282065</td>\n",
       "      <td>1.660360</td>\n",
       "      <td>65094.611341</td>\n",
       "      <td>0.0</td>\n",
       "      <td>28.20427</td>\n",
       "    </tr>\n",
       "    <tr>\n",
       "      <th>min</th>\n",
       "      <td>1.000000</td>\n",
       "      <td>1908.000000</td>\n",
       "      <td>3.000000</td>\n",
       "      <td>0.000000</td>\n",
       "      <td>1.0</td>\n",
       "      <td>0.00000</td>\n",
       "    </tr>\n",
       "    <tr>\n",
       "      <th>25%</th>\n",
       "      <td>5000.000000</td>\n",
       "      <td>2006.000000</td>\n",
       "      <td>4.000000</td>\n",
       "      <td>70000.000000</td>\n",
       "      <td>1.0</td>\n",
       "      <td>19.00000</td>\n",
       "    </tr>\n",
       "    <tr>\n",
       "      <th>50%</th>\n",
       "      <td>9000.000000</td>\n",
       "      <td>2011.000000</td>\n",
       "      <td>6.000000</td>\n",
       "      <td>113000.000000</td>\n",
       "      <td>1.0</td>\n",
       "      <td>33.00000</td>\n",
       "    </tr>\n",
       "    <tr>\n",
       "      <th>75%</th>\n",
       "      <td>16839.000000</td>\n",
       "      <td>2014.000000</td>\n",
       "      <td>8.000000</td>\n",
       "      <td>155000.000000</td>\n",
       "      <td>1.0</td>\n",
       "      <td>53.00000</td>\n",
       "    </tr>\n",
       "    <tr>\n",
       "      <th>max</th>\n",
       "      <td>375000.000000</td>\n",
       "      <td>2019.000000</td>\n",
       "      <td>12.000000</td>\n",
       "      <td>990000.000000</td>\n",
       "      <td>1.0</td>\n",
       "      <td>271.00000</td>\n",
       "    </tr>\n",
       "  </tbody>\n",
       "</table>\n",
       "</div>"
      ],
      "text/plain": [
       "               price    model_year     cylinders       odometer   is_4wd  \\\n",
       "count   51525.000000  47906.000000  46265.000000   43633.000000  25572.0   \n",
       "mean    12132.464920   2009.750470      6.125235  115553.461738      1.0   \n",
       "std     10040.803015      6.282065      1.660360   65094.611341      0.0   \n",
       "min         1.000000   1908.000000      3.000000       0.000000      1.0   \n",
       "25%      5000.000000   2006.000000      4.000000   70000.000000      1.0   \n",
       "50%      9000.000000   2011.000000      6.000000  113000.000000      1.0   \n",
       "75%     16839.000000   2014.000000      8.000000  155000.000000      1.0   \n",
       "max    375000.000000   2019.000000     12.000000  990000.000000      1.0   \n",
       "\n",
       "       days_listed  \n",
       "count  51525.00000  \n",
       "mean      39.55476  \n",
       "std       28.20427  \n",
       "min        0.00000  \n",
       "25%       19.00000  \n",
       "50%       33.00000  \n",
       "75%       53.00000  \n",
       "max      271.00000  "
      ]
     },
     "execution_count": 7,
     "metadata": {},
     "output_type": "execute_result"
    }
   ],
   "source": [
    "df.describe()"
   ]
  },
  {
   "cell_type": "markdown",
   "metadata": {},
   "source": [
    "Из приведенной выше таблицы можно сделать следующие выводы:\n",
    "\n",
    "- Минимальное значение переменной равно 1, поэтому, вероятно, есть ошибка, которую следует исправить;\n",
    "- price В переменной есть только одна категория значений = '1.0'. Это подтверждает нашу гипотезу о том, что на самом деле это двоичная особенность, где «1» — это «Истина», а «0» — «Ложь». Поэтому все недостающие значения должны быть заменены на '0';\n",
    "- is_4wd Для переменной мы видим, что среднее значение выше медианного значения, предполагая, что распределение имеет длинный хвост больших значений.price"
   ]
  },
  {
   "cell_type": "markdown",
   "metadata": {},
   "source": [
    "### Предварительная обработка¶\n",
    "### Артефакты\n",
    "### Цена\n",
    "Во-первых, давайте посмотрим на нашу целевую переменную, увидим ее распределение и очистим любые артефакты.price"
   ]
  },
  {
   "cell_type": "code",
   "execution_count": 8,
   "metadata": {
    "scrolled": true
   },
   "outputs": [
    {
     "data": {
      "image/png": "[encoded data removed]",
      "text/plain": [
       "<Figure size 432x288 with 1 Axes>"
      ]
     },
     "metadata": {
      "needs_background": "light"
     },
     "output_type": "display_data"
    }
   ],
   "source": [
    "df.hist('price', bins=100, range=(0,100000))\n",
    "plt.title('Price of vehicles: frequency distribution')\n",
    "plt.xlabel('price')\n",
    "plt.ylabel('number of vehicles');"
   ]
  },
  {
   "cell_type": "markdown",
   "metadata": {},
   "source": [
    "Мы видим, что распределение положительно искажено с пиком на отметке 5000. Давайте создадим прямоугольный график для этой переменной, чтобы посмотреть на межквартильный диапазон и измерить его дисперсию."
   ]
  },
  {
   "cell_type": "code",
   "execution_count": 9,
   "metadata": {},
   "outputs": [
    {
     "data": {
      "image/png": "[encoded data removed]",
      "text/plain": [
       "<Figure size 432x288 with 1 Axes>"
      ]
     },
     "metadata": {
      "needs_background": "light"
     },
     "output_type": "display_data"
    }
   ],
   "source": [
    "df.boxplot('price')\n",
    "plt.ylim(-350, 50000)\n",
    "plt.title('Price of vehicles: box-and-whiskers plot')\n",
    "plt.xticks([1], [''])\n",
    "plt.ylabel('price');"
   ]
  },
  {
   "cell_type": "markdown",
   "metadata": {},
   "source": [
    "Мы видим, что большинство значений лежат в диапазоне от 5 000 до 17 000 со медианой около 9000. Усы оказались асимметричными по отношению к коробке: нижний ус равен 0, а верхний — 1,5 IQR выше верхней границы коробки. Добавим к графику квартили и теоретические значения усов."
   ]
  },
  {
   "cell_type": "code",
   "execution_count": 10,
   "metadata": {},
   "outputs": [
    {
     "data": {
      "image/png": "[encoded data removed]",
      "text/plain": [
       "<Figure size 432x288 with 1 Axes>"
      ]
     },
     "metadata": {
      "needs_background": "light"
     },
     "output_type": "display_data"
    }
   ],
   "source": [
    "Q1 = df['price'].quantile(0.25)\n",
    "Q3 = df['price'].quantile(0.75)\n",
    "IQR = Q3 - Q1\n",
    "lower_whisker = Q1 - 1.5 * IQR\n",
    "plt.ylim(-20000, 50000)\n",
    "df.boxplot('price')\n",
    "plt.hlines(y=lower_whisker, xmin=0.9, xmax=1.1, color='red')\n",
    "\n",
    "plt.title('Price of vehicles: box plot with theoretical whisker')\n",
    "plt.xticks([1], [''])\n",
    "plt.ylabel('price');"
   ]
  },
  {
   "cell_type": "markdown",
   "metadata": {},
   "source": [
    "Мы видим, что теоретическое значение нижнего уса меньше минимального, поэтому раньше оно отображалось на минимальном значении. Обычно все, что выше верхнего уса (и ниже нижнего уса), считается выбросом, но поскольку их так много (черная линия толстая), они не являются выбросами, а скорее особенностью этого набора данных. Так что это должны быть некоторые супер роскошные автомобили, давайте посмотрим на автомобиль с самой высокой ценой в этом наборе данных."
   ]
  },
  {
   "cell_type": "code",
   "execution_count": 11,
   "metadata": {},
   "outputs": [
    {
     "data": {
      "text/html": [
       "<div>\n",
       "<style scoped>\n",
       "    .dataframe tbody tr th:only-of-type {\n",
       "        vertical-align: middle;\n",
       "    }\n",
       "\n",
       "    .dataframe tbody tr th {\n",
       "        vertical-align: top;\n",
       "    }\n",
       "\n",
       "    .dataframe thead th {\n",
       "        text-align: right;\n",
       "    }\n",
       "</style>\n",
       "<table border=\"1\" class=\"dataframe\">\n",
       "  <thead>\n",
       "    <tr style=\"text-align: right;\">\n",
       "      <th></th>\n",
       "      <th>price</th>\n",
       "      <th>model_year</th>\n",
       "      <th>model</th>\n",
       "      <th>condition</th>\n",
       "      <th>cylinders</th>\n",
       "      <th>fuel</th>\n",
       "      <th>odometer</th>\n",
       "      <th>transmission</th>\n",
       "      <th>type</th>\n",
       "      <th>paint_color</th>\n",
       "      <th>is_4wd</th>\n",
       "      <th>date_posted</th>\n",
       "      <th>days_listed</th>\n",
       "    </tr>\n",
       "  </thead>\n",
       "  <tbody>\n",
       "    <tr>\n",
       "      <th>12504</th>\n",
       "      <td>375000</td>\n",
       "      <td>1999.0</td>\n",
       "      <td>nissan frontier</td>\n",
       "      <td>good</td>\n",
       "      <td>6.0</td>\n",
       "      <td>gas</td>\n",
       "      <td>115000.0</td>\n",
       "      <td>automatic</td>\n",
       "      <td>pickup</td>\n",
       "      <td>blue</td>\n",
       "      <td>1.0</td>\n",
       "      <td>2018-05-19</td>\n",
       "      <td>21</td>\n",
       "    </tr>\n",
       "  </tbody>\n",
       "</table>\n",
       "</div>"
      ],
      "text/plain": [
       "        price  model_year            model condition  cylinders fuel  \\\n",
       "12504  375000      1999.0  nissan frontier      good        6.0  gas   \n",
       "\n",
       "       odometer transmission    type paint_color  is_4wd date_posted  \\\n",
       "12504  115000.0    automatic  pickup        blue     1.0  2018-05-19   \n",
       "\n",
       "       days_listed  \n",
       "12504           21  "
      ]
     },
     "execution_count": 11,
     "metadata": {},
     "output_type": "execute_result"
    }
   ],
   "source": [
    "df[df['price'] == df['price'].max()]"
   ]
  },
  {
   "cell_type": "markdown",
   "metadata": {},
   "source": [
    "При поиске в Google цена именно этой модели кажется в 10 раз ниже в реальности (около 37 500 usd). Этот факт говорит о том, что при подготовке данных произошла какая-то ошибка (человеческая или техническая)."
   ]
  },
  {
   "cell_type": "markdown",
   "metadata": {},
   "source": [
    "###### Марка автомобиля¶\n",
    "В этом разделе мы выявим наблюдения с необычно высокими ценами. Представляется разумным предположить, что ценовой диапазон зависит от типа автомобиля, а также от марки автомобиля. Сначала мы извлекем марку автомобиля из названия модели, а затем сгруппируем данные на основе как типа, так и марки."
   ]
  },
  {
   "cell_type": "code",
   "execution_count": 14,
   "metadata": {},
   "outputs": [
    {
     "data": {
      "text/plain": [
       "ford f-150                  2796\n",
       "chevrolet silverado 1500    2171\n",
       "ram 1500                    1750\n",
       "chevrolet silverado         1271\n",
       "jeep wrangler               1119\n",
       "Name: model, dtype: int64"
      ]
     },
     "execution_count": 14,
     "metadata": {},
     "output_type": "execute_result"
    }
   ],
   "source": [
    "df['model'].value_counts().head()"
   ]
  },
  {
   "cell_type": "markdown",
   "metadata": {},
   "source": [
    "Мы видим, что первым словом в названии модели является марка автомобиля. Давайте создадим функцию, которая будет извлекать название бренда."
   ]
  },
  {
   "cell_type": "code",
   "execution_count": 15,
   "metadata": {},
   "outputs": [],
   "source": [
    "def brand(row):\n",
    "    \"\"\"\n",
    "    Takes in a vehicle's model and returns its brand\n",
    "    \"\"\"\n",
    "    \n",
    "    model = row['model']\n",
    "    model_split = model.split(' ')\n",
    "    brand = model_split[0]\n",
    "    return brand"
   ]
  },
  {
   "cell_type": "code",
   "execution_count": 16,
   "metadata": {},
   "outputs": [],
   "source": [
    "df['brand'] = df.apply(brand, axis=1)"
   ]
  },
  {
   "cell_type": "code",
   "execution_count": 17,
   "metadata": {},
   "outputs": [
    {
     "data": {
      "text/plain": [
       "ford             12672\n",
       "chevrolet        10611\n",
       "toyota            5445\n",
       "honda             3485\n",
       "ram               3316\n",
       "jeep              3281\n",
       "nissan            3208\n",
       "gmc               2378\n",
       "subaru            1272\n",
       "dodge             1255\n",
       "hyundai           1173\n",
       "volkswagen         869\n",
       "chrysler           838\n",
       "kia                585\n",
       "cadillac           322\n",
       "buick              271\n",
       "bmw                267\n",
       "acura              236\n",
       "mercedes-benz       41\n",
       "Name: brand, dtype: int64"
      ]
     },
     "execution_count": 17,
     "metadata": {},
     "output_type": "execute_result"
    }
   ],
   "source": [
    "df['brand'].value_counts()"
   ]
  },
  {
   "cell_type": "code",
   "execution_count": 18,
   "metadata": {},
   "outputs": [
    {
     "data": {
      "image/png": "[encoded data removed]",
      "text/plain": [
       "<Figure size 720x288 with 1 Axes>"
      ]
     },
     "metadata": {
      "needs_background": "light"
     },
     "output_type": "display_data"
    }
   ],
   "source": [
    "df['brand'].value_counts().plot(kind='bar', figsize=(10,4))\n",
    "plt.title(\"Popularity of vehicles' brands\")\n",
    "plt.xlabel('brand')\n",
    "plt.ylabel('frequency');"
   ]
  },
  {
   "cell_type": "markdown",
   "metadata": {},
   "source": [
    "Ford, Chevrolet и Toyota являются самыми популярными брендами в этом наборе данных. Mercedes-benz является наименее популярным брендом в этом наборе данных, вероятно, потому, что это роскошный бренд, поэтому не так много людей могут себе это позволить, по сравнению, например, с Ford."
   ]
  },
  {
   "cell_type": "markdown",
   "metadata": {},
   "source": [
    "###### Необычно высокие значения¶\n",
    "Давайте теперь сгруппируем данные на основе типа и марки автомобиля. Мы отобразим медианную цену для каждой категории, цену 95-го и 99-го квантиля, а также посчитаем, сколько автомобилей у нас есть в этих категориях."
   ]
  },
  {
   "cell_type": "code",
   "execution_count": 19,
   "metadata": {},
   "outputs": [
    {
     "data": {
      "text/html": [
       "<div>\n",
       "<style scoped>\n",
       "    .dataframe tbody tr th:only-of-type {\n",
       "        vertical-align: middle;\n",
       "    }\n",
       "\n",
       "    .dataframe tbody tr th {\n",
       "        vertical-align: top;\n",
       "    }\n",
       "\n",
       "    .dataframe thead th {\n",
       "        text-align: right;\n",
       "    }\n",
       "</style>\n",
       "<table border=\"1\" class=\"dataframe\">\n",
       "  <thead>\n",
       "    <tr style=\"text-align: right;\">\n",
       "      <th></th>\n",
       "      <th></th>\n",
       "      <th>q50</th>\n",
       "      <th>price_q95</th>\n",
       "      <th>over_q95_cnt</th>\n",
       "      <th>price_q99</th>\n",
       "      <th>over_q99_cnt</th>\n",
       "      <th>price_max</th>\n",
       "    </tr>\n",
       "    <tr>\n",
       "      <th>brand</th>\n",
       "      <th>type</th>\n",
       "      <th></th>\n",
       "      <th></th>\n",
       "      <th></th>\n",
       "      <th></th>\n",
       "      <th></th>\n",
       "      <th></th>\n",
       "    </tr>\n",
       "  </thead>\n",
       "  <tbody>\n",
       "    <tr>\n",
       "      <th rowspan=\"3\" valign=\"top\">acura</th>\n",
       "      <th>SUV</th>\n",
       "      <td>4950.0</td>\n",
       "      <td>4950.0</td>\n",
       "      <td>0</td>\n",
       "      <td>4950.00</td>\n",
       "      <td>0</td>\n",
       "      <td>4950</td>\n",
       "    </tr>\n",
       "    <tr>\n",
       "      <th>other</th>\n",
       "      <td>4595.0</td>\n",
       "      <td>5400.5</td>\n",
       "      <td>1</td>\n",
       "      <td>5472.10</td>\n",
       "      <td>1</td>\n",
       "      <td>5490</td>\n",
       "    </tr>\n",
       "    <tr>\n",
       "      <th>sedan</th>\n",
       "      <td>5950.0</td>\n",
       "      <td>12995.0</td>\n",
       "      <td>10</td>\n",
       "      <td>13845.00</td>\n",
       "      <td>3</td>\n",
       "      <td>14498</td>\n",
       "    </tr>\n",
       "    <tr>\n",
       "      <th rowspan=\"2\" valign=\"top\">bmw</th>\n",
       "      <th>SUV</th>\n",
       "      <td>9925.0</td>\n",
       "      <td>23999.0</td>\n",
       "      <td>11</td>\n",
       "      <td>36030.68</td>\n",
       "      <td>3</td>\n",
       "      <td>50000</td>\n",
       "    </tr>\n",
       "    <tr>\n",
       "      <th>hatchback</th>\n",
       "      <td>6000.0</td>\n",
       "      <td>6000.0</td>\n",
       "      <td>0</td>\n",
       "      <td>6000.00</td>\n",
       "      <td>0</td>\n",
       "      <td>6000</td>\n",
       "    </tr>\n",
       "  </tbody>\n",
       "</table>\n",
       "</div>"
      ],
      "text/plain": [
       "                    q50  price_q95  over_q95_cnt  price_q99  over_q99_cnt  \\\n",
       "brand type                                                                  \n",
       "acura SUV        4950.0     4950.0             0    4950.00             0   \n",
       "      other      4595.0     5400.5             1    5472.10             1   \n",
       "      sedan      5950.0    12995.0            10   13845.00             3   \n",
       "bmw   SUV        9925.0    23999.0            11   36030.68             3   \n",
       "      hatchback  6000.0     6000.0             0    6000.00             0   \n",
       "\n",
       "                 price_max  \n",
       "brand type                  \n",
       "acura SUV             4950  \n",
       "      other           5490  \n",
       "      sedan          14498  \n",
       "bmw   SUV            50000  \n",
       "      hatchback       6000  "
      ]
     },
     "execution_count": 19,
     "metadata": {},
     "output_type": "execute_result"
    }
   ],
   "source": [
    "def q95(x): \n",
    "    return np.quantile(x, 0.95)\n",
    "def q99(x):\n",
    "    return np.quantile(x, 0.99)\n",
    "def over_q95_cnt(x):\n",
    "    return sum(x > np.quantile(x, 0.95))\n",
    "def over_q99_cnt(x):\n",
    "    return sum(x > np.quantile(x, 0.99))\n",
    "df.groupby(['brand','type']).agg(q50=('price', 'median'), \n",
    "                       price_q95=('price', q95), \n",
    "                       over_q95_cnt=('price', over_q95_cnt), \n",
    "                       price_q99=('price', q99), \n",
    "                       over_q99_cnt=('price', over_q99_cnt), \n",
    "                       price_max=('price', 'max')).head()"
   ]
  },
  {
   "cell_type": "markdown",
   "metadata": {},
   "source": [
    "Исходя из приведенной выше таблицы, предположим, что все автомобили с их ценами выше 98-го квантиля в одной группе являются необычными случаями. Они либо завышены, либо какие-то роскошные кейсы, либо были просто неправильно введены. Мы видим, что их количество незначительно и не сильно влияет на этот анализ, поэтому мы собираемся исключить их."
   ]
  },
  {
   "cell_type": "code",
   "execution_count": 20,
   "metadata": {},
   "outputs": [],
   "source": [
    "q99 = df.groupby(['brand','type']).agg(price_q99=('price', q99))\n",
    "q99_dict = q99.to_dict()"
   ]
  },
  {
   "cell_type": "code",
   "execution_count": 25,
   "metadata": {},
   "outputs": [
    {
     "data": {
      "text/plain": [
       "{'price_q99': {('acura', 'SUV'): 4950.0,\n",
       "  ('acura', 'other'): 5472.1,\n",
       "  ('acura', 'sedan'): 13844.999999999995,\n",
       "  ('bmw', 'SUV'): 36030.68000000001,\n",
       "  ('bmw', 'hatchback'): 6000.0,\n",
       "  ('bmw', 'sedan'): 9900.0,\n",
       "  ('bmw', 'truck'): 12919.98,\n",
       "  ('bmw', 'van'): 12590.0,\n",
       "  ('bmw', 'wagon'): 15936.6,\n",
       "  ('buick', 'SUV'): 29942.0,\n",
       "  ('buick', 'sedan'): 9990.0,\n",
       "  ('buick', 'truck'): 15499.0,\n",
       "  ('buick', 'van'): 6500.0,\n",
       "  ('buick', 'wagon'): 14788.789999999999,\n",
       "  ('cadillac', 'SUV'): 66153.70000000003,\n",
       "  ('cadillac', 'pickup'): 40995.0,\n",
       "  ('cadillac', 'sedan'): 23818.05,\n",
       "  ('cadillac', 'truck'): 13448.0,\n",
       "  ('chevrolet', 'SUV'): 47500.0,\n",
       "  ('chevrolet', 'convertible'): 64996.5,\n",
       "  ('chevrolet', 'coupe'): 56995.0,\n",
       "  ('chevrolet', 'hatchback'): 24505.000000000004,\n",
       "  ('chevrolet', 'mini-van'): 2899.0,\n",
       "  ('chevrolet', 'offroad'): 29522.87,\n",
       "  ('chevrolet', 'other'): 39356.270000000004,\n",
       "  ('chevrolet', 'pickup'): 46924.0,\n",
       "  ('chevrolet', 'sedan'): 20004.999999999996,\n",
       "  ('chevrolet', 'truck'): 54230.15999999979,\n",
       "  ('chevrolet', 'van'): 9628.0,\n",
       "  ('chevrolet', 'wagon'): 14481.149999999992,\n",
       "  ('chrysler', 'SUV'): 14995.0,\n",
       "  ('chrysler', 'convertible'): 11779.45,\n",
       "  ('chrysler', 'coupe'): 9940.0,\n",
       "  ('chrysler', 'hatchback'): 3995.0,\n",
       "  ('chrysler', 'mini-van'): 20000.0,\n",
       "  ('chrysler', 'other'): 5970.0,\n",
       "  ('chrysler', 'sedan'): 21988.0,\n",
       "  ('chrysler', 'van'): 17862.000000000004,\n",
       "  ('chrysler', 'wagon'): 8550.0,\n",
       "  ('dodge', 'SUV'): 24453.999999999996,\n",
       "  ('dodge', 'coupe'): 38960.0,\n",
       "  ('dodge', 'hatchback'): 5800.0,\n",
       "  ('dodge', 'mini-van'): 25043.10000000001,\n",
       "  ('dodge', 'offroad'): 14419.5,\n",
       "  ('dodge', 'other'): 11540.0,\n",
       "  ('dodge', 'pickup'): 10980.15,\n",
       "  ('dodge', 'sedan'): 32999.0,\n",
       "  ('dodge', 'truck'): 11900.0,\n",
       "  ('dodge', 'van'): 18207.219999999972,\n",
       "  ('dodge', 'wagon'): 19031.69,\n",
       "  ('ford', 'SUV'): 34500.0,\n",
       "  ('ford', 'bus'): 28990.0,\n",
       "  ('ford', 'convertible'): 28187.999999999993,\n",
       "  ('ford', 'coupe'): 34998.65,\n",
       "  ('ford', 'hatchback'): 17997.75,\n",
       "  ('ford', 'mini-van'): 5500.0,\n",
       "  ('ford', 'offroad'): 44300.0,\n",
       "  ('ford', 'other'): 40679.67999999999,\n",
       "  ('ford', 'pickup'): 42990.0,\n",
       "  ('ford', 'sedan'): 17304.499999999985,\n",
       "  ('ford', 'truck'): 47989.9,\n",
       "  ('ford', 'van'): 29999.0,\n",
       "  ('ford', 'wagon'): 22490.49999999997,\n",
       "  ('gmc', 'SUV'): 39040.0,\n",
       "  ('gmc', 'offroad'): 54650.0,\n",
       "  ('gmc', 'other'): 15000.0,\n",
       "  ('gmc', 'pickup'): 53636.999999999956,\n",
       "  ('gmc', 'truck'): 49066.499999999935,\n",
       "  ('gmc', 'van'): 23950.0,\n",
       "  ('gmc', 'wagon'): 9727.5,\n",
       "  ('honda', 'SUV'): 26283.91999999992,\n",
       "  ('honda', 'convertible'): 6950.0,\n",
       "  ('honda', 'coupe'): 22988.0,\n",
       "  ('honda', 'hatchback'): 21943.699999999997,\n",
       "  ('honda', 'mini-van'): 24999.81,\n",
       "  ('honda', 'offroad'): 3143.5,\n",
       "  ('honda', 'other'): 23609.859999999993,\n",
       "  ('honda', 'sedan'): 19995.0,\n",
       "  ('honda', 'truck'): 7846.0,\n",
       "  ('honda', 'van'): 31900.0,\n",
       "  ('honda', 'wagon'): 23044.970000000027,\n",
       "  ('hyundai', 'SUV'): 26988.0,\n",
       "  ('hyundai', 'bus'): 7500.0,\n",
       "  ('hyundai', 'coupe'): 9300.000000000002,\n",
       "  ('hyundai', 'hatchback'): 14463.999999999996,\n",
       "  ('hyundai', 'mini-van'): 3000.0,\n",
       "  ('hyundai', 'other'): 18784.890000000003,\n",
       "  ('hyundai', 'sedan'): 16950.0,\n",
       "  ('hyundai', 'truck'): 5100.0,\n",
       "  ('hyundai', 'wagon'): 4998.9,\n",
       "  ('jeep', 'SUV'): 38918.69,\n",
       "  ('jeep', 'convertible'): 31474.999999999993,\n",
       "  ('jeep', 'hatchback'): 20730.0,\n",
       "  ('jeep', 'offroad'): 37096.99999999997,\n",
       "  ('jeep', 'other'): 26799.999999999985,\n",
       "  ('jeep', 'pickup'): 6000.0,\n",
       "  ('jeep', 'sedan'): 8845.119999999999,\n",
       "  ('jeep', 'truck'): 39158.00000000003,\n",
       "  ('jeep', 'van'): 6981.01,\n",
       "  ('jeep', 'wagon'): 43877.55,\n",
       "  ('kia', 'SUV'): 22007.9999999999,\n",
       "  ('kia', 'hatchback'): 16278.000000000004,\n",
       "  ('kia', 'mini-van'): 6385.5,\n",
       "  ('kia', 'other'): 11523.6,\n",
       "  ('kia', 'pickup'): 3950.0,\n",
       "  ('kia', 'sedan'): 15463.869999999997,\n",
       "  ('kia', 'wagon'): 14125.720000000001,\n",
       "  ('mercedes-benz', 'van'): 34900.0,\n",
       "  ('nissan', 'SUV'): 22626.000000000022,\n",
       "  ('nissan', 'coupe'): 11170.000000000002,\n",
       "  ('nissan', 'hatchback'): 9249.999999999965,\n",
       "  ('nissan', 'offroad'): 5500.0,\n",
       "  ('nissan', 'other'): 12694.789999999999,\n",
       "  ('nissan', 'pickup'): 25500.0,\n",
       "  ('nissan', 'sedan'): 19545.499999999953,\n",
       "  ('nissan', 'truck'): 26998.0,\n",
       "  ('nissan', 'van'): 3600.0,\n",
       "  ('nissan', 'wagon'): 20404.050000000003,\n",
       "  ('ram', 'SUV'): 18781.9,\n",
       "  ('ram', 'offroad'): 12500.0,\n",
       "  ('ram', 'other'): 31689.699999999997,\n",
       "  ('ram', 'pickup'): 51995.0,\n",
       "  ('ram', 'sedan'): 12999.0,\n",
       "  ('ram', 'truck'): 52099.99999999991,\n",
       "  ('ram', 'van'): 9627.72,\n",
       "  ('ram', 'wagon'): 2988.0,\n",
       "  ('subaru', 'SUV'): 25992.25,\n",
       "  ('subaru', 'coupe'): 5987.03,\n",
       "  ('subaru', 'hatchback'): 22373.75000000005,\n",
       "  ('subaru', 'other'): 8438.05,\n",
       "  ('subaru', 'sedan'): 21820.000000000036,\n",
       "  ('subaru', 'wagon'): 24819.79999999997,\n",
       "  ('toyota', 'SUV'): 36959.51000000003,\n",
       "  ('toyota', 'convertible'): 4088.5,\n",
       "  ('toyota', 'coupe'): 10969.749999999998,\n",
       "  ('toyota', 'hatchback'): 18507.03999999999,\n",
       "  ('toyota', 'mini-van'): 38900.0,\n",
       "  ('toyota', 'offroad'): 28840.0,\n",
       "  ('toyota', 'other'): 14996.0,\n",
       "  ('toyota', 'pickup'): 34319.999999999985,\n",
       "  ('toyota', 'sedan'): 19102.839999999993,\n",
       "  ('toyota', 'truck'): 39988.0,\n",
       "  ('toyota', 'van'): 27819.549999999996,\n",
       "  ('toyota', 'wagon'): 27995.0,\n",
       "  ('volkswagen', 'coupe'): 12266.0,\n",
       "  ('volkswagen', 'hatchback'): 5992.150000000001,\n",
       "  ('volkswagen', 'other'): 8903.4,\n",
       "  ('volkswagen', 'sedan'): 16950.0,\n",
       "  ('volkswagen', 'wagon'): 8682.15}}"
      ]
     },
     "execution_count": 25,
     "metadata": {},
     "output_type": "execute_result"
    }
   ],
   "source": [
    "q99_dict "
   ]
  },
  {
   "cell_type": "code",
   "execution_count": 32,
   "metadata": {},
   "outputs": [],
   "source": [
    "def filter_price_artifacts(row):\n",
    "    \"\"\"\n",
    "    Takes in a row of a data frame, if the price of this row lower than limit price \n",
    "    for this type and brand from the q99_dict, returns True, else returns False.\n",
    "    \"\"\"\n",
    "    if row['price'] < q99_dict['price_q99'][(row['brand'], row['type'])]:\n",
    "        result = True\n",
    "    else:\n",
    "        result = False\n",
    "    return result"
   ]
  },
  {
   "cell_type": "code",
   "execution_count": 33,
   "metadata": {},
   "outputs": [],
   "source": [
    "decently_priced = df.apply(filter_price_artifacts, axis=1)\n",
    "df = df[decently_priced]"
   ]
  },
  {
   "cell_type": "code",
   "execution_count": 34,
   "metadata": {},
   "outputs": [],
   "source": [
    "df.reset_index(drop=True, inplace=True)"
   ]
  },
  {
   "cell_type": "code",
   "execution_count": 35,
   "metadata": {},
   "outputs": [
    {
     "data": {
      "text/plain": [
       "(50802, 14)"
      ]
     },
     "execution_count": 35,
     "metadata": {},
     "output_type": "execute_result"
    }
   ],
   "source": [
    "df.shape"
   ]
  },
  {
   "cell_type": "markdown",
   "metadata": {},
   "source": [
    "723 наблюдения были удалены."
   ]
  },
  {
   "cell_type": "markdown",
   "metadata": {},
   "source": [
    "###### Другие артефакты"
   ]
  },
  {
   "cell_type": "markdown",
   "metadata": {},
   "source": [
    "Глядя на него, мы заметили еще одну вероятную ошибку: цена = 12345. Давайте исправим его, заменив это значение медианами для модели и типа.price"
   ]
  },
  {
   "cell_type": "code",
   "execution_count": 36,
   "metadata": {},
   "outputs": [
    {
     "data": {
      "text/html": [
       "<div>\n",
       "<style scoped>\n",
       "    .dataframe tbody tr th:only-of-type {\n",
       "        vertical-align: middle;\n",
       "    }\n",
       "\n",
       "    .dataframe tbody tr th {\n",
       "        vertical-align: top;\n",
       "    }\n",
       "\n",
       "    .dataframe thead th {\n",
       "        text-align: right;\n",
       "    }\n",
       "</style>\n",
       "<table border=\"1\" class=\"dataframe\">\n",
       "  <thead>\n",
       "    <tr style=\"text-align: right;\">\n",
       "      <th></th>\n",
       "      <th>price</th>\n",
       "      <th>model_year</th>\n",
       "      <th>model</th>\n",
       "      <th>condition</th>\n",
       "      <th>cylinders</th>\n",
       "      <th>fuel</th>\n",
       "      <th>odometer</th>\n",
       "      <th>transmission</th>\n",
       "      <th>type</th>\n",
       "      <th>paint_color</th>\n",
       "      <th>is_4wd</th>\n",
       "      <th>date_posted</th>\n",
       "      <th>days_listed</th>\n",
       "      <th>brand</th>\n",
       "    </tr>\n",
       "  </thead>\n",
       "  <tbody>\n",
       "  </tbody>\n",
       "</table>\n",
       "</div>"
      ],
      "text/plain": [
       "Empty DataFrame\n",
       "Columns: [price, model_year, model, condition, cylinders, fuel, odometer, transmission, type, paint_color, is_4wd, date_posted, days_listed, brand]\n",
       "Index: []"
      ]
     },
     "execution_count": 36,
     "metadata": {},
     "output_type": "execute_result"
    }
   ],
   "source": [
    "df[df['price'] == 123456]"
   ]
  },
  {
   "cell_type": "code",
   "execution_count": 39,
   "metadata": {},
   "outputs": [],
   "source": [
    "df.loc[(df.index == 29810) | (df.index == 36822), 'price'] = df.query('model == \"chevrolet suburban\" and type == \"truck\"')['price'].median()"
   ]
  },
  {
   "cell_type": "code",
   "execution_count": 40,
   "metadata": {},
   "outputs": [],
   "source": [
    "df.loc[df.index == 42853, 'price'] = df.query('model == \"chevrolet suburban\" and type == \"SUV\"')['price'].median()"
   ]
  },
  {
   "cell_type": "markdown",
   "metadata": {},
   "source": [
    "Та же проблема в колонке. Давайте также исправим его медианой.odometer."
   ]
  },
  {
   "cell_type": "code",
   "execution_count": 41,
   "metadata": {},
   "outputs": [
    {
     "data": {
      "text/html": [
       "<div>\n",
       "<style scoped>\n",
       "    .dataframe tbody tr th:only-of-type {\n",
       "        vertical-align: middle;\n",
       "    }\n",
       "\n",
       "    .dataframe tbody tr th {\n",
       "        vertical-align: top;\n",
       "    }\n",
       "\n",
       "    .dataframe thead th {\n",
       "        text-align: right;\n",
       "    }\n",
       "</style>\n",
       "<table border=\"1\" class=\"dataframe\">\n",
       "  <thead>\n",
       "    <tr style=\"text-align: right;\">\n",
       "      <th></th>\n",
       "      <th>price</th>\n",
       "      <th>model_year</th>\n",
       "      <th>model</th>\n",
       "      <th>condition</th>\n",
       "      <th>cylinders</th>\n",
       "      <th>fuel</th>\n",
       "      <th>odometer</th>\n",
       "      <th>transmission</th>\n",
       "      <th>type</th>\n",
       "      <th>paint_color</th>\n",
       "      <th>is_4wd</th>\n",
       "      <th>date_posted</th>\n",
       "      <th>days_listed</th>\n",
       "      <th>brand</th>\n",
       "    </tr>\n",
       "  </thead>\n",
       "  <tbody>\n",
       "  </tbody>\n",
       "</table>\n",
       "</div>"
      ],
      "text/plain": [
       "Empty DataFrame\n",
       "Columns: [price, model_year, model, condition, cylinders, fuel, odometer, transmission, type, paint_color, is_4wd, date_posted, days_listed, brand]\n",
       "Index: []"
      ]
     },
     "execution_count": 41,
     "metadata": {},
     "output_type": "execute_result"
    }
   ],
   "source": [
    "df[df['odometer'] == 123456]"
   ]
  },
  {
   "cell_type": "code",
   "execution_count": 42,
   "metadata": {},
   "outputs": [],
   "source": [
    "df.loc[df.index == 29810, 'odometer'] = df.query('model == \"chevrolet suburban\" and type == \"truck\"')['odometer'].median()"
   ]
  },
  {
   "cell_type": "code",
   "execution_count": 43,
   "metadata": {},
   "outputs": [
    {
     "data": {
      "text/plain": [
       "(50802, 14)"
      ]
     },
     "execution_count": 43,
     "metadata": {},
     "output_type": "execute_result"
    }
   ],
   "source": [
    "df.shape"
   ]
  },
  {
   "cell_type": "markdown",
   "metadata": {},
   "source": [
    "#### Отсутствующие значения"
   ]
  },
  {
   "cell_type": "markdown",
   "metadata": {},
   "source": [
    "Во-первых, давайте удалим все строки с NaN в каждом столбце."
   ]
  },
  {
   "cell_type": "code",
   "execution_count": 44,
   "metadata": {},
   "outputs": [],
   "source": [
    "df = df.dropna(how='all', axis=0)"
   ]
  },
  {
   "cell_type": "code",
   "execution_count": 45,
   "metadata": {},
   "outputs": [
    {
     "data": {
      "text/plain": [
       "(50802, 14)"
      ]
     },
     "execution_count": 45,
     "metadata": {},
     "output_type": "execute_result"
    }
   ],
   "source": [
    "df.shape"
   ]
  },
  {
   "cell_type": "markdown",
   "metadata": {},
   "source": [
    "Таких наблюдений было 720."
   ]
  },
  {
   "cell_type": "markdown",
   "metadata": {},
   "source": [
    "##### Полный    привод\n",
    "Исходя из приведенных выше выводов, заменим все недостающие значения в этом столбце на 0."
   ]
  },
  {
   "cell_type": "code",
   "execution_count": 46,
   "metadata": {},
   "outputs": [],
   "source": [
    "df['is_4wd'] = df['is_4wd'].fillna(0)"
   ]
  },
  {
   "cell_type": "markdown",
   "metadata": {},
   "source": [
    "##### Пробег"
   ]
  },
  {
   "cell_type": "code",
   "execution_count": 47,
   "metadata": {},
   "outputs": [
    {
     "data": {
      "image/png": "[encoded data removed]",
      "text/plain": [
       "<Figure size 432x288 with 1 Axes>"
      ]
     },
     "metadata": {
      "needs_background": "light"
     },
     "output_type": "display_data"
    }
   ],
   "source": [
    "df['odometer'].dropna().astype('int').hist(bins=100)\n",
    "plt.xlim(0,500000)\n",
    "plt.title(\"Mileage of a vehicle\")\n",
    "plt.xlabel('odometer value')\n",
    "plt.ylabel('frequency');"
   ]
  },
  {
   "cell_type": "markdown",
   "metadata": {},
   "source": [
    "Распределение выглядит более-менее нормальным, немного положительно перекошенным. Мы видим пик в 0, давайте подробнее рассмотрим эти ряды."
   ]
  },
  {
   "cell_type": "code",
   "execution_count": 141,
   "metadata": {},
   "outputs": [
    {
     "data": {
      "text/html": [
       "<div>\n",
       "<style scoped>\n",
       "    .dataframe tbody tr th:only-of-type {\n",
       "        vertical-align: middle;\n",
       "    }\n",
       "\n",
       "    .dataframe tbody tr th {\n",
       "        vertical-align: top;\n",
       "    }\n",
       "\n",
       "    .dataframe thead th {\n",
       "        text-align: right;\n",
       "    }\n",
       "</style>\n",
       "<table border=\"1\" class=\"dataframe\">\n",
       "  <thead>\n",
       "    <tr style=\"text-align: right;\">\n",
       "      <th></th>\n",
       "      <th>price</th>\n",
       "      <th>model_year</th>\n",
       "      <th>model</th>\n",
       "      <th>condition</th>\n",
       "      <th>cylinders</th>\n",
       "      <th>fuel</th>\n",
       "      <th>odometer</th>\n",
       "      <th>transmission</th>\n",
       "      <th>type</th>\n",
       "      <th>paint_color</th>\n",
       "      <th>is_4wd</th>\n",
       "      <th>date_posted</th>\n",
       "      <th>days_listed</th>\n",
       "      <th>brand</th>\n",
       "    </tr>\n",
       "  </thead>\n",
       "  <tbody>\n",
       "    <tr>\n",
       "      <th>347</th>\n",
       "      <td>7997.0</td>\n",
       "      <td>2009.0</td>\n",
       "      <td>gmc yukon</td>\n",
       "      <td>excellent</td>\n",
       "      <td>8.0</td>\n",
       "      <td>gas</td>\n",
       "      <td>0.0</td>\n",
       "      <td>automatic</td>\n",
       "      <td>SUV</td>\n",
       "      <td>white</td>\n",
       "      <td>1.0</td>\n",
       "      <td>2019-03-16</td>\n",
       "      <td>88</td>\n",
       "      <td>gmc</td>\n",
       "    </tr>\n",
       "    <tr>\n",
       "      <th>805</th>\n",
       "      <td>2995.0</td>\n",
       "      <td>1999.0</td>\n",
       "      <td>ford f-150</td>\n",
       "      <td>good</td>\n",
       "      <td>6.0</td>\n",
       "      <td>gas</td>\n",
       "      <td>0.0</td>\n",
       "      <td>manual</td>\n",
       "      <td>truck</td>\n",
       "      <td>NaN</td>\n",
       "      <td>0.0</td>\n",
       "      <td>2019-03-14</td>\n",
       "      <td>16</td>\n",
       "      <td>ford</td>\n",
       "    </tr>\n",
       "    <tr>\n",
       "      <th>1356</th>\n",
       "      <td>5888.0</td>\n",
       "      <td>NaN</td>\n",
       "      <td>toyota 4runner</td>\n",
       "      <td>good</td>\n",
       "      <td>6.0</td>\n",
       "      <td>gas</td>\n",
       "      <td>0.0</td>\n",
       "      <td>automatic</td>\n",
       "      <td>SUV</td>\n",
       "      <td>black</td>\n",
       "      <td>0.0</td>\n",
       "      <td>2019-02-22</td>\n",
       "      <td>36</td>\n",
       "      <td>toyota</td>\n",
       "    </tr>\n",
       "    <tr>\n",
       "      <th>1442</th>\n",
       "      <td>1000.0</td>\n",
       "      <td>1992.0</td>\n",
       "      <td>gmc sierra 1500</td>\n",
       "      <td>good</td>\n",
       "      <td>8.0</td>\n",
       "      <td>gas</td>\n",
       "      <td>0.0</td>\n",
       "      <td>automatic</td>\n",
       "      <td>truck</td>\n",
       "      <td>NaN</td>\n",
       "      <td>0.0</td>\n",
       "      <td>2018-09-28</td>\n",
       "      <td>47</td>\n",
       "      <td>gmc</td>\n",
       "    </tr>\n",
       "    <tr>\n",
       "      <th>1935</th>\n",
       "      <td>10988.0</td>\n",
       "      <td>2000.0</td>\n",
       "      <td>ford f-250 sd</td>\n",
       "      <td>good</td>\n",
       "      <td>8.0</td>\n",
       "      <td>diesel</td>\n",
       "      <td>0.0</td>\n",
       "      <td>automatic</td>\n",
       "      <td>truck</td>\n",
       "      <td>white</td>\n",
       "      <td>1.0</td>\n",
       "      <td>2018-11-21</td>\n",
       "      <td>39</td>\n",
       "      <td>ford</td>\n",
       "    </tr>\n",
       "    <tr>\n",
       "      <th>2014</th>\n",
       "      <td>30000.0</td>\n",
       "      <td>1969.0</td>\n",
       "      <td>chevrolet corvette</td>\n",
       "      <td>excellent</td>\n",
       "      <td>8.0</td>\n",
       "      <td>other</td>\n",
       "      <td>0.0</td>\n",
       "      <td>automatic</td>\n",
       "      <td>convertible</td>\n",
       "      <td>white</td>\n",
       "      <td>0.0</td>\n",
       "      <td>2018-08-01</td>\n",
       "      <td>20</td>\n",
       "      <td>chevrolet</td>\n",
       "    </tr>\n",
       "    <tr>\n",
       "      <th>2042</th>\n",
       "      <td>11888.0</td>\n",
       "      <td>2010.0</td>\n",
       "      <td>chevrolet silverado 1500</td>\n",
       "      <td>good</td>\n",
       "      <td>8.0</td>\n",
       "      <td>gas</td>\n",
       "      <td>0.0</td>\n",
       "      <td>automatic</td>\n",
       "      <td>truck</td>\n",
       "      <td>white</td>\n",
       "      <td>0.0</td>\n",
       "      <td>2018-07-02</td>\n",
       "      <td>24</td>\n",
       "      <td>chevrolet</td>\n",
       "    </tr>\n",
       "    <tr>\n",
       "      <th>2463</th>\n",
       "      <td>3000.0</td>\n",
       "      <td>2006.0</td>\n",
       "      <td>honda civic</td>\n",
       "      <td>good</td>\n",
       "      <td>NaN</td>\n",
       "      <td>gas</td>\n",
       "      <td>0.0</td>\n",
       "      <td>automatic</td>\n",
       "      <td>sedan</td>\n",
       "      <td>silver</td>\n",
       "      <td>0.0</td>\n",
       "      <td>2018-06-02</td>\n",
       "      <td>37</td>\n",
       "      <td>honda</td>\n",
       "    </tr>\n",
       "    <tr>\n",
       "      <th>3581</th>\n",
       "      <td>4200.0</td>\n",
       "      <td>NaN</td>\n",
       "      <td>nissan murano</td>\n",
       "      <td>good</td>\n",
       "      <td>6.0</td>\n",
       "      <td>gas</td>\n",
       "      <td>0.0</td>\n",
       "      <td>automatic</td>\n",
       "      <td>SUV</td>\n",
       "      <td>red</td>\n",
       "      <td>1.0</td>\n",
       "      <td>2018-08-24</td>\n",
       "      <td>21</td>\n",
       "      <td>nissan</td>\n",
       "    </tr>\n",
       "    <tr>\n",
       "      <th>4117</th>\n",
       "      <td>11888.0</td>\n",
       "      <td>2010.0</td>\n",
       "      <td>chevrolet silverado 1500</td>\n",
       "      <td>good</td>\n",
       "      <td>8.0</td>\n",
       "      <td>gas</td>\n",
       "      <td>0.0</td>\n",
       "      <td>automatic</td>\n",
       "      <td>truck</td>\n",
       "      <td>white</td>\n",
       "      <td>0.0</td>\n",
       "      <td>2018-12-06</td>\n",
       "      <td>71</td>\n",
       "      <td>chevrolet</td>\n",
       "    </tr>\n",
       "  </tbody>\n",
       "</table>\n",
       "</div>"
      ],
      "text/plain": [
       "        price  model_year                     model  condition  cylinders  \\\n",
       "347    7997.0      2009.0                 gmc yukon  excellent        8.0   \n",
       "805    2995.0      1999.0                ford f-150       good        6.0   \n",
       "1356   5888.0         NaN            toyota 4runner       good        6.0   \n",
       "1442   1000.0      1992.0           gmc sierra 1500       good        8.0   \n",
       "1935  10988.0      2000.0             ford f-250 sd       good        8.0   \n",
       "2014  30000.0      1969.0        chevrolet corvette  excellent        8.0   \n",
       "2042  11888.0      2010.0  chevrolet silverado 1500       good        8.0   \n",
       "2463   3000.0      2006.0               honda civic       good        NaN   \n",
       "3581   4200.0         NaN             nissan murano       good        6.0   \n",
       "4117  11888.0      2010.0  chevrolet silverado 1500       good        8.0   \n",
       "\n",
       "        fuel  odometer transmission         type paint_color  is_4wd  \\\n",
       "347      gas       0.0    automatic          SUV       white     1.0   \n",
       "805      gas       0.0       manual        truck         NaN     0.0   \n",
       "1356     gas       0.0    automatic          SUV       black     0.0   \n",
       "1442     gas       0.0    automatic        truck         NaN     0.0   \n",
       "1935  diesel       0.0    automatic        truck       white     1.0   \n",
       "2014   other       0.0    automatic  convertible       white     0.0   \n",
       "2042     gas       0.0    automatic        truck       white     0.0   \n",
       "2463     gas       0.0    automatic        sedan      silver     0.0   \n",
       "3581     gas       0.0    automatic          SUV         red     1.0   \n",
       "4117     gas       0.0    automatic        truck       white     0.0   \n",
       "\n",
       "     date_posted  days_listed      brand  \n",
       "347   2019-03-16           88        gmc  \n",
       "805   2019-03-14           16       ford  \n",
       "1356  2019-02-22           36     toyota  \n",
       "1442  2018-09-28           47        gmc  \n",
       "1935  2018-11-21           39       ford  \n",
       "2014  2018-08-01           20  chevrolet  \n",
       "2042  2018-07-02           24  chevrolet  \n",
       "2463  2018-06-02           37      honda  \n",
       "3581  2018-08-24           21     nissan  \n",
       "4117  2018-12-06           71  chevrolet  "
      ]
     },
     "execution_count": 141,
     "metadata": {},
     "output_type": "execute_result"
    }
   ],
   "source": [
    "df[df['odometer'] == 0].head(10)"
   ]
  },
  {
   "cell_type": "markdown",
   "metadata": {},
   "source": [
    "Исходя из модельного года этих автомобилей, мы можем видеть, что они не являются новыми автомобилями, состояние иногда только «справедливое», поэтому мы предположим, что значение 0 в столбце также является ошибкой. Мы заменим его на 'NaN', а затем заполним все значения 'NaN' медианой на основе группировки по и .odometermodeltype"
   ]
  },
  {
   "cell_type": "code",
   "execution_count": 142,
   "metadata": {},
   "outputs": [],
   "source": [
    "df.loc[df['odometer'] == 0, 'odometer'] = np.nan"
   ]
  },
  {
   "cell_type": "code",
   "execution_count": 143,
   "metadata": {},
   "outputs": [],
   "source": [
    "df['odometer'] = df.groupby(['model','type'])['odometer'].apply(lambda x: x.fillna(x.median()))"
   ]
  },
  {
   "cell_type": "code",
   "execution_count": 144,
   "metadata": {},
   "outputs": [
    {
     "data": {
      "text/plain": [
       "13"
      ]
     },
     "execution_count": 144,
     "metadata": {},
     "output_type": "execute_result"
    }
   ],
   "source": [
    "df['odometer'].isnull().sum()"
   ]
  },
  {
   "cell_type": "markdown",
   "metadata": {},
   "source": [
    "Эти 13 наблюдений уникальны в этом наборе данных (только 1 строка с комбинацией модели и типа), поэтому для них у нас нет правильных медиан для заполнения столбца. Мы вынуждены исключить их из кадра данных. odometer "
   ]
  },
  {
   "cell_type": "code",
   "execution_count": 145,
   "metadata": {},
   "outputs": [],
   "source": [
    "df = df.dropna(subset=['odometer'], axis=0)\n",
    "df.reset_index(drop=True, inplace=True)"
   ]
  },
  {
   "cell_type": "code",
   "execution_count": 146,
   "metadata": {},
   "outputs": [
    {
     "data": {
      "text/plain": [
       "(50789, 14)"
      ]
     },
     "execution_count": 146,
     "metadata": {},
     "output_type": "execute_result"
    }
   ],
   "source": [
    "df.shape"
   ]
  },
  {
   "cell_type": "markdown",
   "metadata": {},
   "source": [
    "##### Model_year"
   ]
  },
  {
   "cell_type": "markdown",
   "metadata": {},
   "source": [
    "Во-первых, мы найдем медианное значение в столбце в год для каждой модели и типа. Для отсутствующих значений мы делим значение на медианное значение одометра за год. Он дает количество лет в эксплуатации. Затем, вычитая из года проводки количество лет эксплуатации, мы получаем недостающее значение.odometermodel_yearodometermodel_year\n",
    "\n",
    "Давайте сначала создадим столбец. Для этого нам нужно будет преобразовать в формат datetime.year_posteddate_posted"
   ]
  },
  {
   "cell_type": "code",
   "execution_count": 48,
   "metadata": {},
   "outputs": [
    {
     "data": {
      "text/html": [
       "<div>\n",
       "<style scoped>\n",
       "    .dataframe tbody tr th:only-of-type {\n",
       "        vertical-align: middle;\n",
       "    }\n",
       "\n",
       "    .dataframe tbody tr th {\n",
       "        vertical-align: top;\n",
       "    }\n",
       "\n",
       "    .dataframe thead th {\n",
       "        text-align: right;\n",
       "    }\n",
       "</style>\n",
       "<table border=\"1\" class=\"dataframe\">\n",
       "  <thead>\n",
       "    <tr style=\"text-align: right;\">\n",
       "      <th></th>\n",
       "      <th>price</th>\n",
       "      <th>model_year</th>\n",
       "      <th>model</th>\n",
       "      <th>condition</th>\n",
       "      <th>cylinders</th>\n",
       "      <th>fuel</th>\n",
       "      <th>odometer</th>\n",
       "      <th>transmission</th>\n",
       "      <th>type</th>\n",
       "      <th>paint_color</th>\n",
       "      <th>is_4wd</th>\n",
       "      <th>date_posted</th>\n",
       "      <th>days_listed</th>\n",
       "      <th>brand</th>\n",
       "    </tr>\n",
       "  </thead>\n",
       "  <tbody>\n",
       "    <tr>\n",
       "      <th>0</th>\n",
       "      <td>9400.0</td>\n",
       "      <td>2011.0</td>\n",
       "      <td>bmw x5</td>\n",
       "      <td>good</td>\n",
       "      <td>6.0</td>\n",
       "      <td>gas</td>\n",
       "      <td>145000.0</td>\n",
       "      <td>automatic</td>\n",
       "      <td>SUV</td>\n",
       "      <td>NaN</td>\n",
       "      <td>1.0</td>\n",
       "      <td>2018-06-23</td>\n",
       "      <td>19</td>\n",
       "      <td>bmw</td>\n",
       "    </tr>\n",
       "    <tr>\n",
       "      <th>1</th>\n",
       "      <td>25500.0</td>\n",
       "      <td>NaN</td>\n",
       "      <td>ford f-150</td>\n",
       "      <td>good</td>\n",
       "      <td>6.0</td>\n",
       "      <td>gas</td>\n",
       "      <td>88705.0</td>\n",
       "      <td>automatic</td>\n",
       "      <td>pickup</td>\n",
       "      <td>white</td>\n",
       "      <td>1.0</td>\n",
       "      <td>2018-10-19</td>\n",
       "      <td>50</td>\n",
       "      <td>ford</td>\n",
       "    </tr>\n",
       "    <tr>\n",
       "      <th>2</th>\n",
       "      <td>5500.0</td>\n",
       "      <td>2013.0</td>\n",
       "      <td>hyundai sonata</td>\n",
       "      <td>like new</td>\n",
       "      <td>4.0</td>\n",
       "      <td>gas</td>\n",
       "      <td>110000.0</td>\n",
       "      <td>automatic</td>\n",
       "      <td>sedan</td>\n",
       "      <td>red</td>\n",
       "      <td>0.0</td>\n",
       "      <td>2019-02-07</td>\n",
       "      <td>79</td>\n",
       "      <td>hyundai</td>\n",
       "    </tr>\n",
       "    <tr>\n",
       "      <th>3</th>\n",
       "      <td>1500.0</td>\n",
       "      <td>2003.0</td>\n",
       "      <td>ford f-150</td>\n",
       "      <td>fair</td>\n",
       "      <td>8.0</td>\n",
       "      <td>gas</td>\n",
       "      <td>NaN</td>\n",
       "      <td>automatic</td>\n",
       "      <td>pickup</td>\n",
       "      <td>NaN</td>\n",
       "      <td>0.0</td>\n",
       "      <td>2019-03-22</td>\n",
       "      <td>9</td>\n",
       "      <td>ford</td>\n",
       "    </tr>\n",
       "    <tr>\n",
       "      <th>4</th>\n",
       "      <td>14900.0</td>\n",
       "      <td>2017.0</td>\n",
       "      <td>chrysler 200</td>\n",
       "      <td>excellent</td>\n",
       "      <td>4.0</td>\n",
       "      <td>gas</td>\n",
       "      <td>80903.0</td>\n",
       "      <td>automatic</td>\n",
       "      <td>sedan</td>\n",
       "      <td>black</td>\n",
       "      <td>0.0</td>\n",
       "      <td>2019-04-02</td>\n",
       "      <td>28</td>\n",
       "      <td>chrysler</td>\n",
       "    </tr>\n",
       "    <tr>\n",
       "      <th>...</th>\n",
       "      <td>...</td>\n",
       "      <td>...</td>\n",
       "      <td>...</td>\n",
       "      <td>...</td>\n",
       "      <td>...</td>\n",
       "      <td>...</td>\n",
       "      <td>...</td>\n",
       "      <td>...</td>\n",
       "      <td>...</td>\n",
       "      <td>...</td>\n",
       "      <td>...</td>\n",
       "      <td>...</td>\n",
       "      <td>...</td>\n",
       "      <td>...</td>\n",
       "    </tr>\n",
       "    <tr>\n",
       "      <th>50797</th>\n",
       "      <td>9249.0</td>\n",
       "      <td>2013.0</td>\n",
       "      <td>nissan maxima</td>\n",
       "      <td>like new</td>\n",
       "      <td>6.0</td>\n",
       "      <td>gas</td>\n",
       "      <td>88136.0</td>\n",
       "      <td>automatic</td>\n",
       "      <td>sedan</td>\n",
       "      <td>black</td>\n",
       "      <td>0.0</td>\n",
       "      <td>2018-10-03</td>\n",
       "      <td>37</td>\n",
       "      <td>nissan</td>\n",
       "    </tr>\n",
       "    <tr>\n",
       "      <th>50798</th>\n",
       "      <td>2700.0</td>\n",
       "      <td>2002.0</td>\n",
       "      <td>honda civic</td>\n",
       "      <td>salvage</td>\n",
       "      <td>4.0</td>\n",
       "      <td>gas</td>\n",
       "      <td>181500.0</td>\n",
       "      <td>automatic</td>\n",
       "      <td>sedan</td>\n",
       "      <td>white</td>\n",
       "      <td>0.0</td>\n",
       "      <td>2018-11-14</td>\n",
       "      <td>22</td>\n",
       "      <td>honda</td>\n",
       "    </tr>\n",
       "    <tr>\n",
       "      <th>50799</th>\n",
       "      <td>3950.0</td>\n",
       "      <td>2009.0</td>\n",
       "      <td>hyundai sonata</td>\n",
       "      <td>excellent</td>\n",
       "      <td>4.0</td>\n",
       "      <td>gas</td>\n",
       "      <td>128000.0</td>\n",
       "      <td>automatic</td>\n",
       "      <td>sedan</td>\n",
       "      <td>blue</td>\n",
       "      <td>0.0</td>\n",
       "      <td>2018-11-15</td>\n",
       "      <td>32</td>\n",
       "      <td>hyundai</td>\n",
       "    </tr>\n",
       "    <tr>\n",
       "      <th>50800</th>\n",
       "      <td>7455.0</td>\n",
       "      <td>2013.0</td>\n",
       "      <td>toyota corolla</td>\n",
       "      <td>good</td>\n",
       "      <td>4.0</td>\n",
       "      <td>gas</td>\n",
       "      <td>139573.0</td>\n",
       "      <td>automatic</td>\n",
       "      <td>sedan</td>\n",
       "      <td>black</td>\n",
       "      <td>0.0</td>\n",
       "      <td>2018-07-02</td>\n",
       "      <td>71</td>\n",
       "      <td>toyota</td>\n",
       "    </tr>\n",
       "    <tr>\n",
       "      <th>50801</th>\n",
       "      <td>6300.0</td>\n",
       "      <td>2014.0</td>\n",
       "      <td>nissan altima</td>\n",
       "      <td>good</td>\n",
       "      <td>4.0</td>\n",
       "      <td>gas</td>\n",
       "      <td>NaN</td>\n",
       "      <td>automatic</td>\n",
       "      <td>sedan</td>\n",
       "      <td>NaN</td>\n",
       "      <td>0.0</td>\n",
       "      <td>2018-06-05</td>\n",
       "      <td>10</td>\n",
       "      <td>nissan</td>\n",
       "    </tr>\n",
       "  </tbody>\n",
       "</table>\n",
       "<p>50802 rows × 14 columns</p>\n",
       "</div>"
      ],
      "text/plain": [
       "         price  model_year           model  condition  cylinders fuel  \\\n",
       "0       9400.0      2011.0          bmw x5       good        6.0  gas   \n",
       "1      25500.0         NaN      ford f-150       good        6.0  gas   \n",
       "2       5500.0      2013.0  hyundai sonata   like new        4.0  gas   \n",
       "3       1500.0      2003.0      ford f-150       fair        8.0  gas   \n",
       "4      14900.0      2017.0    chrysler 200  excellent        4.0  gas   \n",
       "...        ...         ...             ...        ...        ...  ...   \n",
       "50797   9249.0      2013.0   nissan maxima   like new        6.0  gas   \n",
       "50798   2700.0      2002.0     honda civic    salvage        4.0  gas   \n",
       "50799   3950.0      2009.0  hyundai sonata  excellent        4.0  gas   \n",
       "50800   7455.0      2013.0  toyota corolla       good        4.0  gas   \n",
       "50801   6300.0      2014.0   nissan altima       good        4.0  gas   \n",
       "\n",
       "       odometer transmission    type paint_color  is_4wd date_posted  \\\n",
       "0      145000.0    automatic     SUV         NaN     1.0  2018-06-23   \n",
       "1       88705.0    automatic  pickup       white     1.0  2018-10-19   \n",
       "2      110000.0    automatic   sedan         red     0.0  2019-02-07   \n",
       "3           NaN    automatic  pickup         NaN     0.0  2019-03-22   \n",
       "4       80903.0    automatic   sedan       black     0.0  2019-04-02   \n",
       "...         ...          ...     ...         ...     ...         ...   \n",
       "50797   88136.0    automatic   sedan       black     0.0  2018-10-03   \n",
       "50798  181500.0    automatic   sedan       white     0.0  2018-11-14   \n",
       "50799  128000.0    automatic   sedan        blue     0.0  2018-11-15   \n",
       "50800  139573.0    automatic   sedan       black     0.0  2018-07-02   \n",
       "50801       NaN    automatic   sedan         NaN     0.0  2018-06-05   \n",
       "\n",
       "       days_listed     brand  \n",
       "0               19       bmw  \n",
       "1               50      ford  \n",
       "2               79   hyundai  \n",
       "3                9      ford  \n",
       "4               28  chrysler  \n",
       "...            ...       ...  \n",
       "50797           37    nissan  \n",
       "50798           22     honda  \n",
       "50799           32   hyundai  \n",
       "50800           71    toyota  \n",
       "50801           10    nissan  \n",
       "\n",
       "[50802 rows x 14 columns]"
      ]
     },
     "execution_count": 48,
     "metadata": {},
     "output_type": "execute_result"
    }
   ],
   "source": [
    "df"
   ]
  },
  {
   "cell_type": "code",
   "execution_count": 49,
   "metadata": {},
   "outputs": [],
   "source": [
    "df['date_posted']= pd.to_datetime(df['date_posted'])\n",
    "df['year_posted'] = df['date_posted'].dt.year"
   ]
  },
  {
   "cell_type": "code",
   "execution_count": 50,
   "metadata": {},
   "outputs": [
    {
     "data": {
      "text/html": [
       "<div>\n",
       "<style scoped>\n",
       "    .dataframe tbody tr th:only-of-type {\n",
       "        vertical-align: middle;\n",
       "    }\n",
       "\n",
       "    .dataframe tbody tr th {\n",
       "        vertical-align: top;\n",
       "    }\n",
       "\n",
       "    .dataframe thead th {\n",
       "        text-align: right;\n",
       "    }\n",
       "</style>\n",
       "<table border=\"1\" class=\"dataframe\">\n",
       "  <thead>\n",
       "    <tr style=\"text-align: right;\">\n",
       "      <th></th>\n",
       "      <th>price</th>\n",
       "      <th>model_year</th>\n",
       "      <th>model</th>\n",
       "      <th>condition</th>\n",
       "      <th>cylinders</th>\n",
       "      <th>fuel</th>\n",
       "      <th>odometer</th>\n",
       "      <th>transmission</th>\n",
       "      <th>type</th>\n",
       "      <th>paint_color</th>\n",
       "      <th>is_4wd</th>\n",
       "      <th>date_posted</th>\n",
       "      <th>days_listed</th>\n",
       "      <th>brand</th>\n",
       "      <th>year_posted</th>\n",
       "    </tr>\n",
       "  </thead>\n",
       "  <tbody>\n",
       "    <tr>\n",
       "      <th>0</th>\n",
       "      <td>9400.0</td>\n",
       "      <td>2011.0</td>\n",
       "      <td>bmw x5</td>\n",
       "      <td>good</td>\n",
       "      <td>6.0</td>\n",
       "      <td>gas</td>\n",
       "      <td>145000.0</td>\n",
       "      <td>automatic</td>\n",
       "      <td>SUV</td>\n",
       "      <td>NaN</td>\n",
       "      <td>1.0</td>\n",
       "      <td>2018-06-23</td>\n",
       "      <td>19</td>\n",
       "      <td>bmw</td>\n",
       "      <td>2018</td>\n",
       "    </tr>\n",
       "    <tr>\n",
       "      <th>1</th>\n",
       "      <td>25500.0</td>\n",
       "      <td>NaN</td>\n",
       "      <td>ford f-150</td>\n",
       "      <td>good</td>\n",
       "      <td>6.0</td>\n",
       "      <td>gas</td>\n",
       "      <td>88705.0</td>\n",
       "      <td>automatic</td>\n",
       "      <td>pickup</td>\n",
       "      <td>white</td>\n",
       "      <td>1.0</td>\n",
       "      <td>2018-10-19</td>\n",
       "      <td>50</td>\n",
       "      <td>ford</td>\n",
       "      <td>2018</td>\n",
       "    </tr>\n",
       "    <tr>\n",
       "      <th>2</th>\n",
       "      <td>5500.0</td>\n",
       "      <td>2013.0</td>\n",
       "      <td>hyundai sonata</td>\n",
       "      <td>like new</td>\n",
       "      <td>4.0</td>\n",
       "      <td>gas</td>\n",
       "      <td>110000.0</td>\n",
       "      <td>automatic</td>\n",
       "      <td>sedan</td>\n",
       "      <td>red</td>\n",
       "      <td>0.0</td>\n",
       "      <td>2019-02-07</td>\n",
       "      <td>79</td>\n",
       "      <td>hyundai</td>\n",
       "      <td>2019</td>\n",
       "    </tr>\n",
       "    <tr>\n",
       "      <th>3</th>\n",
       "      <td>1500.0</td>\n",
       "      <td>2003.0</td>\n",
       "      <td>ford f-150</td>\n",
       "      <td>fair</td>\n",
       "      <td>8.0</td>\n",
       "      <td>gas</td>\n",
       "      <td>NaN</td>\n",
       "      <td>automatic</td>\n",
       "      <td>pickup</td>\n",
       "      <td>NaN</td>\n",
       "      <td>0.0</td>\n",
       "      <td>2019-03-22</td>\n",
       "      <td>9</td>\n",
       "      <td>ford</td>\n",
       "      <td>2019</td>\n",
       "    </tr>\n",
       "    <tr>\n",
       "      <th>4</th>\n",
       "      <td>14900.0</td>\n",
       "      <td>2017.0</td>\n",
       "      <td>chrysler 200</td>\n",
       "      <td>excellent</td>\n",
       "      <td>4.0</td>\n",
       "      <td>gas</td>\n",
       "      <td>80903.0</td>\n",
       "      <td>automatic</td>\n",
       "      <td>sedan</td>\n",
       "      <td>black</td>\n",
       "      <td>0.0</td>\n",
       "      <td>2019-04-02</td>\n",
       "      <td>28</td>\n",
       "      <td>chrysler</td>\n",
       "      <td>2019</td>\n",
       "    </tr>\n",
       "    <tr>\n",
       "      <th>...</th>\n",
       "      <td>...</td>\n",
       "      <td>...</td>\n",
       "      <td>...</td>\n",
       "      <td>...</td>\n",
       "      <td>...</td>\n",
       "      <td>...</td>\n",
       "      <td>...</td>\n",
       "      <td>...</td>\n",
       "      <td>...</td>\n",
       "      <td>...</td>\n",
       "      <td>...</td>\n",
       "      <td>...</td>\n",
       "      <td>...</td>\n",
       "      <td>...</td>\n",
       "      <td>...</td>\n",
       "    </tr>\n",
       "    <tr>\n",
       "      <th>50797</th>\n",
       "      <td>9249.0</td>\n",
       "      <td>2013.0</td>\n",
       "      <td>nissan maxima</td>\n",
       "      <td>like new</td>\n",
       "      <td>6.0</td>\n",
       "      <td>gas</td>\n",
       "      <td>88136.0</td>\n",
       "      <td>automatic</td>\n",
       "      <td>sedan</td>\n",
       "      <td>black</td>\n",
       "      <td>0.0</td>\n",
       "      <td>2018-10-03</td>\n",
       "      <td>37</td>\n",
       "      <td>nissan</td>\n",
       "      <td>2018</td>\n",
       "    </tr>\n",
       "    <tr>\n",
       "      <th>50798</th>\n",
       "      <td>2700.0</td>\n",
       "      <td>2002.0</td>\n",
       "      <td>honda civic</td>\n",
       "      <td>salvage</td>\n",
       "      <td>4.0</td>\n",
       "      <td>gas</td>\n",
       "      <td>181500.0</td>\n",
       "      <td>automatic</td>\n",
       "      <td>sedan</td>\n",
       "      <td>white</td>\n",
       "      <td>0.0</td>\n",
       "      <td>2018-11-14</td>\n",
       "      <td>22</td>\n",
       "      <td>honda</td>\n",
       "      <td>2018</td>\n",
       "    </tr>\n",
       "    <tr>\n",
       "      <th>50799</th>\n",
       "      <td>3950.0</td>\n",
       "      <td>2009.0</td>\n",
       "      <td>hyundai sonata</td>\n",
       "      <td>excellent</td>\n",
       "      <td>4.0</td>\n",
       "      <td>gas</td>\n",
       "      <td>128000.0</td>\n",
       "      <td>automatic</td>\n",
       "      <td>sedan</td>\n",
       "      <td>blue</td>\n",
       "      <td>0.0</td>\n",
       "      <td>2018-11-15</td>\n",
       "      <td>32</td>\n",
       "      <td>hyundai</td>\n",
       "      <td>2018</td>\n",
       "    </tr>\n",
       "    <tr>\n",
       "      <th>50800</th>\n",
       "      <td>7455.0</td>\n",
       "      <td>2013.0</td>\n",
       "      <td>toyota corolla</td>\n",
       "      <td>good</td>\n",
       "      <td>4.0</td>\n",
       "      <td>gas</td>\n",
       "      <td>139573.0</td>\n",
       "      <td>automatic</td>\n",
       "      <td>sedan</td>\n",
       "      <td>black</td>\n",
       "      <td>0.0</td>\n",
       "      <td>2018-07-02</td>\n",
       "      <td>71</td>\n",
       "      <td>toyota</td>\n",
       "      <td>2018</td>\n",
       "    </tr>\n",
       "    <tr>\n",
       "      <th>50801</th>\n",
       "      <td>6300.0</td>\n",
       "      <td>2014.0</td>\n",
       "      <td>nissan altima</td>\n",
       "      <td>good</td>\n",
       "      <td>4.0</td>\n",
       "      <td>gas</td>\n",
       "      <td>NaN</td>\n",
       "      <td>automatic</td>\n",
       "      <td>sedan</td>\n",
       "      <td>NaN</td>\n",
       "      <td>0.0</td>\n",
       "      <td>2018-06-05</td>\n",
       "      <td>10</td>\n",
       "      <td>nissan</td>\n",
       "      <td>2018</td>\n",
       "    </tr>\n",
       "  </tbody>\n",
       "</table>\n",
       "<p>50802 rows × 15 columns</p>\n",
       "</div>"
      ],
      "text/plain": [
       "         price  model_year           model  condition  cylinders fuel  \\\n",
       "0       9400.0      2011.0          bmw x5       good        6.0  gas   \n",
       "1      25500.0         NaN      ford f-150       good        6.0  gas   \n",
       "2       5500.0      2013.0  hyundai sonata   like new        4.0  gas   \n",
       "3       1500.0      2003.0      ford f-150       fair        8.0  gas   \n",
       "4      14900.0      2017.0    chrysler 200  excellent        4.0  gas   \n",
       "...        ...         ...             ...        ...        ...  ...   \n",
       "50797   9249.0      2013.0   nissan maxima   like new        6.0  gas   \n",
       "50798   2700.0      2002.0     honda civic    salvage        4.0  gas   \n",
       "50799   3950.0      2009.0  hyundai sonata  excellent        4.0  gas   \n",
       "50800   7455.0      2013.0  toyota corolla       good        4.0  gas   \n",
       "50801   6300.0      2014.0   nissan altima       good        4.0  gas   \n",
       "\n",
       "       odometer transmission    type paint_color  is_4wd date_posted  \\\n",
       "0      145000.0    automatic     SUV         NaN     1.0  2018-06-23   \n",
       "1       88705.0    automatic  pickup       white     1.0  2018-10-19   \n",
       "2      110000.0    automatic   sedan         red     0.0  2019-02-07   \n",
       "3           NaN    automatic  pickup         NaN     0.0  2019-03-22   \n",
       "4       80903.0    automatic   sedan       black     0.0  2019-04-02   \n",
       "...         ...          ...     ...         ...     ...         ...   \n",
       "50797   88136.0    automatic   sedan       black     0.0  2018-10-03   \n",
       "50798  181500.0    automatic   sedan       white     0.0  2018-11-14   \n",
       "50799  128000.0    automatic   sedan        blue     0.0  2018-11-15   \n",
       "50800  139573.0    automatic   sedan       black     0.0  2018-07-02   \n",
       "50801       NaN    automatic   sedan         NaN     0.0  2018-06-05   \n",
       "\n",
       "       days_listed     brand  year_posted  \n",
       "0               19       bmw         2018  \n",
       "1               50      ford         2018  \n",
       "2               79   hyundai         2019  \n",
       "3                9      ford         2019  \n",
       "4               28  chrysler         2019  \n",
       "...            ...       ...          ...  \n",
       "50797           37    nissan         2018  \n",
       "50798           22     honda         2018  \n",
       "50799           32   hyundai         2018  \n",
       "50800           71    toyota         2018  \n",
       "50801           10    nissan         2018  \n",
       "\n",
       "[50802 rows x 15 columns]"
      ]
     },
     "execution_count": 50,
     "metadata": {},
     "output_type": "execute_result"
    }
   ],
   "source": [
    "df"
   ]
  },
  {
   "cell_type": "markdown",
   "metadata": {},
   "source": [
    "Далее мы вычтем из .model_yearyear_posted"
   ]
  },
  {
   "cell_type": "code",
   "execution_count": 51,
   "metadata": {},
   "outputs": [],
   "source": [
    "df['exploitation_years'] = df['year_posted'] - df['model_year']"
   ]
  },
  {
   "cell_type": "code",
   "execution_count": 52,
   "metadata": {},
   "outputs": [
    {
     "data": {
      "text/html": [
       "<div>\n",
       "<style scoped>\n",
       "    .dataframe tbody tr th:only-of-type {\n",
       "        vertical-align: middle;\n",
       "    }\n",
       "\n",
       "    .dataframe tbody tr th {\n",
       "        vertical-align: top;\n",
       "    }\n",
       "\n",
       "    .dataframe thead th {\n",
       "        text-align: right;\n",
       "    }\n",
       "</style>\n",
       "<table border=\"1\" class=\"dataframe\">\n",
       "  <thead>\n",
       "    <tr style=\"text-align: right;\">\n",
       "      <th></th>\n",
       "      <th>price</th>\n",
       "      <th>model_year</th>\n",
       "      <th>model</th>\n",
       "      <th>condition</th>\n",
       "      <th>cylinders</th>\n",
       "      <th>fuel</th>\n",
       "      <th>odometer</th>\n",
       "      <th>transmission</th>\n",
       "      <th>type</th>\n",
       "      <th>paint_color</th>\n",
       "      <th>is_4wd</th>\n",
       "      <th>date_posted</th>\n",
       "      <th>days_listed</th>\n",
       "      <th>brand</th>\n",
       "      <th>year_posted</th>\n",
       "      <th>exploitation_years</th>\n",
       "    </tr>\n",
       "  </thead>\n",
       "  <tbody>\n",
       "    <tr>\n",
       "      <th>0</th>\n",
       "      <td>9400.0</td>\n",
       "      <td>2011.0</td>\n",
       "      <td>bmw x5</td>\n",
       "      <td>good</td>\n",
       "      <td>6.0</td>\n",
       "      <td>gas</td>\n",
       "      <td>145000.0</td>\n",
       "      <td>automatic</td>\n",
       "      <td>SUV</td>\n",
       "      <td>NaN</td>\n",
       "      <td>1.0</td>\n",
       "      <td>2018-06-23</td>\n",
       "      <td>19</td>\n",
       "      <td>bmw</td>\n",
       "      <td>2018</td>\n",
       "      <td>7.0</td>\n",
       "    </tr>\n",
       "    <tr>\n",
       "      <th>1</th>\n",
       "      <td>25500.0</td>\n",
       "      <td>NaN</td>\n",
       "      <td>ford f-150</td>\n",
       "      <td>good</td>\n",
       "      <td>6.0</td>\n",
       "      <td>gas</td>\n",
       "      <td>88705.0</td>\n",
       "      <td>automatic</td>\n",
       "      <td>pickup</td>\n",
       "      <td>white</td>\n",
       "      <td>1.0</td>\n",
       "      <td>2018-10-19</td>\n",
       "      <td>50</td>\n",
       "      <td>ford</td>\n",
       "      <td>2018</td>\n",
       "      <td>NaN</td>\n",
       "    </tr>\n",
       "    <tr>\n",
       "      <th>2</th>\n",
       "      <td>5500.0</td>\n",
       "      <td>2013.0</td>\n",
       "      <td>hyundai sonata</td>\n",
       "      <td>like new</td>\n",
       "      <td>4.0</td>\n",
       "      <td>gas</td>\n",
       "      <td>110000.0</td>\n",
       "      <td>automatic</td>\n",
       "      <td>sedan</td>\n",
       "      <td>red</td>\n",
       "      <td>0.0</td>\n",
       "      <td>2019-02-07</td>\n",
       "      <td>79</td>\n",
       "      <td>hyundai</td>\n",
       "      <td>2019</td>\n",
       "      <td>6.0</td>\n",
       "    </tr>\n",
       "    <tr>\n",
       "      <th>3</th>\n",
       "      <td>1500.0</td>\n",
       "      <td>2003.0</td>\n",
       "      <td>ford f-150</td>\n",
       "      <td>fair</td>\n",
       "      <td>8.0</td>\n",
       "      <td>gas</td>\n",
       "      <td>NaN</td>\n",
       "      <td>automatic</td>\n",
       "      <td>pickup</td>\n",
       "      <td>NaN</td>\n",
       "      <td>0.0</td>\n",
       "      <td>2019-03-22</td>\n",
       "      <td>9</td>\n",
       "      <td>ford</td>\n",
       "      <td>2019</td>\n",
       "      <td>16.0</td>\n",
       "    </tr>\n",
       "    <tr>\n",
       "      <th>4</th>\n",
       "      <td>14900.0</td>\n",
       "      <td>2017.0</td>\n",
       "      <td>chrysler 200</td>\n",
       "      <td>excellent</td>\n",
       "      <td>4.0</td>\n",
       "      <td>gas</td>\n",
       "      <td>80903.0</td>\n",
       "      <td>automatic</td>\n",
       "      <td>sedan</td>\n",
       "      <td>black</td>\n",
       "      <td>0.0</td>\n",
       "      <td>2019-04-02</td>\n",
       "      <td>28</td>\n",
       "      <td>chrysler</td>\n",
       "      <td>2019</td>\n",
       "      <td>2.0</td>\n",
       "    </tr>\n",
       "    <tr>\n",
       "      <th>...</th>\n",
       "      <td>...</td>\n",
       "      <td>...</td>\n",
       "      <td>...</td>\n",
       "      <td>...</td>\n",
       "      <td>...</td>\n",
       "      <td>...</td>\n",
       "      <td>...</td>\n",
       "      <td>...</td>\n",
       "      <td>...</td>\n",
       "      <td>...</td>\n",
       "      <td>...</td>\n",
       "      <td>...</td>\n",
       "      <td>...</td>\n",
       "      <td>...</td>\n",
       "      <td>...</td>\n",
       "      <td>...</td>\n",
       "    </tr>\n",
       "    <tr>\n",
       "      <th>50797</th>\n",
       "      <td>9249.0</td>\n",
       "      <td>2013.0</td>\n",
       "      <td>nissan maxima</td>\n",
       "      <td>like new</td>\n",
       "      <td>6.0</td>\n",
       "      <td>gas</td>\n",
       "      <td>88136.0</td>\n",
       "      <td>automatic</td>\n",
       "      <td>sedan</td>\n",
       "      <td>black</td>\n",
       "      <td>0.0</td>\n",
       "      <td>2018-10-03</td>\n",
       "      <td>37</td>\n",
       "      <td>nissan</td>\n",
       "      <td>2018</td>\n",
       "      <td>5.0</td>\n",
       "    </tr>\n",
       "    <tr>\n",
       "      <th>50798</th>\n",
       "      <td>2700.0</td>\n",
       "      <td>2002.0</td>\n",
       "      <td>honda civic</td>\n",
       "      <td>salvage</td>\n",
       "      <td>4.0</td>\n",
       "      <td>gas</td>\n",
       "      <td>181500.0</td>\n",
       "      <td>automatic</td>\n",
       "      <td>sedan</td>\n",
       "      <td>white</td>\n",
       "      <td>0.0</td>\n",
       "      <td>2018-11-14</td>\n",
       "      <td>22</td>\n",
       "      <td>honda</td>\n",
       "      <td>2018</td>\n",
       "      <td>16.0</td>\n",
       "    </tr>\n",
       "    <tr>\n",
       "      <th>50799</th>\n",
       "      <td>3950.0</td>\n",
       "      <td>2009.0</td>\n",
       "      <td>hyundai sonata</td>\n",
       "      <td>excellent</td>\n",
       "      <td>4.0</td>\n",
       "      <td>gas</td>\n",
       "      <td>128000.0</td>\n",
       "      <td>automatic</td>\n",
       "      <td>sedan</td>\n",
       "      <td>blue</td>\n",
       "      <td>0.0</td>\n",
       "      <td>2018-11-15</td>\n",
       "      <td>32</td>\n",
       "      <td>hyundai</td>\n",
       "      <td>2018</td>\n",
       "      <td>9.0</td>\n",
       "    </tr>\n",
       "    <tr>\n",
       "      <th>50800</th>\n",
       "      <td>7455.0</td>\n",
       "      <td>2013.0</td>\n",
       "      <td>toyota corolla</td>\n",
       "      <td>good</td>\n",
       "      <td>4.0</td>\n",
       "      <td>gas</td>\n",
       "      <td>139573.0</td>\n",
       "      <td>automatic</td>\n",
       "      <td>sedan</td>\n",
       "      <td>black</td>\n",
       "      <td>0.0</td>\n",
       "      <td>2018-07-02</td>\n",
       "      <td>71</td>\n",
       "      <td>toyota</td>\n",
       "      <td>2018</td>\n",
       "      <td>5.0</td>\n",
       "    </tr>\n",
       "    <tr>\n",
       "      <th>50801</th>\n",
       "      <td>6300.0</td>\n",
       "      <td>2014.0</td>\n",
       "      <td>nissan altima</td>\n",
       "      <td>good</td>\n",
       "      <td>4.0</td>\n",
       "      <td>gas</td>\n",
       "      <td>NaN</td>\n",
       "      <td>automatic</td>\n",
       "      <td>sedan</td>\n",
       "      <td>NaN</td>\n",
       "      <td>0.0</td>\n",
       "      <td>2018-06-05</td>\n",
       "      <td>10</td>\n",
       "      <td>nissan</td>\n",
       "      <td>2018</td>\n",
       "      <td>4.0</td>\n",
       "    </tr>\n",
       "  </tbody>\n",
       "</table>\n",
       "<p>50802 rows × 16 columns</p>\n",
       "</div>"
      ],
      "text/plain": [
       "         price  model_year           model  condition  cylinders fuel  \\\n",
       "0       9400.0      2011.0          bmw x5       good        6.0  gas   \n",
       "1      25500.0         NaN      ford f-150       good        6.0  gas   \n",
       "2       5500.0      2013.0  hyundai sonata   like new        4.0  gas   \n",
       "3       1500.0      2003.0      ford f-150       fair        8.0  gas   \n",
       "4      14900.0      2017.0    chrysler 200  excellent        4.0  gas   \n",
       "...        ...         ...             ...        ...        ...  ...   \n",
       "50797   9249.0      2013.0   nissan maxima   like new        6.0  gas   \n",
       "50798   2700.0      2002.0     honda civic    salvage        4.0  gas   \n",
       "50799   3950.0      2009.0  hyundai sonata  excellent        4.0  gas   \n",
       "50800   7455.0      2013.0  toyota corolla       good        4.0  gas   \n",
       "50801   6300.0      2014.0   nissan altima       good        4.0  gas   \n",
       "\n",
       "       odometer transmission    type paint_color  is_4wd date_posted  \\\n",
       "0      145000.0    automatic     SUV         NaN     1.0  2018-06-23   \n",
       "1       88705.0    automatic  pickup       white     1.0  2018-10-19   \n",
       "2      110000.0    automatic   sedan         red     0.0  2019-02-07   \n",
       "3           NaN    automatic  pickup         NaN     0.0  2019-03-22   \n",
       "4       80903.0    automatic   sedan       black     0.0  2019-04-02   \n",
       "...         ...          ...     ...         ...     ...         ...   \n",
       "50797   88136.0    automatic   sedan       black     0.0  2018-10-03   \n",
       "50798  181500.0    automatic   sedan       white     0.0  2018-11-14   \n",
       "50799  128000.0    automatic   sedan        blue     0.0  2018-11-15   \n",
       "50800  139573.0    automatic   sedan       black     0.0  2018-07-02   \n",
       "50801       NaN    automatic   sedan         NaN     0.0  2018-06-05   \n",
       "\n",
       "       days_listed     brand  year_posted  exploitation_years  \n",
       "0               19       bmw         2018                 7.0  \n",
       "1               50      ford         2018                 NaN  \n",
       "2               79   hyundai         2019                 6.0  \n",
       "3                9      ford         2019                16.0  \n",
       "4               28  chrysler         2019                 2.0  \n",
       "...            ...       ...          ...                 ...  \n",
       "50797           37    nissan         2018                 5.0  \n",
       "50798           22     honda         2018                16.0  \n",
       "50799           32   hyundai         2018                 9.0  \n",
       "50800           71    toyota         2018                 5.0  \n",
       "50801           10    nissan         2018                 4.0  \n",
       "\n",
       "[50802 rows x 16 columns]"
      ]
     },
     "execution_count": 52,
     "metadata": {},
     "output_type": "execute_result"
    }
   ],
   "source": [
    "df"
   ]
  },
  {
   "cell_type": "markdown",
   "metadata": {},
   "source": [
    "Теперь рассчитаем значение одометра за год для каждого наблюдения."
   ]
  },
  {
   "cell_type": "code",
   "execution_count": 53,
   "metadata": {},
   "outputs": [],
   "source": [
    "df['odometer_per_year'] = df['odometer'] / df['exploitation_years']"
   ]
  },
  {
   "cell_type": "code",
   "execution_count": 57,
   "metadata": {},
   "outputs": [
    {
     "data": {
      "text/html": [
       "<div>\n",
       "<style scoped>\n",
       "    .dataframe tbody tr th:only-of-type {\n",
       "        vertical-align: middle;\n",
       "    }\n",
       "\n",
       "    .dataframe tbody tr th {\n",
       "        vertical-align: top;\n",
       "    }\n",
       "\n",
       "    .dataframe thead th {\n",
       "        text-align: right;\n",
       "    }\n",
       "</style>\n",
       "<table border=\"1\" class=\"dataframe\">\n",
       "  <thead>\n",
       "    <tr style=\"text-align: right;\">\n",
       "      <th></th>\n",
       "      <th>price</th>\n",
       "      <th>model_year</th>\n",
       "      <th>model</th>\n",
       "      <th>condition</th>\n",
       "      <th>cylinders</th>\n",
       "      <th>fuel</th>\n",
       "      <th>odometer</th>\n",
       "      <th>transmission</th>\n",
       "      <th>type</th>\n",
       "      <th>paint_color</th>\n",
       "      <th>is_4wd</th>\n",
       "      <th>date_posted</th>\n",
       "      <th>days_listed</th>\n",
       "      <th>brand</th>\n",
       "      <th>year_posted</th>\n",
       "      <th>exploitation_years</th>\n",
       "      <th>odometer_per_year</th>\n",
       "    </tr>\n",
       "  </thead>\n",
       "  <tbody>\n",
       "    <tr>\n",
       "      <th>0</th>\n",
       "      <td>9400.0</td>\n",
       "      <td>2011.0</td>\n",
       "      <td>bmw x5</td>\n",
       "      <td>good</td>\n",
       "      <td>6.0</td>\n",
       "      <td>gas</td>\n",
       "      <td>145000.0</td>\n",
       "      <td>automatic</td>\n",
       "      <td>SUV</td>\n",
       "      <td>NaN</td>\n",
       "      <td>1.0</td>\n",
       "      <td>2018-06-23</td>\n",
       "      <td>19</td>\n",
       "      <td>bmw</td>\n",
       "      <td>2018</td>\n",
       "      <td>7.0</td>\n",
       "      <td>20714.285714</td>\n",
       "    </tr>\n",
       "    <tr>\n",
       "      <th>1</th>\n",
       "      <td>25500.0</td>\n",
       "      <td>NaN</td>\n",
       "      <td>ford f-150</td>\n",
       "      <td>good</td>\n",
       "      <td>6.0</td>\n",
       "      <td>gas</td>\n",
       "      <td>88705.0</td>\n",
       "      <td>automatic</td>\n",
       "      <td>pickup</td>\n",
       "      <td>white</td>\n",
       "      <td>1.0</td>\n",
       "      <td>2018-10-19</td>\n",
       "      <td>50</td>\n",
       "      <td>ford</td>\n",
       "      <td>2018</td>\n",
       "      <td>NaN</td>\n",
       "      <td>NaN</td>\n",
       "    </tr>\n",
       "    <tr>\n",
       "      <th>2</th>\n",
       "      <td>5500.0</td>\n",
       "      <td>2013.0</td>\n",
       "      <td>hyundai sonata</td>\n",
       "      <td>like new</td>\n",
       "      <td>4.0</td>\n",
       "      <td>gas</td>\n",
       "      <td>110000.0</td>\n",
       "      <td>automatic</td>\n",
       "      <td>sedan</td>\n",
       "      <td>red</td>\n",
       "      <td>0.0</td>\n",
       "      <td>2019-02-07</td>\n",
       "      <td>79</td>\n",
       "      <td>hyundai</td>\n",
       "      <td>2019</td>\n",
       "      <td>6.0</td>\n",
       "      <td>18333.333333</td>\n",
       "    </tr>\n",
       "    <tr>\n",
       "      <th>3</th>\n",
       "      <td>1500.0</td>\n",
       "      <td>2003.0</td>\n",
       "      <td>ford f-150</td>\n",
       "      <td>fair</td>\n",
       "      <td>8.0</td>\n",
       "      <td>gas</td>\n",
       "      <td>NaN</td>\n",
       "      <td>automatic</td>\n",
       "      <td>pickup</td>\n",
       "      <td>NaN</td>\n",
       "      <td>0.0</td>\n",
       "      <td>2019-03-22</td>\n",
       "      <td>9</td>\n",
       "      <td>ford</td>\n",
       "      <td>2019</td>\n",
       "      <td>16.0</td>\n",
       "      <td>NaN</td>\n",
       "    </tr>\n",
       "    <tr>\n",
       "      <th>4</th>\n",
       "      <td>14900.0</td>\n",
       "      <td>2017.0</td>\n",
       "      <td>chrysler 200</td>\n",
       "      <td>excellent</td>\n",
       "      <td>4.0</td>\n",
       "      <td>gas</td>\n",
       "      <td>80903.0</td>\n",
       "      <td>automatic</td>\n",
       "      <td>sedan</td>\n",
       "      <td>black</td>\n",
       "      <td>0.0</td>\n",
       "      <td>2019-04-02</td>\n",
       "      <td>28</td>\n",
       "      <td>chrysler</td>\n",
       "      <td>2019</td>\n",
       "      <td>2.0</td>\n",
       "      <td>40451.500000</td>\n",
       "    </tr>\n",
       "    <tr>\n",
       "      <th>...</th>\n",
       "      <td>...</td>\n",
       "      <td>...</td>\n",
       "      <td>...</td>\n",
       "      <td>...</td>\n",
       "      <td>...</td>\n",
       "      <td>...</td>\n",
       "      <td>...</td>\n",
       "      <td>...</td>\n",
       "      <td>...</td>\n",
       "      <td>...</td>\n",
       "      <td>...</td>\n",
       "      <td>...</td>\n",
       "      <td>...</td>\n",
       "      <td>...</td>\n",
       "      <td>...</td>\n",
       "      <td>...</td>\n",
       "      <td>...</td>\n",
       "    </tr>\n",
       "    <tr>\n",
       "      <th>50797</th>\n",
       "      <td>9249.0</td>\n",
       "      <td>2013.0</td>\n",
       "      <td>nissan maxima</td>\n",
       "      <td>like new</td>\n",
       "      <td>6.0</td>\n",
       "      <td>gas</td>\n",
       "      <td>88136.0</td>\n",
       "      <td>automatic</td>\n",
       "      <td>sedan</td>\n",
       "      <td>black</td>\n",
       "      <td>0.0</td>\n",
       "      <td>2018-10-03</td>\n",
       "      <td>37</td>\n",
       "      <td>nissan</td>\n",
       "      <td>2018</td>\n",
       "      <td>5.0</td>\n",
       "      <td>17627.200000</td>\n",
       "    </tr>\n",
       "    <tr>\n",
       "      <th>50798</th>\n",
       "      <td>2700.0</td>\n",
       "      <td>2002.0</td>\n",
       "      <td>honda civic</td>\n",
       "      <td>salvage</td>\n",
       "      <td>4.0</td>\n",
       "      <td>gas</td>\n",
       "      <td>181500.0</td>\n",
       "      <td>automatic</td>\n",
       "      <td>sedan</td>\n",
       "      <td>white</td>\n",
       "      <td>0.0</td>\n",
       "      <td>2018-11-14</td>\n",
       "      <td>22</td>\n",
       "      <td>honda</td>\n",
       "      <td>2018</td>\n",
       "      <td>16.0</td>\n",
       "      <td>11343.750000</td>\n",
       "    </tr>\n",
       "    <tr>\n",
       "      <th>50799</th>\n",
       "      <td>3950.0</td>\n",
       "      <td>2009.0</td>\n",
       "      <td>hyundai sonata</td>\n",
       "      <td>excellent</td>\n",
       "      <td>4.0</td>\n",
       "      <td>gas</td>\n",
       "      <td>128000.0</td>\n",
       "      <td>automatic</td>\n",
       "      <td>sedan</td>\n",
       "      <td>blue</td>\n",
       "      <td>0.0</td>\n",
       "      <td>2018-11-15</td>\n",
       "      <td>32</td>\n",
       "      <td>hyundai</td>\n",
       "      <td>2018</td>\n",
       "      <td>9.0</td>\n",
       "      <td>14222.222222</td>\n",
       "    </tr>\n",
       "    <tr>\n",
       "      <th>50800</th>\n",
       "      <td>7455.0</td>\n",
       "      <td>2013.0</td>\n",
       "      <td>toyota corolla</td>\n",
       "      <td>good</td>\n",
       "      <td>4.0</td>\n",
       "      <td>gas</td>\n",
       "      <td>139573.0</td>\n",
       "      <td>automatic</td>\n",
       "      <td>sedan</td>\n",
       "      <td>black</td>\n",
       "      <td>0.0</td>\n",
       "      <td>2018-07-02</td>\n",
       "      <td>71</td>\n",
       "      <td>toyota</td>\n",
       "      <td>2018</td>\n",
       "      <td>5.0</td>\n",
       "      <td>27914.600000</td>\n",
       "    </tr>\n",
       "    <tr>\n",
       "      <th>50801</th>\n",
       "      <td>6300.0</td>\n",
       "      <td>2014.0</td>\n",
       "      <td>nissan altima</td>\n",
       "      <td>good</td>\n",
       "      <td>4.0</td>\n",
       "      <td>gas</td>\n",
       "      <td>NaN</td>\n",
       "      <td>automatic</td>\n",
       "      <td>sedan</td>\n",
       "      <td>NaN</td>\n",
       "      <td>0.0</td>\n",
       "      <td>2018-06-05</td>\n",
       "      <td>10</td>\n",
       "      <td>nissan</td>\n",
       "      <td>2018</td>\n",
       "      <td>4.0</td>\n",
       "      <td>NaN</td>\n",
       "    </tr>\n",
       "  </tbody>\n",
       "</table>\n",
       "<p>50802 rows × 17 columns</p>\n",
       "</div>"
      ],
      "text/plain": [
       "         price  model_year           model  condition  cylinders fuel  \\\n",
       "0       9400.0      2011.0          bmw x5       good        6.0  gas   \n",
       "1      25500.0         NaN      ford f-150       good        6.0  gas   \n",
       "2       5500.0      2013.0  hyundai sonata   like new        4.0  gas   \n",
       "3       1500.0      2003.0      ford f-150       fair        8.0  gas   \n",
       "4      14900.0      2017.0    chrysler 200  excellent        4.0  gas   \n",
       "...        ...         ...             ...        ...        ...  ...   \n",
       "50797   9249.0      2013.0   nissan maxima   like new        6.0  gas   \n",
       "50798   2700.0      2002.0     honda civic    salvage        4.0  gas   \n",
       "50799   3950.0      2009.0  hyundai sonata  excellent        4.0  gas   \n",
       "50800   7455.0      2013.0  toyota corolla       good        4.0  gas   \n",
       "50801   6300.0      2014.0   nissan altima       good        4.0  gas   \n",
       "\n",
       "       odometer transmission    type paint_color  is_4wd date_posted  \\\n",
       "0      145000.0    automatic     SUV         NaN     1.0  2018-06-23   \n",
       "1       88705.0    automatic  pickup       white     1.0  2018-10-19   \n",
       "2      110000.0    automatic   sedan         red     0.0  2019-02-07   \n",
       "3           NaN    automatic  pickup         NaN     0.0  2019-03-22   \n",
       "4       80903.0    automatic   sedan       black     0.0  2019-04-02   \n",
       "...         ...          ...     ...         ...     ...         ...   \n",
       "50797   88136.0    automatic   sedan       black     0.0  2018-10-03   \n",
       "50798  181500.0    automatic   sedan       white     0.0  2018-11-14   \n",
       "50799  128000.0    automatic   sedan        blue     0.0  2018-11-15   \n",
       "50800  139573.0    automatic   sedan       black     0.0  2018-07-02   \n",
       "50801       NaN    automatic   sedan         NaN     0.0  2018-06-05   \n",
       "\n",
       "       days_listed     brand  year_posted  exploitation_years  \\\n",
       "0               19       bmw         2018                 7.0   \n",
       "1               50      ford         2018                 NaN   \n",
       "2               79   hyundai         2019                 6.0   \n",
       "3                9      ford         2019                16.0   \n",
       "4               28  chrysler         2019                 2.0   \n",
       "...            ...       ...          ...                 ...   \n",
       "50797           37    nissan         2018                 5.0   \n",
       "50798           22     honda         2018                16.0   \n",
       "50799           32   hyundai         2018                 9.0   \n",
       "50800           71    toyota         2018                 5.0   \n",
       "50801           10    nissan         2018                 4.0   \n",
       "\n",
       "       odometer_per_year  \n",
       "0           20714.285714  \n",
       "1                    NaN  \n",
       "2           18333.333333  \n",
       "3                    NaN  \n",
       "4           40451.500000  \n",
       "...                  ...  \n",
       "50797       17627.200000  \n",
       "50798       11343.750000  \n",
       "50799       14222.222222  \n",
       "50800       27914.600000  \n",
       "50801                NaN  \n",
       "\n",
       "[50802 rows x 17 columns]"
      ]
     },
     "execution_count": 57,
     "metadata": {},
     "output_type": "execute_result"
    }
   ],
   "source": [
    "df"
   ]
  },
  {
   "cell_type": "markdown",
   "metadata": {},
   "source": [
    "Следующим шагом является поиск медианного значения для каждого типа и комбинации моделей.odometer_per_year"
   ]
  },
  {
   "cell_type": "code",
   "execution_count": 58,
   "metadata": {},
   "outputs": [],
   "source": [
    "odometer_per_year_dict = df.groupby(['model','type'])['odometer_per_year'].median().to_dict()"
   ]
  },
  {
   "cell_type": "markdown",
   "metadata": {},
   "source": [
    "Для каждой строки, где находится NaN, мы возьмем значение и разделим его на медиану для этой модели и комбинации типов и сохраним это значение в столбце, затем вычтем из столбца и сохраним это значение в столбец. model_yearodometerodometer_per_yearexploitation_yearsexploitation_yearsyear-postedmodel_year"
   ]
  },
  {
   "cell_type": "code",
   "execution_count": 59,
   "metadata": {},
   "outputs": [],
   "source": [
    "def fill_in_model_year(row):\n",
    "    \"\"\"\n",
    "    Takes in a row and if the model_year of this row is NaN, takes `odometer` value and \n",
    "    divides it by median `odometer_per_year` for this model and type combination \n",
    "    and saves this value in the `exploitation_years` column, \n",
    "    then subtracts `exploitation_years` from the `year-posted` column and saves this value to the `model_year` column. \n",
    "    \"\"\"\n",
    "    if np.isnan(row['model_year']):\n",
    "        row['exploitation_years'] = row['odometer'] / odometer_per_year_dict[(row['model'], row['type'])]\n",
    "        row['model_year'] = row['year_posted'] - row['exploitation_years']\n",
    "    return row"
   ]
  },
  {
   "cell_type": "code",
   "execution_count": 60,
   "metadata": {},
   "outputs": [],
   "source": [
    "df = df.apply(fill_in_model_year, axis=1)"
   ]
  },
  {
   "cell_type": "code",
   "execution_count": 62,
   "metadata": {},
   "outputs": [
    {
     "data": {
      "text/html": [
       "<div>\n",
       "<style scoped>\n",
       "    .dataframe tbody tr th:only-of-type {\n",
       "        vertical-align: middle;\n",
       "    }\n",
       "\n",
       "    .dataframe tbody tr th {\n",
       "        vertical-align: top;\n",
       "    }\n",
       "\n",
       "    .dataframe thead th {\n",
       "        text-align: right;\n",
       "    }\n",
       "</style>\n",
       "<table border=\"1\" class=\"dataframe\">\n",
       "  <thead>\n",
       "    <tr style=\"text-align: right;\">\n",
       "      <th></th>\n",
       "      <th>price</th>\n",
       "      <th>model_year</th>\n",
       "      <th>model</th>\n",
       "      <th>condition</th>\n",
       "      <th>cylinders</th>\n",
       "      <th>fuel</th>\n",
       "      <th>odometer</th>\n",
       "      <th>transmission</th>\n",
       "      <th>type</th>\n",
       "      <th>paint_color</th>\n",
       "      <th>is_4wd</th>\n",
       "      <th>date_posted</th>\n",
       "      <th>days_listed</th>\n",
       "      <th>brand</th>\n",
       "      <th>year_posted</th>\n",
       "      <th>exploitation_years</th>\n",
       "      <th>odometer_per_year</th>\n",
       "    </tr>\n",
       "  </thead>\n",
       "  <tbody>\n",
       "    <tr>\n",
       "      <th>0</th>\n",
       "      <td>9400.0</td>\n",
       "      <td>2011.000000</td>\n",
       "      <td>bmw x5</td>\n",
       "      <td>good</td>\n",
       "      <td>6.0</td>\n",
       "      <td>gas</td>\n",
       "      <td>145000.0</td>\n",
       "      <td>automatic</td>\n",
       "      <td>SUV</td>\n",
       "      <td>NaN</td>\n",
       "      <td>1.0</td>\n",
       "      <td>2018-06-23</td>\n",
       "      <td>19</td>\n",
       "      <td>bmw</td>\n",
       "      <td>2018</td>\n",
       "      <td>7.000000</td>\n",
       "      <td>20714.285714</td>\n",
       "    </tr>\n",
       "    <tr>\n",
       "      <th>1</th>\n",
       "      <td>25500.0</td>\n",
       "      <td>2012.234175</td>\n",
       "      <td>ford f-150</td>\n",
       "      <td>good</td>\n",
       "      <td>6.0</td>\n",
       "      <td>gas</td>\n",
       "      <td>88705.0</td>\n",
       "      <td>automatic</td>\n",
       "      <td>pickup</td>\n",
       "      <td>white</td>\n",
       "      <td>1.0</td>\n",
       "      <td>2018-10-19</td>\n",
       "      <td>50</td>\n",
       "      <td>ford</td>\n",
       "      <td>2018</td>\n",
       "      <td>5.765825</td>\n",
       "      <td>NaN</td>\n",
       "    </tr>\n",
       "    <tr>\n",
       "      <th>2</th>\n",
       "      <td>5500.0</td>\n",
       "      <td>2013.000000</td>\n",
       "      <td>hyundai sonata</td>\n",
       "      <td>like new</td>\n",
       "      <td>4.0</td>\n",
       "      <td>gas</td>\n",
       "      <td>110000.0</td>\n",
       "      <td>automatic</td>\n",
       "      <td>sedan</td>\n",
       "      <td>red</td>\n",
       "      <td>0.0</td>\n",
       "      <td>2019-02-07</td>\n",
       "      <td>79</td>\n",
       "      <td>hyundai</td>\n",
       "      <td>2019</td>\n",
       "      <td>6.000000</td>\n",
       "      <td>18333.333333</td>\n",
       "    </tr>\n",
       "    <tr>\n",
       "      <th>3</th>\n",
       "      <td>1500.0</td>\n",
       "      <td>2003.000000</td>\n",
       "      <td>ford f-150</td>\n",
       "      <td>fair</td>\n",
       "      <td>8.0</td>\n",
       "      <td>gas</td>\n",
       "      <td>NaN</td>\n",
       "      <td>automatic</td>\n",
       "      <td>pickup</td>\n",
       "      <td>NaN</td>\n",
       "      <td>0.0</td>\n",
       "      <td>2019-03-22</td>\n",
       "      <td>9</td>\n",
       "      <td>ford</td>\n",
       "      <td>2019</td>\n",
       "      <td>16.000000</td>\n",
       "      <td>NaN</td>\n",
       "    </tr>\n",
       "    <tr>\n",
       "      <th>4</th>\n",
       "      <td>14900.0</td>\n",
       "      <td>2017.000000</td>\n",
       "      <td>chrysler 200</td>\n",
       "      <td>excellent</td>\n",
       "      <td>4.0</td>\n",
       "      <td>gas</td>\n",
       "      <td>80903.0</td>\n",
       "      <td>automatic</td>\n",
       "      <td>sedan</td>\n",
       "      <td>black</td>\n",
       "      <td>0.0</td>\n",
       "      <td>2019-04-02</td>\n",
       "      <td>28</td>\n",
       "      <td>chrysler</td>\n",
       "      <td>2019</td>\n",
       "      <td>2.000000</td>\n",
       "      <td>40451.500000</td>\n",
       "    </tr>\n",
       "    <tr>\n",
       "      <th>...</th>\n",
       "      <td>...</td>\n",
       "      <td>...</td>\n",
       "      <td>...</td>\n",
       "      <td>...</td>\n",
       "      <td>...</td>\n",
       "      <td>...</td>\n",
       "      <td>...</td>\n",
       "      <td>...</td>\n",
       "      <td>...</td>\n",
       "      <td>...</td>\n",
       "      <td>...</td>\n",
       "      <td>...</td>\n",
       "      <td>...</td>\n",
       "      <td>...</td>\n",
       "      <td>...</td>\n",
       "      <td>...</td>\n",
       "      <td>...</td>\n",
       "    </tr>\n",
       "    <tr>\n",
       "      <th>50797</th>\n",
       "      <td>9249.0</td>\n",
       "      <td>2013.000000</td>\n",
       "      <td>nissan maxima</td>\n",
       "      <td>like new</td>\n",
       "      <td>6.0</td>\n",
       "      <td>gas</td>\n",
       "      <td>88136.0</td>\n",
       "      <td>automatic</td>\n",
       "      <td>sedan</td>\n",
       "      <td>black</td>\n",
       "      <td>0.0</td>\n",
       "      <td>2018-10-03</td>\n",
       "      <td>37</td>\n",
       "      <td>nissan</td>\n",
       "      <td>2018</td>\n",
       "      <td>5.000000</td>\n",
       "      <td>17627.200000</td>\n",
       "    </tr>\n",
       "    <tr>\n",
       "      <th>50798</th>\n",
       "      <td>2700.0</td>\n",
       "      <td>2002.000000</td>\n",
       "      <td>honda civic</td>\n",
       "      <td>salvage</td>\n",
       "      <td>4.0</td>\n",
       "      <td>gas</td>\n",
       "      <td>181500.0</td>\n",
       "      <td>automatic</td>\n",
       "      <td>sedan</td>\n",
       "      <td>white</td>\n",
       "      <td>0.0</td>\n",
       "      <td>2018-11-14</td>\n",
       "      <td>22</td>\n",
       "      <td>honda</td>\n",
       "      <td>2018</td>\n",
       "      <td>16.000000</td>\n",
       "      <td>11343.750000</td>\n",
       "    </tr>\n",
       "    <tr>\n",
       "      <th>50799</th>\n",
       "      <td>3950.0</td>\n",
       "      <td>2009.000000</td>\n",
       "      <td>hyundai sonata</td>\n",
       "      <td>excellent</td>\n",
       "      <td>4.0</td>\n",
       "      <td>gas</td>\n",
       "      <td>128000.0</td>\n",
       "      <td>automatic</td>\n",
       "      <td>sedan</td>\n",
       "      <td>blue</td>\n",
       "      <td>0.0</td>\n",
       "      <td>2018-11-15</td>\n",
       "      <td>32</td>\n",
       "      <td>hyundai</td>\n",
       "      <td>2018</td>\n",
       "      <td>9.000000</td>\n",
       "      <td>14222.222222</td>\n",
       "    </tr>\n",
       "    <tr>\n",
       "      <th>50800</th>\n",
       "      <td>7455.0</td>\n",
       "      <td>2013.000000</td>\n",
       "      <td>toyota corolla</td>\n",
       "      <td>good</td>\n",
       "      <td>4.0</td>\n",
       "      <td>gas</td>\n",
       "      <td>139573.0</td>\n",
       "      <td>automatic</td>\n",
       "      <td>sedan</td>\n",
       "      <td>black</td>\n",
       "      <td>0.0</td>\n",
       "      <td>2018-07-02</td>\n",
       "      <td>71</td>\n",
       "      <td>toyota</td>\n",
       "      <td>2018</td>\n",
       "      <td>5.000000</td>\n",
       "      <td>27914.600000</td>\n",
       "    </tr>\n",
       "    <tr>\n",
       "      <th>50801</th>\n",
       "      <td>6300.0</td>\n",
       "      <td>2014.000000</td>\n",
       "      <td>nissan altima</td>\n",
       "      <td>good</td>\n",
       "      <td>4.0</td>\n",
       "      <td>gas</td>\n",
       "      <td>NaN</td>\n",
       "      <td>automatic</td>\n",
       "      <td>sedan</td>\n",
       "      <td>NaN</td>\n",
       "      <td>0.0</td>\n",
       "      <td>2018-06-05</td>\n",
       "      <td>10</td>\n",
       "      <td>nissan</td>\n",
       "      <td>2018</td>\n",
       "      <td>4.000000</td>\n",
       "      <td>NaN</td>\n",
       "    </tr>\n",
       "  </tbody>\n",
       "</table>\n",
       "<p>50802 rows × 17 columns</p>\n",
       "</div>"
      ],
      "text/plain": [
       "         price   model_year           model  condition  cylinders fuel  \\\n",
       "0       9400.0  2011.000000          bmw x5       good        6.0  gas   \n",
       "1      25500.0  2012.234175      ford f-150       good        6.0  gas   \n",
       "2       5500.0  2013.000000  hyundai sonata   like new        4.0  gas   \n",
       "3       1500.0  2003.000000      ford f-150       fair        8.0  gas   \n",
       "4      14900.0  2017.000000    chrysler 200  excellent        4.0  gas   \n",
       "...        ...          ...             ...        ...        ...  ...   \n",
       "50797   9249.0  2013.000000   nissan maxima   like new        6.0  gas   \n",
       "50798   2700.0  2002.000000     honda civic    salvage        4.0  gas   \n",
       "50799   3950.0  2009.000000  hyundai sonata  excellent        4.0  gas   \n",
       "50800   7455.0  2013.000000  toyota corolla       good        4.0  gas   \n",
       "50801   6300.0  2014.000000   nissan altima       good        4.0  gas   \n",
       "\n",
       "       odometer transmission    type paint_color  is_4wd date_posted  \\\n",
       "0      145000.0    automatic     SUV         NaN     1.0  2018-06-23   \n",
       "1       88705.0    automatic  pickup       white     1.0  2018-10-19   \n",
       "2      110000.0    automatic   sedan         red     0.0  2019-02-07   \n",
       "3           NaN    automatic  pickup         NaN     0.0  2019-03-22   \n",
       "4       80903.0    automatic   sedan       black     0.0  2019-04-02   \n",
       "...         ...          ...     ...         ...     ...         ...   \n",
       "50797   88136.0    automatic   sedan       black     0.0  2018-10-03   \n",
       "50798  181500.0    automatic   sedan       white     0.0  2018-11-14   \n",
       "50799  128000.0    automatic   sedan        blue     0.0  2018-11-15   \n",
       "50800  139573.0    automatic   sedan       black     0.0  2018-07-02   \n",
       "50801       NaN    automatic   sedan         NaN     0.0  2018-06-05   \n",
       "\n",
       "       days_listed     brand  year_posted  exploitation_years  \\\n",
       "0               19       bmw         2018            7.000000   \n",
       "1               50      ford         2018            5.765825   \n",
       "2               79   hyundai         2019            6.000000   \n",
       "3                9      ford         2019           16.000000   \n",
       "4               28  chrysler         2019            2.000000   \n",
       "...            ...       ...          ...                 ...   \n",
       "50797           37    nissan         2018            5.000000   \n",
       "50798           22     honda         2018           16.000000   \n",
       "50799           32   hyundai         2018            9.000000   \n",
       "50800           71    toyota         2018            5.000000   \n",
       "50801           10    nissan         2018            4.000000   \n",
       "\n",
       "       odometer_per_year  \n",
       "0           20714.285714  \n",
       "1                    NaN  \n",
       "2           18333.333333  \n",
       "3                    NaN  \n",
       "4           40451.500000  \n",
       "...                  ...  \n",
       "50797       17627.200000  \n",
       "50798       11343.750000  \n",
       "50799       14222.222222  \n",
       "50800       27914.600000  \n",
       "50801                NaN  \n",
       "\n",
       "[50802 rows x 17 columns]"
      ]
     },
     "execution_count": 62,
     "metadata": {},
     "output_type": "execute_result"
    }
   ],
   "source": [
    "df"
   ]
  },
  {
   "cell_type": "code",
   "execution_count": 64,
   "metadata": {},
   "outputs": [
    {
     "data": {
      "text/plain": [
       "542"
      ]
     },
     "execution_count": 64,
     "metadata": {},
     "output_type": "execute_result"
    }
   ],
   "source": [
    "df['model_year'].isnull().sum()"
   ]
  },
  {
   "cell_type": "markdown",
   "metadata": {},
   "source": [
    "Эти 7 наблюдений уникальны в этом наборе данных (только 1 строка с комбинацией модели и типа), поэтому для них у нас нет правильных медиан для заполнения столбца. Мы вынуждены исключить их из кадра данных. model_year"
   ]
  },
  {
   "cell_type": "code",
   "execution_count": 65,
   "metadata": {},
   "outputs": [
    {
     "data": {
      "text/plain": [
       "(50260, 17)"
      ]
     },
     "execution_count": 65,
     "metadata": {},
     "output_type": "execute_result"
    }
   ],
   "source": [
    "df = df.dropna(subset=['model_year'], axis=0)\n",
    "df.reset_index(drop=True, inplace=True)\n",
    "\n",
    "df.shape"
   ]
  },
  {
   "cell_type": "markdown",
   "metadata": {},
   "source": [
    "Наконец, давайте изменим тип данных на целое число."
   ]
  },
  {
   "cell_type": "code",
   "execution_count": 66,
   "metadata": {},
   "outputs": [],
   "source": [
    "df['model_year'] = df['model_year'].astype('int')"
   ]
  },
  {
   "cell_type": "markdown",
   "metadata": {},
   "source": [
    "Нам больше не нужны столбцы и, поэтому давайте их уберем.odometer_per_yearexploitation_years"
   ]
  },
  {
   "cell_type": "code",
   "execution_count": 67,
   "metadata": {},
   "outputs": [
    {
     "data": {
      "text/plain": [
       "(50260, 15)"
      ]
     },
     "execution_count": 67,
     "metadata": {},
     "output_type": "execute_result"
    }
   ],
   "source": [
    "df = df.drop(['odometer_per_year','exploitation_years'], axis=1)\n",
    "df.reset_index(drop=True, inplace=True)\n",
    "\n",
    "df.shape"
   ]
  },
  {
   "cell_type": "markdown",
   "metadata": {},
   "source": [
    "##### Цилиндры\n",
    "Недостающие значения будут заполнены медианным значением соответствующей группы в зависимости от модели и типа транспортного средства. Мы предполагаем, что автомобили с одной и той же моделью (например, Cadillac escalade), но разные типы (например, внедорожник и пикап) имеют разное количество цилиндров, потому что их двигатели были разработаны для разных целей.cylinders"
   ]
  },
  {
   "cell_type": "code",
   "execution_count": 68,
   "metadata": {},
   "outputs": [],
   "source": [
    "df['cylinders'] = df.groupby(['model','type'])['cylinders'].apply(lambda x: x.fillna(x.median()))"
   ]
  },
  {
   "cell_type": "code",
   "execution_count": 69,
   "metadata": {},
   "outputs": [
    {
     "data": {
      "text/plain": [
       "12"
      ]
     },
     "execution_count": 69,
     "metadata": {},
     "output_type": "execute_result"
    }
   ],
   "source": [
    "df['cylinders'].isnull().sum()"
   ]
  },
  {
   "cell_type": "markdown",
   "metadata": {},
   "source": [
    "Эти 10 наблюдений уникальны в этом наборе данных (только 1 строка с комбинацией модели и типа), поэтому для них у нас нет правильных медиан для заполнения столбца. Мы вынуждены исключить их из кадра данных. cylinders"
   ]
  },
  {
   "cell_type": "code",
   "execution_count": 70,
   "metadata": {},
   "outputs": [
    {
     "data": {
      "text/plain": [
       "(50248, 15)"
      ]
     },
     "execution_count": 70,
     "metadata": {},
     "output_type": "execute_result"
    }
   ],
   "source": [
    "df = df.dropna(subset=['cylinders'], axis=0)\n",
    "df.reset_index(drop=True, inplace=True)\n",
    "\n",
    "df.shape"
   ]
  },
  {
   "cell_type": "markdown",
   "metadata": {},
   "source": [
    "##### Цвет краски"
   ]
  },
  {
   "cell_type": "code",
   "execution_count": 71,
   "metadata": {},
   "outputs": [
    {
     "data": {
      "text/plain": [
       "white     9759\n",
       "black     7451\n",
       "silver    6108\n",
       "grey      4920\n",
       "blue      4354\n",
       "red       4330\n",
       "green     1374\n",
       "brown     1197\n",
       "custom    1127\n",
       "yellow     251\n",
       "orange     222\n",
       "purple      99\n",
       "Name: paint_color, dtype: int64"
      ]
     },
     "execution_count": 71,
     "metadata": {},
     "output_type": "execute_result"
    }
   ],
   "source": [
    "df['paint_color'].value_counts()"
   ]
  },
  {
   "cell_type": "code",
   "execution_count": 72,
   "metadata": {},
   "outputs": [],
   "source": [
    "df['paint_color'] = df['paint_color'].fillna('missing')"
   ]
  },
  {
   "cell_type": "code",
   "execution_count": 73,
   "metadata": {},
   "outputs": [
    {
     "data": {
      "text/plain": [
       "price              0\n",
       "model_year         0\n",
       "model              0\n",
       "condition          0\n",
       "cylinders          0\n",
       "fuel               0\n",
       "odometer        7219\n",
       "transmission       0\n",
       "type               0\n",
       "paint_color        0\n",
       "is_4wd             0\n",
       "date_posted        0\n",
       "days_listed        0\n",
       "brand              0\n",
       "year_posted        0\n",
       "dtype: int64"
      ]
     },
     "execution_count": 73,
     "metadata": {},
     "output_type": "execute_result"
    }
   ],
   "source": [
    "df.isnull().sum()"
   ]
  },
  {
   "cell_type": "markdown",
   "metadata": {},
   "source": [
    "Все недостающие значения были заполнены."
   ]
  },
  {
   "cell_type": "markdown",
   "metadata": {},
   "source": [
    "#### Изменение типа данных"
   ]
  },
  {
   "cell_type": "markdown",
   "metadata": {},
   "source": [
    "Давайте изменим все типы данных float (за исключением того, что они должны быть float) на целые числа.price"
   ]
  },
  {
   "cell_type": "code",
   "execution_count": 74,
   "metadata": {},
   "outputs": [
    {
     "ename": "ValueError",
     "evalue": "Cannot convert non-finite values (NA or inf) to integer",
     "output_type": "error",
     "traceback": [
      "\u001b[1;31m---------------------------------------------------------------------------\u001b[0m",
      "\u001b[1;31mValueError\u001b[0m                                Traceback (most recent call last)",
      "\u001b[1;32m<ipython-input-74-3cde823d215b>\u001b[0m in \u001b[0;36m<module>\u001b[1;34m\u001b[0m\n\u001b[0;32m      1\u001b[0m \u001b[1;32mfor\u001b[0m \u001b[0mcolumn\u001b[0m \u001b[1;32min\u001b[0m \u001b[1;33m[\u001b[0m\u001b[1;34m'price'\u001b[0m\u001b[1;33m,\u001b[0m\u001b[1;34m'odometer'\u001b[0m\u001b[1;33m,\u001b[0m\u001b[1;34m'cylinders'\u001b[0m\u001b[1;33m,\u001b[0m\u001b[1;34m'is_4wd'\u001b[0m\u001b[1;33m,\u001b[0m\u001b[1;34m'days_listed'\u001b[0m\u001b[1;33m]\u001b[0m\u001b[1;33m:\u001b[0m\u001b[1;33m\u001b[0m\u001b[1;33m\u001b[0m\u001b[0m\n\u001b[1;32m----> 2\u001b[1;33m     \u001b[0mdf\u001b[0m\u001b[1;33m[\u001b[0m\u001b[0mcolumn\u001b[0m\u001b[1;33m]\u001b[0m \u001b[1;33m=\u001b[0m \u001b[0mdf\u001b[0m\u001b[1;33m[\u001b[0m\u001b[0mcolumn\u001b[0m\u001b[1;33m]\u001b[0m\u001b[1;33m.\u001b[0m\u001b[0mastype\u001b[0m\u001b[1;33m(\u001b[0m\u001b[1;34m'int'\u001b[0m\u001b[1;33m)\u001b[0m\u001b[1;33m\u001b[0m\u001b[1;33m\u001b[0m\u001b[0m\n\u001b[0m",
      "\u001b[1;32m~\\anaconda3\\lib\\site-packages\\pandas\\core\\generic.py\u001b[0m in \u001b[0;36mastype\u001b[1;34m(self, dtype, copy, errors)\u001b[0m\n\u001b[0;32m   5696\u001b[0m         \u001b[1;32melse\u001b[0m\u001b[1;33m:\u001b[0m\u001b[1;33m\u001b[0m\u001b[1;33m\u001b[0m\u001b[0m\n\u001b[0;32m   5697\u001b[0m             \u001b[1;31m# else, only a single dtype is given\u001b[0m\u001b[1;33m\u001b[0m\u001b[1;33m\u001b[0m\u001b[1;33m\u001b[0m\u001b[0m\n\u001b[1;32m-> 5698\u001b[1;33m             \u001b[0mnew_data\u001b[0m \u001b[1;33m=\u001b[0m \u001b[0mself\u001b[0m\u001b[1;33m.\u001b[0m\u001b[0m_data\u001b[0m\u001b[1;33m.\u001b[0m\u001b[0mastype\u001b[0m\u001b[1;33m(\u001b[0m\u001b[0mdtype\u001b[0m\u001b[1;33m=\u001b[0m\u001b[0mdtype\u001b[0m\u001b[1;33m,\u001b[0m \u001b[0mcopy\u001b[0m\u001b[1;33m=\u001b[0m\u001b[0mcopy\u001b[0m\u001b[1;33m,\u001b[0m \u001b[0merrors\u001b[0m\u001b[1;33m=\u001b[0m\u001b[0merrors\u001b[0m\u001b[1;33m)\u001b[0m\u001b[1;33m\u001b[0m\u001b[1;33m\u001b[0m\u001b[0m\n\u001b[0m\u001b[0;32m   5699\u001b[0m             \u001b[1;32mreturn\u001b[0m \u001b[0mself\u001b[0m\u001b[1;33m.\u001b[0m\u001b[0m_constructor\u001b[0m\u001b[1;33m(\u001b[0m\u001b[0mnew_data\u001b[0m\u001b[1;33m)\u001b[0m\u001b[1;33m.\u001b[0m\u001b[0m__finalize__\u001b[0m\u001b[1;33m(\u001b[0m\u001b[0mself\u001b[0m\u001b[1;33m)\u001b[0m\u001b[1;33m\u001b[0m\u001b[1;33m\u001b[0m\u001b[0m\n\u001b[0;32m   5700\u001b[0m \u001b[1;33m\u001b[0m\u001b[0m\n",
      "\u001b[1;32m~\\anaconda3\\lib\\site-packages\\pandas\\core\\internals\\managers.py\u001b[0m in \u001b[0;36mastype\u001b[1;34m(self, dtype, copy, errors)\u001b[0m\n\u001b[0;32m    580\u001b[0m \u001b[1;33m\u001b[0m\u001b[0m\n\u001b[0;32m    581\u001b[0m     \u001b[1;32mdef\u001b[0m \u001b[0mastype\u001b[0m\u001b[1;33m(\u001b[0m\u001b[0mself\u001b[0m\u001b[1;33m,\u001b[0m \u001b[0mdtype\u001b[0m\u001b[1;33m,\u001b[0m \u001b[0mcopy\u001b[0m\u001b[1;33m:\u001b[0m \u001b[0mbool\u001b[0m \u001b[1;33m=\u001b[0m \u001b[1;32mFalse\u001b[0m\u001b[1;33m,\u001b[0m \u001b[0merrors\u001b[0m\u001b[1;33m:\u001b[0m \u001b[0mstr\u001b[0m \u001b[1;33m=\u001b[0m \u001b[1;34m\"raise\"\u001b[0m\u001b[1;33m)\u001b[0m\u001b[1;33m:\u001b[0m\u001b[1;33m\u001b[0m\u001b[1;33m\u001b[0m\u001b[0m\n\u001b[1;32m--> 582\u001b[1;33m         \u001b[1;32mreturn\u001b[0m \u001b[0mself\u001b[0m\u001b[1;33m.\u001b[0m\u001b[0mapply\u001b[0m\u001b[1;33m(\u001b[0m\u001b[1;34m\"astype\"\u001b[0m\u001b[1;33m,\u001b[0m \u001b[0mdtype\u001b[0m\u001b[1;33m=\u001b[0m\u001b[0mdtype\u001b[0m\u001b[1;33m,\u001b[0m \u001b[0mcopy\u001b[0m\u001b[1;33m=\u001b[0m\u001b[0mcopy\u001b[0m\u001b[1;33m,\u001b[0m \u001b[0merrors\u001b[0m\u001b[1;33m=\u001b[0m\u001b[0merrors\u001b[0m\u001b[1;33m)\u001b[0m\u001b[1;33m\u001b[0m\u001b[1;33m\u001b[0m\u001b[0m\n\u001b[0m\u001b[0;32m    583\u001b[0m \u001b[1;33m\u001b[0m\u001b[0m\n\u001b[0;32m    584\u001b[0m     \u001b[1;32mdef\u001b[0m \u001b[0mconvert\u001b[0m\u001b[1;33m(\u001b[0m\u001b[0mself\u001b[0m\u001b[1;33m,\u001b[0m \u001b[1;33m**\u001b[0m\u001b[0mkwargs\u001b[0m\u001b[1;33m)\u001b[0m\u001b[1;33m:\u001b[0m\u001b[1;33m\u001b[0m\u001b[1;33m\u001b[0m\u001b[0m\n",
      "\u001b[1;32m~\\anaconda3\\lib\\site-packages\\pandas\\core\\internals\\managers.py\u001b[0m in \u001b[0;36mapply\u001b[1;34m(self, f, filter, **kwargs)\u001b[0m\n\u001b[0;32m    440\u001b[0m                 \u001b[0mapplied\u001b[0m \u001b[1;33m=\u001b[0m \u001b[0mb\u001b[0m\u001b[1;33m.\u001b[0m\u001b[0mapply\u001b[0m\u001b[1;33m(\u001b[0m\u001b[0mf\u001b[0m\u001b[1;33m,\u001b[0m \u001b[1;33m**\u001b[0m\u001b[0mkwargs\u001b[0m\u001b[1;33m)\u001b[0m\u001b[1;33m\u001b[0m\u001b[1;33m\u001b[0m\u001b[0m\n\u001b[0;32m    441\u001b[0m             \u001b[1;32melse\u001b[0m\u001b[1;33m:\u001b[0m\u001b[1;33m\u001b[0m\u001b[1;33m\u001b[0m\u001b[0m\n\u001b[1;32m--> 442\u001b[1;33m                 \u001b[0mapplied\u001b[0m \u001b[1;33m=\u001b[0m \u001b[0mgetattr\u001b[0m\u001b[1;33m(\u001b[0m\u001b[0mb\u001b[0m\u001b[1;33m,\u001b[0m \u001b[0mf\u001b[0m\u001b[1;33m)\u001b[0m\u001b[1;33m(\u001b[0m\u001b[1;33m**\u001b[0m\u001b[0mkwargs\u001b[0m\u001b[1;33m)\u001b[0m\u001b[1;33m\u001b[0m\u001b[1;33m\u001b[0m\u001b[0m\n\u001b[0m\u001b[0;32m    443\u001b[0m             \u001b[0mresult_blocks\u001b[0m \u001b[1;33m=\u001b[0m \u001b[0m_extend_blocks\u001b[0m\u001b[1;33m(\u001b[0m\u001b[0mapplied\u001b[0m\u001b[1;33m,\u001b[0m \u001b[0mresult_blocks\u001b[0m\u001b[1;33m)\u001b[0m\u001b[1;33m\u001b[0m\u001b[1;33m\u001b[0m\u001b[0m\n\u001b[0;32m    444\u001b[0m \u001b[1;33m\u001b[0m\u001b[0m\n",
      "\u001b[1;32m~\\anaconda3\\lib\\site-packages\\pandas\\core\\internals\\blocks.py\u001b[0m in \u001b[0;36mastype\u001b[1;34m(self, dtype, copy, errors)\u001b[0m\n\u001b[0;32m    623\u001b[0m             \u001b[0mvals1d\u001b[0m \u001b[1;33m=\u001b[0m \u001b[0mvalues\u001b[0m\u001b[1;33m.\u001b[0m\u001b[0mravel\u001b[0m\u001b[1;33m(\u001b[0m\u001b[1;33m)\u001b[0m\u001b[1;33m\u001b[0m\u001b[1;33m\u001b[0m\u001b[0m\n\u001b[0;32m    624\u001b[0m             \u001b[1;32mtry\u001b[0m\u001b[1;33m:\u001b[0m\u001b[1;33m\u001b[0m\u001b[1;33m\u001b[0m\u001b[0m\n\u001b[1;32m--> 625\u001b[1;33m                 \u001b[0mvalues\u001b[0m \u001b[1;33m=\u001b[0m \u001b[0mastype_nansafe\u001b[0m\u001b[1;33m(\u001b[0m\u001b[0mvals1d\u001b[0m\u001b[1;33m,\u001b[0m \u001b[0mdtype\u001b[0m\u001b[1;33m,\u001b[0m \u001b[0mcopy\u001b[0m\u001b[1;33m=\u001b[0m\u001b[1;32mTrue\u001b[0m\u001b[1;33m)\u001b[0m\u001b[1;33m\u001b[0m\u001b[1;33m\u001b[0m\u001b[0m\n\u001b[0m\u001b[0;32m    626\u001b[0m             \u001b[1;32mexcept\u001b[0m \u001b[1;33m(\u001b[0m\u001b[0mValueError\u001b[0m\u001b[1;33m,\u001b[0m \u001b[0mTypeError\u001b[0m\u001b[1;33m)\u001b[0m\u001b[1;33m:\u001b[0m\u001b[1;33m\u001b[0m\u001b[1;33m\u001b[0m\u001b[0m\n\u001b[0;32m    627\u001b[0m                 \u001b[1;31m# e.g. astype_nansafe can fail on object-dtype of strings\u001b[0m\u001b[1;33m\u001b[0m\u001b[1;33m\u001b[0m\u001b[1;33m\u001b[0m\u001b[0m\n",
      "\u001b[1;32m~\\anaconda3\\lib\\site-packages\\pandas\\core\\dtypes\\cast.py\u001b[0m in \u001b[0;36mastype_nansafe\u001b[1;34m(arr, dtype, copy, skipna)\u001b[0m\n\u001b[0;32m    866\u001b[0m \u001b[1;33m\u001b[0m\u001b[0m\n\u001b[0;32m    867\u001b[0m         \u001b[1;32mif\u001b[0m \u001b[1;32mnot\u001b[0m \u001b[0mnp\u001b[0m\u001b[1;33m.\u001b[0m\u001b[0misfinite\u001b[0m\u001b[1;33m(\u001b[0m\u001b[0marr\u001b[0m\u001b[1;33m)\u001b[0m\u001b[1;33m.\u001b[0m\u001b[0mall\u001b[0m\u001b[1;33m(\u001b[0m\u001b[1;33m)\u001b[0m\u001b[1;33m:\u001b[0m\u001b[1;33m\u001b[0m\u001b[1;33m\u001b[0m\u001b[0m\n\u001b[1;32m--> 868\u001b[1;33m             \u001b[1;32mraise\u001b[0m \u001b[0mValueError\u001b[0m\u001b[1;33m(\u001b[0m\u001b[1;34m\"Cannot convert non-finite values (NA or inf) to integer\"\u001b[0m\u001b[1;33m)\u001b[0m\u001b[1;33m\u001b[0m\u001b[1;33m\u001b[0m\u001b[0m\n\u001b[0m\u001b[0;32m    869\u001b[0m \u001b[1;33m\u001b[0m\u001b[0m\n\u001b[0;32m    870\u001b[0m     \u001b[1;32melif\u001b[0m \u001b[0mis_object_dtype\u001b[0m\u001b[1;33m(\u001b[0m\u001b[0marr\u001b[0m\u001b[1;33m)\u001b[0m\u001b[1;33m:\u001b[0m\u001b[1;33m\u001b[0m\u001b[1;33m\u001b[0m\u001b[0m\n",
      "\u001b[1;31mValueError\u001b[0m: Cannot convert non-finite values (NA or inf) to integer"
     ]
    }
   ],
   "source": [
    "for column in ['price','odometer','cylinders','is_4wd','days_listed']:\n",
    "    df[column] = df[column].astype('int')"
   ]
  },
  {
   "cell_type": "code",
   "execution_count": 75,
   "metadata": {},
   "outputs": [
    {
     "data": {
      "text/plain": [
       "price                    int32\n",
       "model_year               int32\n",
       "model                   object\n",
       "condition               object\n",
       "cylinders              float64\n",
       "fuel                    object\n",
       "odometer               float64\n",
       "transmission            object\n",
       "type                    object\n",
       "paint_color             object\n",
       "is_4wd                 float64\n",
       "date_posted     datetime64[ns]\n",
       "days_listed              int64\n",
       "brand                   object\n",
       "year_posted              int64\n",
       "dtype: object"
      ]
     },
     "execution_count": 75,
     "metadata": {},
     "output_type": "execute_result"
    }
   ],
   "source": [
    "df.dtypes"
   ]
  },
  {
   "cell_type": "markdown",
   "metadata": {},
   "source": [
    "#### Дубликаты\n",
    "Давайте проверим, не дублируются ли какие-либо строки."
   ]
  },
  {
   "cell_type": "code",
   "execution_count": 76,
   "metadata": {},
   "outputs": [
    {
     "data": {
      "text/plain": [
       "0"
      ]
     },
     "execution_count": 76,
     "metadata": {},
     "output_type": "execute_result"
    }
   ],
   "source": [
    "df.duplicated().sum()"
   ]
  },
  {
   "cell_type": "markdown",
   "metadata": {},
   "source": [
    "### Расчеты"
   ]
  },
  {
   "cell_type": "markdown",
   "metadata": {},
   "source": [
    "#### Месяц и DOW, когда было размещено объявление"
   ]
  },
  {
   "cell_type": "code",
   "execution_count": 77,
   "metadata": {},
   "outputs": [],
   "source": [
    "df['month_posted'] = df['date_posted'].dt.month\n",
    "df['dow_posted'] = df['date_posted'].dt.dayofweek"
   ]
  },
  {
   "cell_type": "markdown",
   "metadata": {},
   "source": [
    "#### Возраст в годах\n",
    "\n",
    "Далее мы вычтем возраст в годах каждого транспортного средства. Чтобы быть более точным, мы сначала конвертируем столбец в формат datetime, так что каждый год будет форматироваться 01.01.year. Затем мы конвертируем количество дней, прошедших с момента покупки автомобиля до размещения объявления, в годы.model_year"
   ]
  },
  {
   "cell_type": "code",
   "execution_count": 78,
   "metadata": {},
   "outputs": [],
   "source": [
    "df['age_in_years'] = (df['date_posted'] - pd.to_datetime(df.model_year, format='%Y'))/ np.timedelta64(1, 'Y')"
   ]
  },
  {
   "cell_type": "code",
   "execution_count": 79,
   "metadata": {},
   "outputs": [
    {
     "data": {
      "text/html": [
       "<div>\n",
       "<style scoped>\n",
       "    .dataframe tbody tr th:only-of-type {\n",
       "        vertical-align: middle;\n",
       "    }\n",
       "\n",
       "    .dataframe tbody tr th {\n",
       "        vertical-align: top;\n",
       "    }\n",
       "\n",
       "    .dataframe thead th {\n",
       "        text-align: right;\n",
       "    }\n",
       "</style>\n",
       "<table border=\"1\" class=\"dataframe\">\n",
       "  <thead>\n",
       "    <tr style=\"text-align: right;\">\n",
       "      <th></th>\n",
       "      <th>price</th>\n",
       "      <th>model_year</th>\n",
       "      <th>model</th>\n",
       "      <th>condition</th>\n",
       "      <th>cylinders</th>\n",
       "      <th>fuel</th>\n",
       "      <th>odometer</th>\n",
       "      <th>transmission</th>\n",
       "      <th>type</th>\n",
       "      <th>paint_color</th>\n",
       "      <th>is_4wd</th>\n",
       "      <th>date_posted</th>\n",
       "      <th>days_listed</th>\n",
       "      <th>brand</th>\n",
       "      <th>year_posted</th>\n",
       "      <th>month_posted</th>\n",
       "      <th>dow_posted</th>\n",
       "      <th>age_in_years</th>\n",
       "    </tr>\n",
       "  </thead>\n",
       "  <tbody>\n",
       "    <tr>\n",
       "      <th>0</th>\n",
       "      <td>9400</td>\n",
       "      <td>2011</td>\n",
       "      <td>bmw x5</td>\n",
       "      <td>good</td>\n",
       "      <td>6.0</td>\n",
       "      <td>gas</td>\n",
       "      <td>145000.0</td>\n",
       "      <td>automatic</td>\n",
       "      <td>SUV</td>\n",
       "      <td>missing</td>\n",
       "      <td>1.0</td>\n",
       "      <td>2018-06-23</td>\n",
       "      <td>19</td>\n",
       "      <td>bmw</td>\n",
       "      <td>2018</td>\n",
       "      <td>6</td>\n",
       "      <td>5</td>\n",
       "      <td>7.474486</td>\n",
       "    </tr>\n",
       "    <tr>\n",
       "      <th>1</th>\n",
       "      <td>25500</td>\n",
       "      <td>2012</td>\n",
       "      <td>ford f-150</td>\n",
       "      <td>good</td>\n",
       "      <td>6.0</td>\n",
       "      <td>gas</td>\n",
       "      <td>88705.0</td>\n",
       "      <td>automatic</td>\n",
       "      <td>pickup</td>\n",
       "      <td>white</td>\n",
       "      <td>1.0</td>\n",
       "      <td>2018-10-19</td>\n",
       "      <td>50</td>\n",
       "      <td>ford</td>\n",
       "      <td>2018</td>\n",
       "      <td>10</td>\n",
       "      <td>4</td>\n",
       "      <td>6.798223</td>\n",
       "    </tr>\n",
       "    <tr>\n",
       "      <th>2</th>\n",
       "      <td>5500</td>\n",
       "      <td>2013</td>\n",
       "      <td>hyundai sonata</td>\n",
       "      <td>like new</td>\n",
       "      <td>4.0</td>\n",
       "      <td>gas</td>\n",
       "      <td>110000.0</td>\n",
       "      <td>automatic</td>\n",
       "      <td>sedan</td>\n",
       "      <td>red</td>\n",
       "      <td>0.0</td>\n",
       "      <td>2019-02-07</td>\n",
       "      <td>79</td>\n",
       "      <td>hyundai</td>\n",
       "      <td>2019</td>\n",
       "      <td>2</td>\n",
       "      <td>3</td>\n",
       "      <td>6.100057</td>\n",
       "    </tr>\n",
       "    <tr>\n",
       "      <th>3</th>\n",
       "      <td>1500</td>\n",
       "      <td>2003</td>\n",
       "      <td>ford f-150</td>\n",
       "      <td>fair</td>\n",
       "      <td>8.0</td>\n",
       "      <td>gas</td>\n",
       "      <td>NaN</td>\n",
       "      <td>automatic</td>\n",
       "      <td>pickup</td>\n",
       "      <td>missing</td>\n",
       "      <td>0.0</td>\n",
       "      <td>2019-03-22</td>\n",
       "      <td>9</td>\n",
       "      <td>ford</td>\n",
       "      <td>2019</td>\n",
       "      <td>3</td>\n",
       "      <td>4</td>\n",
       "      <td>16.219361</td>\n",
       "    </tr>\n",
       "    <tr>\n",
       "      <th>4</th>\n",
       "      <td>14900</td>\n",
       "      <td>2017</td>\n",
       "      <td>chrysler 200</td>\n",
       "      <td>excellent</td>\n",
       "      <td>4.0</td>\n",
       "      <td>gas</td>\n",
       "      <td>80903.0</td>\n",
       "      <td>automatic</td>\n",
       "      <td>sedan</td>\n",
       "      <td>black</td>\n",
       "      <td>0.0</td>\n",
       "      <td>2019-04-02</td>\n",
       "      <td>28</td>\n",
       "      <td>chrysler</td>\n",
       "      <td>2019</td>\n",
       "      <td>4</td>\n",
       "      <td>1</td>\n",
       "      <td>2.247822</td>\n",
       "    </tr>\n",
       "    <tr>\n",
       "      <th>...</th>\n",
       "      <td>...</td>\n",
       "      <td>...</td>\n",
       "      <td>...</td>\n",
       "      <td>...</td>\n",
       "      <td>...</td>\n",
       "      <td>...</td>\n",
       "      <td>...</td>\n",
       "      <td>...</td>\n",
       "      <td>...</td>\n",
       "      <td>...</td>\n",
       "      <td>...</td>\n",
       "      <td>...</td>\n",
       "      <td>...</td>\n",
       "      <td>...</td>\n",
       "      <td>...</td>\n",
       "      <td>...</td>\n",
       "      <td>...</td>\n",
       "      <td>...</td>\n",
       "    </tr>\n",
       "    <tr>\n",
       "      <th>50243</th>\n",
       "      <td>9249</td>\n",
       "      <td>2013</td>\n",
       "      <td>nissan maxima</td>\n",
       "      <td>like new</td>\n",
       "      <td>6.0</td>\n",
       "      <td>gas</td>\n",
       "      <td>88136.0</td>\n",
       "      <td>automatic</td>\n",
       "      <td>sedan</td>\n",
       "      <td>black</td>\n",
       "      <td>0.0</td>\n",
       "      <td>2018-10-03</td>\n",
       "      <td>37</td>\n",
       "      <td>nissan</td>\n",
       "      <td>2018</td>\n",
       "      <td>10</td>\n",
       "      <td>2</td>\n",
       "      <td>5.752343</td>\n",
       "    </tr>\n",
       "    <tr>\n",
       "      <th>50244</th>\n",
       "      <td>2700</td>\n",
       "      <td>2002</td>\n",
       "      <td>honda civic</td>\n",
       "      <td>salvage</td>\n",
       "      <td>4.0</td>\n",
       "      <td>gas</td>\n",
       "      <td>181500.0</td>\n",
       "      <td>automatic</td>\n",
       "      <td>sedan</td>\n",
       "      <td>white</td>\n",
       "      <td>0.0</td>\n",
       "      <td>2018-11-14</td>\n",
       "      <td>22</td>\n",
       "      <td>honda</td>\n",
       "      <td>2018</td>\n",
       "      <td>11</td>\n",
       "      <td>2</td>\n",
       "      <td>16.868245</td>\n",
       "    </tr>\n",
       "    <tr>\n",
       "      <th>50245</th>\n",
       "      <td>3950</td>\n",
       "      <td>2009</td>\n",
       "      <td>hyundai sonata</td>\n",
       "      <td>excellent</td>\n",
       "      <td>4.0</td>\n",
       "      <td>gas</td>\n",
       "      <td>128000.0</td>\n",
       "      <td>automatic</td>\n",
       "      <td>sedan</td>\n",
       "      <td>blue</td>\n",
       "      <td>0.0</td>\n",
       "      <td>2018-11-15</td>\n",
       "      <td>32</td>\n",
       "      <td>hyundai</td>\n",
       "      <td>2018</td>\n",
       "      <td>11</td>\n",
       "      <td>3</td>\n",
       "      <td>9.870155</td>\n",
       "    </tr>\n",
       "    <tr>\n",
       "      <th>50246</th>\n",
       "      <td>7455</td>\n",
       "      <td>2013</td>\n",
       "      <td>toyota corolla</td>\n",
       "      <td>good</td>\n",
       "      <td>4.0</td>\n",
       "      <td>gas</td>\n",
       "      <td>139573.0</td>\n",
       "      <td>automatic</td>\n",
       "      <td>sedan</td>\n",
       "      <td>black</td>\n",
       "      <td>0.0</td>\n",
       "      <td>2018-07-02</td>\n",
       "      <td>71</td>\n",
       "      <td>toyota</td>\n",
       "      <td>2018</td>\n",
       "      <td>7</td>\n",
       "      <td>0</td>\n",
       "      <td>5.497717</td>\n",
       "    </tr>\n",
       "    <tr>\n",
       "      <th>50247</th>\n",
       "      <td>6300</td>\n",
       "      <td>2014</td>\n",
       "      <td>nissan altima</td>\n",
       "      <td>good</td>\n",
       "      <td>4.0</td>\n",
       "      <td>gas</td>\n",
       "      <td>NaN</td>\n",
       "      <td>automatic</td>\n",
       "      <td>sedan</td>\n",
       "      <td>missing</td>\n",
       "      <td>0.0</td>\n",
       "      <td>2018-06-05</td>\n",
       "      <td>10</td>\n",
       "      <td>nissan</td>\n",
       "      <td>2018</td>\n",
       "      <td>6</td>\n",
       "      <td>1</td>\n",
       "      <td>4.424458</td>\n",
       "    </tr>\n",
       "  </tbody>\n",
       "</table>\n",
       "<p>50248 rows × 18 columns</p>\n",
       "</div>"
      ],
      "text/plain": [
       "       price  model_year           model  condition  cylinders fuel  odometer  \\\n",
       "0       9400        2011          bmw x5       good        6.0  gas  145000.0   \n",
       "1      25500        2012      ford f-150       good        6.0  gas   88705.0   \n",
       "2       5500        2013  hyundai sonata   like new        4.0  gas  110000.0   \n",
       "3       1500        2003      ford f-150       fair        8.0  gas       NaN   \n",
       "4      14900        2017    chrysler 200  excellent        4.0  gas   80903.0   \n",
       "...      ...         ...             ...        ...        ...  ...       ...   \n",
       "50243   9249        2013   nissan maxima   like new        6.0  gas   88136.0   \n",
       "50244   2700        2002     honda civic    salvage        4.0  gas  181500.0   \n",
       "50245   3950        2009  hyundai sonata  excellent        4.0  gas  128000.0   \n",
       "50246   7455        2013  toyota corolla       good        4.0  gas  139573.0   \n",
       "50247   6300        2014   nissan altima       good        4.0  gas       NaN   \n",
       "\n",
       "      transmission    type paint_color  is_4wd date_posted  days_listed  \\\n",
       "0        automatic     SUV     missing     1.0  2018-06-23           19   \n",
       "1        automatic  pickup       white     1.0  2018-10-19           50   \n",
       "2        automatic   sedan         red     0.0  2019-02-07           79   \n",
       "3        automatic  pickup     missing     0.0  2019-03-22            9   \n",
       "4        automatic   sedan       black     0.0  2019-04-02           28   \n",
       "...            ...     ...         ...     ...         ...          ...   \n",
       "50243    automatic   sedan       black     0.0  2018-10-03           37   \n",
       "50244    automatic   sedan       white     0.0  2018-11-14           22   \n",
       "50245    automatic   sedan        blue     0.0  2018-11-15           32   \n",
       "50246    automatic   sedan       black     0.0  2018-07-02           71   \n",
       "50247    automatic   sedan     missing     0.0  2018-06-05           10   \n",
       "\n",
       "          brand  year_posted  month_posted  dow_posted  age_in_years  \n",
       "0           bmw         2018             6           5      7.474486  \n",
       "1          ford         2018            10           4      6.798223  \n",
       "2       hyundai         2019             2           3      6.100057  \n",
       "3          ford         2019             3           4     16.219361  \n",
       "4      chrysler         2019             4           1      2.247822  \n",
       "...         ...          ...           ...         ...           ...  \n",
       "50243    nissan         2018            10           2      5.752343  \n",
       "50244     honda         2018            11           2     16.868245  \n",
       "50245   hyundai         2018            11           3      9.870155  \n",
       "50246    toyota         2018             7           0      5.497717  \n",
       "50247    nissan         2018             6           1      4.424458  \n",
       "\n",
       "[50248 rows x 18 columns]"
      ]
     },
     "execution_count": 79,
     "metadata": {},
     "output_type": "execute_result"
    }
   ],
   "source": [
    "df"
   ]
  },
  {
   "cell_type": "markdown",
   "metadata": {},
   "source": [
    "#### Средний пробег в год"
   ]
  },
  {
   "cell_type": "code",
   "execution_count": 80,
   "metadata": {},
   "outputs": [],
   "source": [
    "df['avg_miles_per_year'] = df['odometer']/df['age_in_years']"
   ]
  },
  {
   "cell_type": "markdown",
   "metadata": {},
   "source": [
    "#### Состояние"
   ]
  },
  {
   "cell_type": "code",
   "execution_count": 81,
   "metadata": {},
   "outputs": [],
   "source": [
    "condition_dict = {5:'new', 4:'like new', 3:'excellent', 2:'good', 1:'fair', 0:'salvage'}"
   ]
  },
  {
   "cell_type": "code",
   "execution_count": 82,
   "metadata": {},
   "outputs": [],
   "source": [
    "def get_key(val):\n",
    "    \"\"\"\n",
    "    If the val can be found in the dictinary.values() list, \n",
    "    returns the key of the dictionary item in which the val was found.\n",
    "    \"\"\"\n",
    "    \n",
    "    for key, value in condition_dict.items(): \n",
    "        if val in value: \n",
    "            return key"
   ]
  },
  {
   "cell_type": "code",
   "execution_count": 83,
   "metadata": {},
   "outputs": [],
   "source": [
    "def condition_num(row):\n",
    "    \"\"\"\n",
    "    Takes in a string describing the vehicle's condition and returns an integer according to the condition_dict.\n",
    "    \"\"\"\n",
    "    if row['condition'] in condition_dict.values():\n",
    "        return get_key(row['condition'])"
   ]
  },
  {
   "cell_type": "code",
   "execution_count": 84,
   "metadata": {},
   "outputs": [
    {
     "data": {
      "text/plain": [
       "3    24172\n",
       "2    19770\n",
       "4     4492\n",
       "1     1588\n",
       "0      114\n",
       "5      112\n",
       "Name: condition, dtype: int64"
      ]
     },
     "execution_count": 84,
     "metadata": {},
     "output_type": "execute_result"
    }
   ],
   "source": [
    "df['condition'] = df.apply(condition_num, axis=1)\n",
    "df['condition'].value_counts()"
   ]
  },
  {
   "cell_type": "code",
   "execution_count": 85,
   "metadata": {},
   "outputs": [
    {
     "data": {
      "text/html": [
       "<div>\n",
       "<style scoped>\n",
       "    .dataframe tbody tr th:only-of-type {\n",
       "        vertical-align: middle;\n",
       "    }\n",
       "\n",
       "    .dataframe tbody tr th {\n",
       "        vertical-align: top;\n",
       "    }\n",
       "\n",
       "    .dataframe thead th {\n",
       "        text-align: right;\n",
       "    }\n",
       "</style>\n",
       "<table border=\"1\" class=\"dataframe\">\n",
       "  <thead>\n",
       "    <tr style=\"text-align: right;\">\n",
       "      <th></th>\n",
       "      <th>price</th>\n",
       "      <th>model_year</th>\n",
       "      <th>model</th>\n",
       "      <th>condition</th>\n",
       "      <th>cylinders</th>\n",
       "      <th>fuel</th>\n",
       "      <th>odometer</th>\n",
       "      <th>transmission</th>\n",
       "      <th>type</th>\n",
       "      <th>paint_color</th>\n",
       "      <th>is_4wd</th>\n",
       "      <th>date_posted</th>\n",
       "      <th>days_listed</th>\n",
       "      <th>brand</th>\n",
       "      <th>year_posted</th>\n",
       "      <th>month_posted</th>\n",
       "      <th>dow_posted</th>\n",
       "      <th>age_in_years</th>\n",
       "      <th>avg_miles_per_year</th>\n",
       "    </tr>\n",
       "  </thead>\n",
       "  <tbody>\n",
       "    <tr>\n",
       "      <th>0</th>\n",
       "      <td>9400</td>\n",
       "      <td>2011</td>\n",
       "      <td>bmw x5</td>\n",
       "      <td>2</td>\n",
       "      <td>6.0</td>\n",
       "      <td>gas</td>\n",
       "      <td>145000.0</td>\n",
       "      <td>automatic</td>\n",
       "      <td>SUV</td>\n",
       "      <td>missing</td>\n",
       "      <td>1.0</td>\n",
       "      <td>2018-06-23</td>\n",
       "      <td>19</td>\n",
       "      <td>bmw</td>\n",
       "      <td>2018</td>\n",
       "      <td>6</td>\n",
       "      <td>5</td>\n",
       "      <td>7.474486</td>\n",
       "      <td>19399.326923</td>\n",
       "    </tr>\n",
       "    <tr>\n",
       "      <th>1</th>\n",
       "      <td>25500</td>\n",
       "      <td>2012</td>\n",
       "      <td>ford f-150</td>\n",
       "      <td>2</td>\n",
       "      <td>6.0</td>\n",
       "      <td>gas</td>\n",
       "      <td>88705.0</td>\n",
       "      <td>automatic</td>\n",
       "      <td>pickup</td>\n",
       "      <td>white</td>\n",
       "      <td>1.0</td>\n",
       "      <td>2018-10-19</td>\n",
       "      <td>50</td>\n",
       "      <td>ford</td>\n",
       "      <td>2018</td>\n",
       "      <td>10</td>\n",
       "      <td>4</td>\n",
       "      <td>6.798223</td>\n",
       "      <td>13048.262570</td>\n",
       "    </tr>\n",
       "    <tr>\n",
       "      <th>2</th>\n",
       "      <td>5500</td>\n",
       "      <td>2013</td>\n",
       "      <td>hyundai sonata</td>\n",
       "      <td>4</td>\n",
       "      <td>4.0</td>\n",
       "      <td>gas</td>\n",
       "      <td>110000.0</td>\n",
       "      <td>automatic</td>\n",
       "      <td>sedan</td>\n",
       "      <td>red</td>\n",
       "      <td>0.0</td>\n",
       "      <td>2019-02-07</td>\n",
       "      <td>79</td>\n",
       "      <td>hyundai</td>\n",
       "      <td>2019</td>\n",
       "      <td>2</td>\n",
       "      <td>3</td>\n",
       "      <td>6.100057</td>\n",
       "      <td>18032.618941</td>\n",
       "    </tr>\n",
       "    <tr>\n",
       "      <th>3</th>\n",
       "      <td>1500</td>\n",
       "      <td>2003</td>\n",
       "      <td>ford f-150</td>\n",
       "      <td>1</td>\n",
       "      <td>8.0</td>\n",
       "      <td>gas</td>\n",
       "      <td>NaN</td>\n",
       "      <td>automatic</td>\n",
       "      <td>pickup</td>\n",
       "      <td>missing</td>\n",
       "      <td>0.0</td>\n",
       "      <td>2019-03-22</td>\n",
       "      <td>9</td>\n",
       "      <td>ford</td>\n",
       "      <td>2019</td>\n",
       "      <td>3</td>\n",
       "      <td>4</td>\n",
       "      <td>16.219361</td>\n",
       "      <td>NaN</td>\n",
       "    </tr>\n",
       "    <tr>\n",
       "      <th>4</th>\n",
       "      <td>14900</td>\n",
       "      <td>2017</td>\n",
       "      <td>chrysler 200</td>\n",
       "      <td>3</td>\n",
       "      <td>4.0</td>\n",
       "      <td>gas</td>\n",
       "      <td>80903.0</td>\n",
       "      <td>automatic</td>\n",
       "      <td>sedan</td>\n",
       "      <td>black</td>\n",
       "      <td>0.0</td>\n",
       "      <td>2019-04-02</td>\n",
       "      <td>28</td>\n",
       "      <td>chrysler</td>\n",
       "      <td>2019</td>\n",
       "      <td>4</td>\n",
       "      <td>1</td>\n",
       "      <td>2.247822</td>\n",
       "      <td>35991.734443</td>\n",
       "    </tr>\n",
       "    <tr>\n",
       "      <th>...</th>\n",
       "      <td>...</td>\n",
       "      <td>...</td>\n",
       "      <td>...</td>\n",
       "      <td>...</td>\n",
       "      <td>...</td>\n",
       "      <td>...</td>\n",
       "      <td>...</td>\n",
       "      <td>...</td>\n",
       "      <td>...</td>\n",
       "      <td>...</td>\n",
       "      <td>...</td>\n",
       "      <td>...</td>\n",
       "      <td>...</td>\n",
       "      <td>...</td>\n",
       "      <td>...</td>\n",
       "      <td>...</td>\n",
       "      <td>...</td>\n",
       "      <td>...</td>\n",
       "      <td>...</td>\n",
       "    </tr>\n",
       "    <tr>\n",
       "      <th>50243</th>\n",
       "      <td>9249</td>\n",
       "      <td>2013</td>\n",
       "      <td>nissan maxima</td>\n",
       "      <td>4</td>\n",
       "      <td>6.0</td>\n",
       "      <td>gas</td>\n",
       "      <td>88136.0</td>\n",
       "      <td>automatic</td>\n",
       "      <td>sedan</td>\n",
       "      <td>black</td>\n",
       "      <td>0.0</td>\n",
       "      <td>2018-10-03</td>\n",
       "      <td>37</td>\n",
       "      <td>nissan</td>\n",
       "      <td>2018</td>\n",
       "      <td>10</td>\n",
       "      <td>2</td>\n",
       "      <td>5.752343</td>\n",
       "      <td>15321.757725</td>\n",
       "    </tr>\n",
       "    <tr>\n",
       "      <th>50244</th>\n",
       "      <td>2700</td>\n",
       "      <td>2002</td>\n",
       "      <td>honda civic</td>\n",
       "      <td>0</td>\n",
       "      <td>4.0</td>\n",
       "      <td>gas</td>\n",
       "      <td>181500.0</td>\n",
       "      <td>automatic</td>\n",
       "      <td>sedan</td>\n",
       "      <td>white</td>\n",
       "      <td>0.0</td>\n",
       "      <td>2018-11-14</td>\n",
       "      <td>22</td>\n",
       "      <td>honda</td>\n",
       "      <td>2018</td>\n",
       "      <td>11</td>\n",
       "      <td>2</td>\n",
       "      <td>16.868245</td>\n",
       "      <td>10759.862644</td>\n",
       "    </tr>\n",
       "    <tr>\n",
       "      <th>50245</th>\n",
       "      <td>3950</td>\n",
       "      <td>2009</td>\n",
       "      <td>hyundai sonata</td>\n",
       "      <td>3</td>\n",
       "      <td>4.0</td>\n",
       "      <td>gas</td>\n",
       "      <td>128000.0</td>\n",
       "      <td>automatic</td>\n",
       "      <td>sedan</td>\n",
       "      <td>blue</td>\n",
       "      <td>0.0</td>\n",
       "      <td>2018-11-15</td>\n",
       "      <td>32</td>\n",
       "      <td>hyundai</td>\n",
       "      <td>2018</td>\n",
       "      <td>11</td>\n",
       "      <td>3</td>\n",
       "      <td>9.870155</td>\n",
       "      <td>12968.388350</td>\n",
       "    </tr>\n",
       "    <tr>\n",
       "      <th>50246</th>\n",
       "      <td>7455</td>\n",
       "      <td>2013</td>\n",
       "      <td>toyota corolla</td>\n",
       "      <td>2</td>\n",
       "      <td>4.0</td>\n",
       "      <td>gas</td>\n",
       "      <td>139573.0</td>\n",
       "      <td>automatic</td>\n",
       "      <td>sedan</td>\n",
       "      <td>black</td>\n",
       "      <td>0.0</td>\n",
       "      <td>2018-07-02</td>\n",
       "      <td>71</td>\n",
       "      <td>toyota</td>\n",
       "      <td>2018</td>\n",
       "      <td>7</td>\n",
       "      <td>0</td>\n",
       "      <td>5.497717</td>\n",
       "      <td>25387.445942</td>\n",
       "    </tr>\n",
       "    <tr>\n",
       "      <th>50247</th>\n",
       "      <td>6300</td>\n",
       "      <td>2014</td>\n",
       "      <td>nissan altima</td>\n",
       "      <td>2</td>\n",
       "      <td>4.0</td>\n",
       "      <td>gas</td>\n",
       "      <td>NaN</td>\n",
       "      <td>automatic</td>\n",
       "      <td>sedan</td>\n",
       "      <td>missing</td>\n",
       "      <td>0.0</td>\n",
       "      <td>2018-06-05</td>\n",
       "      <td>10</td>\n",
       "      <td>nissan</td>\n",
       "      <td>2018</td>\n",
       "      <td>6</td>\n",
       "      <td>1</td>\n",
       "      <td>4.424458</td>\n",
       "      <td>NaN</td>\n",
       "    </tr>\n",
       "  </tbody>\n",
       "</table>\n",
       "<p>50248 rows × 19 columns</p>\n",
       "</div>"
      ],
      "text/plain": [
       "       price  model_year           model  condition  cylinders fuel  odometer  \\\n",
       "0       9400        2011          bmw x5          2        6.0  gas  145000.0   \n",
       "1      25500        2012      ford f-150          2        6.0  gas   88705.0   \n",
       "2       5500        2013  hyundai sonata          4        4.0  gas  110000.0   \n",
       "3       1500        2003      ford f-150          1        8.0  gas       NaN   \n",
       "4      14900        2017    chrysler 200          3        4.0  gas   80903.0   \n",
       "...      ...         ...             ...        ...        ...  ...       ...   \n",
       "50243   9249        2013   nissan maxima          4        6.0  gas   88136.0   \n",
       "50244   2700        2002     honda civic          0        4.0  gas  181500.0   \n",
       "50245   3950        2009  hyundai sonata          3        4.0  gas  128000.0   \n",
       "50246   7455        2013  toyota corolla          2        4.0  gas  139573.0   \n",
       "50247   6300        2014   nissan altima          2        4.0  gas       NaN   \n",
       "\n",
       "      transmission    type paint_color  is_4wd date_posted  days_listed  \\\n",
       "0        automatic     SUV     missing     1.0  2018-06-23           19   \n",
       "1        automatic  pickup       white     1.0  2018-10-19           50   \n",
       "2        automatic   sedan         red     0.0  2019-02-07           79   \n",
       "3        automatic  pickup     missing     0.0  2019-03-22            9   \n",
       "4        automatic   sedan       black     0.0  2019-04-02           28   \n",
       "...            ...     ...         ...     ...         ...          ...   \n",
       "50243    automatic   sedan       black     0.0  2018-10-03           37   \n",
       "50244    automatic   sedan       white     0.0  2018-11-14           22   \n",
       "50245    automatic   sedan        blue     0.0  2018-11-15           32   \n",
       "50246    automatic   sedan       black     0.0  2018-07-02           71   \n",
       "50247    automatic   sedan     missing     0.0  2018-06-05           10   \n",
       "\n",
       "          brand  year_posted  month_posted  dow_posted  age_in_years  \\\n",
       "0           bmw         2018             6           5      7.474486   \n",
       "1          ford         2018            10           4      6.798223   \n",
       "2       hyundai         2019             2           3      6.100057   \n",
       "3          ford         2019             3           4     16.219361   \n",
       "4      chrysler         2019             4           1      2.247822   \n",
       "...         ...          ...           ...         ...           ...   \n",
       "50243    nissan         2018            10           2      5.752343   \n",
       "50244     honda         2018            11           2     16.868245   \n",
       "50245   hyundai         2018            11           3      9.870155   \n",
       "50246    toyota         2018             7           0      5.497717   \n",
       "50247    nissan         2018             6           1      4.424458   \n",
       "\n",
       "       avg_miles_per_year  \n",
       "0            19399.326923  \n",
       "1            13048.262570  \n",
       "2            18032.618941  \n",
       "3                     NaN  \n",
       "4            35991.734443  \n",
       "...                   ...  \n",
       "50243        15321.757725  \n",
       "50244        10759.862644  \n",
       "50245        12968.388350  \n",
       "50246        25387.445942  \n",
       "50247                 NaN  \n",
       "\n",
       "[50248 rows x 19 columns]"
      ]
     },
     "execution_count": 85,
     "metadata": {},
     "output_type": "execute_result"
    }
   ],
   "source": [
    "df"
   ]
  },
  {
   "cell_type": "markdown",
   "metadata": {},
   "source": [
    "### ЭДА\n",
    "#### Гистограммы\n",
    "##### Цена"
   ]
  },
  {
   "cell_type": "code",
   "execution_count": 87,
   "metadata": {},
   "outputs": [
    {
     "data": {
      "image/png": "[encoded data removed]",
      "text/plain": [
       "<Figure size 432x288 with 1 Axes>"
      ]
     },
     "metadata": {
      "needs_background": "light"
     },
     "output_type": "display_data"
    }
   ],
   "source": [
    "df.hist('price', bins=30)\n",
    "plt.title(\"Price of a vehicle\")\n",
    "plt.xlabel('price')\n",
    "plt.ylabel('frequency');"
   ]
  },
  {
   "cell_type": "markdown",
   "metadata": {},
   "source": [
    "Распределение выглядит нормально, положительно искажено из-за некоторых роскошных моделей, но в целом разумно. Мы избавились от аномально высоких цен раньше, теперь давайте посмотрим на аномально низкие цены.price"
   ]
  },
  {
   "cell_type": "code",
   "execution_count": 88,
   "metadata": {},
   "outputs": [
    {
     "data": {
      "text/plain": [
       "789"
      ]
     },
     "execution_count": 88,
     "metadata": {},
     "output_type": "execute_result"
    }
   ],
   "source": [
    "len(df[df['price'] == 1])"
   ]
  },
  {
   "cell_type": "markdown",
   "metadata": {},
   "source": [
    "Есть 798 автомобилей с ценой 1 USD. Мы предположим, что это ошибка. Давайте заменим их медианной ценой для комбинации типа и бренда."
   ]
  },
  {
   "cell_type": "code",
   "execution_count": 89,
   "metadata": {},
   "outputs": [],
   "source": [
    "df.loc[df['price'] == 1, 'price'] = np.nan"
   ]
  },
  {
   "cell_type": "code",
   "execution_count": 90,
   "metadata": {},
   "outputs": [],
   "source": [
    "df['price'] = df.groupby(['model','type'])['price'].apply(lambda x: x.fillna(x.median()))"
   ]
  },
  {
   "cell_type": "code",
   "execution_count": 91,
   "metadata": {},
   "outputs": [
    {
     "data": {
      "text/plain": [
       "1"
      ]
     },
     "execution_count": 91,
     "metadata": {},
     "output_type": "execute_result"
    }
   ],
   "source": [
    "df['price'].isnull().sum()"
   ]
  },
  {
   "cell_type": "markdown",
   "metadata": {},
   "source": [
    "Это 1 наблюдение уникально в этом наборе данных (только 1 строка с комбинацией модели и типа), поэтому у нас нет подходящей медианы, чтобы заполнить ее. Мы вынуждены исключить эту строку из фрейма данных."
   ]
  },
  {
   "cell_type": "code",
   "execution_count": 93,
   "metadata": {},
   "outputs": [
    {
     "data": {
      "text/plain": [
       "(50247, 19)"
      ]
     },
     "execution_count": 93,
     "metadata": {},
     "output_type": "execute_result"
    }
   ],
   "source": [
    "df = df.dropna(subset=['price'], axis=0)\n",
    "df.reset_index(drop=True, inplace=True)\n",
    "\n",
    "df.shape"
   ]
  },
  {
   "cell_type": "markdown",
   "metadata": {},
   "source": [
    "##### Состояние"
   ]
  },
  {
   "cell_type": "code",
   "execution_count": 94,
   "metadata": {},
   "outputs": [
    {
     "data": {
      "image/png": "[encoded data removed]",
      "text/plain": [
       "<Figure size 432x288 with 1 Axes>"
      ]
     },
     "metadata": {
      "needs_background": "light"
     },
     "output_type": "display_data"
    }
   ],
   "source": [
    "df.hist('condition', bins=5)\n",
    "plt.title(\"Condition of a vehicle\")\n",
    "plt.xlabel('condition score (0 - worst, 5 - best)')\n",
    "plt.ylabel('frequency');"
   ]
  },
  {
   "cell_type": "markdown",
   "metadata": {},
   "source": [
    "Большинство автомобилей находятся в «как новые» и «отличные». Лишь немногие из них находятся в «спасательном» состоянии. Давайте посмотрим, есть ли связь между ценой и состоянием."
   ]
  },
  {
   "cell_type": "code",
   "execution_count": 95,
   "metadata": {},
   "outputs": [
    {
     "data": {
      "image/png": "[encoded data removed]",
      "text/plain": [
       "<Figure size 576x288 with 1 Axes>"
      ]
     },
     "metadata": {
      "needs_background": "light"
     },
     "output_type": "display_data"
    }
   ],
   "source": [
    "df.plot(x='condition', y='price', kind='scatter', figsize=(8,4))\n",
    "plt.title('Link between price and condition of a vehicle');"
   ]
  },
  {
   "cell_type": "markdown",
   "metadata": {},
   "source": [
    "Хотя цена на самом деле ниже для автомобилей с худшим состоянием, мы не видим очевидной тенденции, что чем лучше состояние, тем выше цена. Вероятно, это связано с другими особенностями автомобиля, такими как количество цилиндров, модель, марка, тип и так далее."
   ]
  },
  {
   "cell_type": "markdown",
   "metadata": {},
   "source": [
    "##### Возраст транспортного средства, когда было размещено объявление"
   ]
  },
  {
   "cell_type": "code",
   "execution_count": 96,
   "metadata": {},
   "outputs": [
    {
     "data": {
      "image/png": "[encoded data removed]",
      "text/plain": [
       "<Figure size 432x288 with 1 Axes>"
      ]
     },
     "metadata": {
      "needs_background": "light"
     },
     "output_type": "display_data"
    }
   ],
   "source": [
    "df.hist('age_in_years', bins=100, range=(0,60))\n",
    "plt.title(\"Age of a vehicle when the ad was placed\")\n",
    "plt.xlabel('age in years')\n",
    "plt.ylabel('frequency');"
   ]
  },
  {
   "cell_type": "code",
   "execution_count": 97,
   "metadata": {},
   "outputs": [
    {
     "name": "stdout",
     "output_type": "stream",
     "text": [
      "9.12\n"
     ]
    }
   ],
   "source": [
    "print('{:0.2f}'.format(df['age_in_years'].mean()))"
   ]
  },
  {
   "cell_type": "code",
   "execution_count": 98,
   "metadata": {},
   "outputs": [
    {
     "name": "stdout",
     "output_type": "stream",
     "text": [
      "8.06\n"
     ]
    }
   ],
   "source": [
    "print('{:0.2f}'.format(df['age_in_years'].median()))"
   ]
  },
  {
   "cell_type": "markdown",
   "metadata": {},
   "source": [
    "Средний и средний возраст транспортного средства в этом наборе данных схож - около 7-8 лет. Мы также видим довольно длинный хвост больших значений, мы уберем те, которые мы считаем выбросами в следующем разделе."
   ]
  },
  {
   "cell_type": "markdown",
   "metadata": {},
   "source": [
    "##### Пробег"
   ]
  },
  {
   "cell_type": "code",
   "execution_count": 99,
   "metadata": {},
   "outputs": [
    {
     "data": {
      "image/png": "[encoded data removed]",
      "text/plain": [
       "<Figure size 432x288 with 1 Axes>"
      ]
     },
     "metadata": {
      "needs_background": "light"
     },
     "output_type": "display_data"
    }
   ],
   "source": [
    "df.hist('odometer', bins=100)\n",
    "plt.title(\"Mileage of a vehicle\")\n",
    "plt.xlabel('odometer value')\n",
    "plt.ylabel('frequency');"
   ]
  },
  {
   "cell_type": "markdown",
   "metadata": {},
   "source": [
    "Опять же, есть длинный хвост больших значений, которые искажают наше распределение, мы определим и удалим выбросы в следующем разделе."
   ]
  },
  {
   "cell_type": "markdown",
   "metadata": {},
   "source": [
    "##### Цилиндр"
   ]
  },
  {
   "cell_type": "code",
   "execution_count": 100,
   "metadata": {},
   "outputs": [
    {
     "data": {
      "image/png": "[encoded data removed]",
      "text/plain": [
       "<Figure size 432x288 with 1 Axes>"
      ]
     },
     "metadata": {
      "needs_background": "light"
     },
     "output_type": "display_data"
    }
   ],
   "source": [
    "df.hist('cylinders', bins=10)\n",
    "plt.title(\"Number of a vehicle's cylinders\")\n",
    "plt.xlabel('number of cylinders')\n",
    "plt.ylabel('frequency');"
   ]
  },
  {
   "cell_type": "markdown",
   "metadata": {},
   "source": [
    "Эта переменная выглядит хорошо: есть всего несколько автомобилей с количеством цилиндров менее 4 (вероятно, некоторые старые автомобили), а также несколько с более чем 8 цилиндрами (вероятно, некоторые более крупные автомобили, такие как грузовики и пикапы). Большинство автомобилей имеют от 4 до 8 цилиндров, что звучит разумно. Здесь нет видимых выбросов."
   ]
  },
  {
   "cell_type": "markdown",
   "metadata": {},
   "source": [
    "##### Days_listed"
   ]
  },
  {
   "cell_type": "code",
   "execution_count": 101,
   "metadata": {},
   "outputs": [
    {
     "data": {
      "image/png": "[encoded data removed]",
      "text/plain": [
       "<Figure size 432x288 with 1 Axes>"
      ]
     },
     "metadata": {
      "needs_background": "light"
     },
     "output_type": "display_data"
    }
   ],
   "source": [
    "df['days_listed'].hist(bins=100)\n",
    "plt.title(\"Length of a vehicle's ad listed, in days\")\n",
    "plt.xlabel('days listed')\n",
    "plt.ylabel('frequency');"
   ]
  },
  {
   "cell_type": "code",
   "execution_count": 102,
   "metadata": {},
   "outputs": [
    {
     "name": "stdout",
     "output_type": "stream",
     "text": [
      "39.53\n"
     ]
    }
   ],
   "source": [
    "print('{:0.2f}'.format(df['days_listed'].mean()))"
   ]
  },
  {
   "cell_type": "code",
   "execution_count": 103,
   "metadata": {},
   "outputs": [
    {
     "name": "stdout",
     "output_type": "stream",
     "text": [
      "33.00\n"
     ]
    }
   ],
   "source": [
    "print('{:0.2f}'.format(df['days_listed'].median()))"
   ]
  },
  {
   "cell_type": "markdown",
   "metadata": {},
   "source": [
    "Время жизни объявления в этом наборе данных колеблется от 0 до 250 дней, распределение перекошено в сторону больших положительных значений. Типичное объявление размещается в течение примерно 30-40 дней, то есть около 1 месяца.\n",
    "\n",
    "Автомобили с более высокой стоимостью можно считать выбросами - они, вероятно, просто неадекватно оценены, и именно поэтому они не могли быть проданы в течение длительного времени. Мы определим верхний предел и удалим эти значения в следующем разделе.\n",
    "\n",
    "Теперь давайте посмотрим на объявления, которые были удалены слишком быстро, то есть строки, где 0.days_listed"
   ]
  },
  {
   "cell_type": "code",
   "execution_count": 104,
   "metadata": {},
   "outputs": [
    {
     "data": {
      "text/plain": [
       "51"
      ]
     },
     "execution_count": 104,
     "metadata": {},
     "output_type": "execute_result"
    }
   ],
   "source": [
    "len(df[df['days_listed'] == 0])"
   ]
  },
  {
   "cell_type": "code",
   "execution_count": 105,
   "metadata": {
    "scrolled": true
   },
   "outputs": [
    {
     "data": {
      "text/html": [
       "<div>\n",
       "<style scoped>\n",
       "    .dataframe tbody tr th:only-of-type {\n",
       "        vertical-align: middle;\n",
       "    }\n",
       "\n",
       "    .dataframe tbody tr th {\n",
       "        vertical-align: top;\n",
       "    }\n",
       "\n",
       "    .dataframe thead th {\n",
       "        text-align: right;\n",
       "    }\n",
       "</style>\n",
       "<table border=\"1\" class=\"dataframe\">\n",
       "  <thead>\n",
       "    <tr style=\"text-align: right;\">\n",
       "      <th></th>\n",
       "      <th>price</th>\n",
       "      <th>model_year</th>\n",
       "      <th>model</th>\n",
       "      <th>condition</th>\n",
       "      <th>cylinders</th>\n",
       "      <th>fuel</th>\n",
       "      <th>odometer</th>\n",
       "      <th>transmission</th>\n",
       "      <th>type</th>\n",
       "      <th>paint_color</th>\n",
       "      <th>is_4wd</th>\n",
       "      <th>date_posted</th>\n",
       "      <th>days_listed</th>\n",
       "      <th>brand</th>\n",
       "      <th>year_posted</th>\n",
       "      <th>month_posted</th>\n",
       "      <th>dow_posted</th>\n",
       "      <th>age_in_years</th>\n",
       "      <th>avg_miles_per_year</th>\n",
       "    </tr>\n",
       "  </thead>\n",
       "  <tbody>\n",
       "    <tr>\n",
       "      <th>1220</th>\n",
       "      <td>14995.0</td>\n",
       "      <td>2008</td>\n",
       "      <td>chevrolet silverado 1500</td>\n",
       "      <td>3</td>\n",
       "      <td>8.0</td>\n",
       "      <td>gas</td>\n",
       "      <td>93300.0</td>\n",
       "      <td>automatic</td>\n",
       "      <td>truck</td>\n",
       "      <td>grey</td>\n",
       "      <td>1.0</td>\n",
       "      <td>2018-05-15</td>\n",
       "      <td>0</td>\n",
       "      <td>chevrolet</td>\n",
       "      <td>2018</td>\n",
       "      <td>5</td>\n",
       "      <td>1</td>\n",
       "      <td>10.368454</td>\n",
       "      <td>8998.448706</td>\n",
       "    </tr>\n",
       "    <tr>\n",
       "      <th>1928</th>\n",
       "      <td>14000.0</td>\n",
       "      <td>1999</td>\n",
       "      <td>ford f250</td>\n",
       "      <td>3</td>\n",
       "      <td>8.0</td>\n",
       "      <td>diesel</td>\n",
       "      <td>137500.0</td>\n",
       "      <td>automatic</td>\n",
       "      <td>truck</td>\n",
       "      <td>red</td>\n",
       "      <td>1.0</td>\n",
       "      <td>2018-09-27</td>\n",
       "      <td>0</td>\n",
       "      <td>ford</td>\n",
       "      <td>2018</td>\n",
       "      <td>9</td>\n",
       "      <td>3</td>\n",
       "      <td>19.737572</td>\n",
       "      <td>6966.409176</td>\n",
       "    </tr>\n",
       "    <tr>\n",
       "      <th>2808</th>\n",
       "      <td>4000.0</td>\n",
       "      <td>2004</td>\n",
       "      <td>ram 1500</td>\n",
       "      <td>3</td>\n",
       "      <td>8.0</td>\n",
       "      <td>gas</td>\n",
       "      <td>250000.0</td>\n",
       "      <td>automatic</td>\n",
       "      <td>truck</td>\n",
       "      <td>brown</td>\n",
       "      <td>1.0</td>\n",
       "      <td>2018-08-13</td>\n",
       "      <td>0</td>\n",
       "      <td>ram</td>\n",
       "      <td>2018</td>\n",
       "      <td>8</td>\n",
       "      <td>0</td>\n",
       "      <td>14.614948</td>\n",
       "      <td>17105.774635</td>\n",
       "    </tr>\n",
       "    <tr>\n",
       "      <th>3866</th>\n",
       "      <td>16750.0</td>\n",
       "      <td>1985</td>\n",
       "      <td>chevrolet corvette</td>\n",
       "      <td>4</td>\n",
       "      <td>8.0</td>\n",
       "      <td>gas</td>\n",
       "      <td>24540.0</td>\n",
       "      <td>automatic</td>\n",
       "      <td>hatchback</td>\n",
       "      <td>white</td>\n",
       "      <td>0.0</td>\n",
       "      <td>2018-10-14</td>\n",
       "      <td>0</td>\n",
       "      <td>chevrolet</td>\n",
       "      <td>2018</td>\n",
       "      <td>10</td>\n",
       "      <td>6</td>\n",
       "      <td>33.783035</td>\n",
       "      <td>726.400109</td>\n",
       "    </tr>\n",
       "    <tr>\n",
       "      <th>4448</th>\n",
       "      <td>5000.0</td>\n",
       "      <td>2007</td>\n",
       "      <td>toyota corolla</td>\n",
       "      <td>2</td>\n",
       "      <td>4.0</td>\n",
       "      <td>gas</td>\n",
       "      <td>223000.0</td>\n",
       "      <td>manual</td>\n",
       "      <td>sedan</td>\n",
       "      <td>silver</td>\n",
       "      <td>0.0</td>\n",
       "      <td>2018-07-11</td>\n",
       "      <td>0</td>\n",
       "      <td>toyota</td>\n",
       "      <td>2018</td>\n",
       "      <td>7</td>\n",
       "      <td>2</td>\n",
       "      <td>11.523851</td>\n",
       "      <td>19351.170706</td>\n",
       "    </tr>\n",
       "  </tbody>\n",
       "</table>\n",
       "</div>"
      ],
      "text/plain": [
       "        price  model_year                     model  condition  cylinders  \\\n",
       "1220  14995.0        2008  chevrolet silverado 1500          3        8.0   \n",
       "1928  14000.0        1999                 ford f250          3        8.0   \n",
       "2808   4000.0        2004                  ram 1500          3        8.0   \n",
       "3866  16750.0        1985        chevrolet corvette          4        8.0   \n",
       "4448   5000.0        2007            toyota corolla          2        4.0   \n",
       "\n",
       "        fuel  odometer transmission       type paint_color  is_4wd  \\\n",
       "1220     gas   93300.0    automatic      truck        grey     1.0   \n",
       "1928  diesel  137500.0    automatic      truck         red     1.0   \n",
       "2808     gas  250000.0    automatic      truck       brown     1.0   \n",
       "3866     gas   24540.0    automatic  hatchback       white     0.0   \n",
       "4448     gas  223000.0       manual      sedan      silver     0.0   \n",
       "\n",
       "     date_posted  days_listed      brand  year_posted  month_posted  \\\n",
       "1220  2018-05-15            0  chevrolet         2018             5   \n",
       "1928  2018-09-27            0       ford         2018             9   \n",
       "2808  2018-08-13            0        ram         2018             8   \n",
       "3866  2018-10-14            0  chevrolet         2018            10   \n",
       "4448  2018-07-11            0     toyota         2018             7   \n",
       "\n",
       "      dow_posted  age_in_years  avg_miles_per_year  \n",
       "1220           1     10.368454         8998.448706  \n",
       "1928           3     19.737572         6966.409176  \n",
       "2808           0     14.614948        17105.774635  \n",
       "3866           6     33.783035          726.400109  \n",
       "4448           2     11.523851        19351.170706  "
      ]
     },
     "execution_count": 105,
     "metadata": {},
     "output_type": "execute_result"
    }
   ],
   "source": [
    "df[df['days_listed'] == 0].head()"
   ]
  },
  {
   "cell_type": "markdown",
   "metadata": {},
   "source": [
    "Есть 51 объявление этого типа, и с ними нет видимого шаблона или проблемы. Однако тот факт, что они были удалены в тот же день, что и опубликованные, делает эти наблюдения подозрительными. Возможно, это была техническая ошибка. Мы заменим их медианным значением соответствующей модели и группы типов."
   ]
  },
  {
   "cell_type": "code",
   "execution_count": 106,
   "metadata": {},
   "outputs": [],
   "source": [
    "df.loc[df['days_listed'] == 0, 'days_listed'] = np.nan\n",
    "df['days_listed'] = df.groupby(['model','type'])['days_listed'].apply(lambda x: x.fillna(x.median()))"
   ]
  },
  {
   "cell_type": "code",
   "execution_count": 107,
   "metadata": {},
   "outputs": [
    {
     "data": {
      "text/plain": [
       "0"
      ]
     },
     "execution_count": 107,
     "metadata": {},
     "output_type": "execute_result"
    }
   ],
   "source": [
    "df['days_listed'].isnull().sum()"
   ]
  },
  {
   "cell_type": "markdown",
   "metadata": {},
   "source": [
    "#### Удаление выбросов\n",
    "В предыдущих разделах мы уже избавились от выбросов в переменной. Из нашего анализа гистограмм выше оба и распределение переменных выглядят нормально, без каких-либо проблем. Поэтому нам нужно удалять выбросы только для и столбцов. pricecylindersconditionodometerage_in_years\n",
    "\n",
    "Основываясь на этой статье[article](https://machinelearningmastery.com/how-to-use-statistics-to-identify-outliers-in-data/),, если мы знаем, что распределение значений в выборке является гауссовым или гауссовым, мы можем использовать стандартное отклонение выборки в качестве отсечения для выявления выбросов. Хорошей статистикой для обобщения негауссовской выборки данных распределения является межквартильный диапазон.\n",
    "\n",
    "Во-первых, давайте проверим, имеют ли наши две переменные распределение Гаусса. Есть несколько способов сделать это[several ways](https://towardsdatascience.com/6-ways-to-test-for-a-normal-distribution-which-one-to-use-9dcf47d8fa93) , мы собираемся использовать для этого коробочные графики и qqplots.\n",
    "\n"
   ]
  },
  {
   "cell_type": "markdown",
   "metadata": {},
   "source": [
    "##### Определение типа дистрибутива"
   ]
  },
  {
   "cell_type": "code",
   "execution_count": 108,
   "metadata": {},
   "outputs": [
    {
     "data": {
      "image/png": "[encoded data removed]",
      "text/plain": [
       "<Figure size 432x288 with 1 Axes>"
      ]
     },
     "metadata": {
      "needs_background": "light"
     },
     "output_type": "display_data"
    }
   ],
   "source": [
    "df.boxplot('age_in_years');"
   ]
  },
  {
   "cell_type": "code",
   "execution_count": 109,
   "metadata": {},
   "outputs": [
    {
     "data": {
      "image/png": "[encoded data removed]",
      "text/plain": [
       "<Figure size 432x288 with 1 Axes>"
      ]
     },
     "metadata": {
      "needs_background": "light"
     },
     "output_type": "display_data"
    }
   ],
   "source": [
    "import statsmodels.api as sm\n",
    "from scipy.stats import norm\n",
    "import pylab\n",
    "\n",
    "sm.qqplot(df['age_in_years'], line='45')\n",
    "pylab.show()"
   ]
  },
  {
   "cell_type": "code",
   "execution_count": 110,
   "metadata": {},
   "outputs": [
    {
     "data": {
      "image/png": "[encoded data removed]",
      "text/plain": [
       "<Figure size 432x288 with 1 Axes>"
      ]
     },
     "metadata": {
      "needs_background": "light"
     },
     "output_type": "display_data"
    }
   ],
   "source": [
    "df.boxplot('odometer');"
   ]
  },
  {
   "cell_type": "code",
   "execution_count": 111,
   "metadata": {},
   "outputs": [
    {
     "data": {
      "image/png": "[encoded data removed]",
      "text/plain": [
       "<Figure size 432x288 with 1 Axes>"
      ]
     },
     "metadata": {
      "needs_background": "light"
     },
     "output_type": "display_data"
    }
   ],
   "source": [
    "sm.qqplot(df['odometer'], line='45')\n",
    "pylab.show()"
   ]
  },
  {
   "cell_type": "code",
   "execution_count": 112,
   "metadata": {},
   "outputs": [
    {
     "data": {
      "image/png": "[encoded data removed]",
      "text/plain": [
       "<Figure size 432x288 with 1 Axes>"
      ]
     },
     "metadata": {
      "needs_background": "light"
     },
     "output_type": "display_data"
    }
   ],
   "source": [
    "df['days_listed'].plot(kind='box');"
   ]
  },
  {
   "cell_type": "code",
   "execution_count": 113,
   "metadata": {},
   "outputs": [
    {
     "data": {
      "image/png": "[encoded data removed]",
      "text/plain": [
       "<Figure size 432x288 with 1 Axes>"
      ]
     },
     "metadata": {
      "needs_background": "light"
     },
     "output_type": "display_data"
    }
   ],
   "source": [
    "sm.qqplot(df['days_listed'], line='45')\n",
    "pylab.show()"
   ]
  },
  {
   "cell_type": "markdown",
   "metadata": {},
   "source": [
    "По приведенным выше графикам box и qq мы видим, что все 3 переменные не имеют гауссовского распределения, они довольно сильно отклоняются от теоретического распределения колоколообразной кривой (красная линия). Исходя из этого, мы собираемся использовать IQR для определения предельных значений, чтобы устранить выбросы."
   ]
  },
  {
   "cell_type": "markdown",
   "metadata": {},
   "source": [
    "##### Использование IQR для удаления выбросов"
   ]
  },
  {
   "cell_type": "code",
   "execution_count": 114,
   "metadata": {},
   "outputs": [],
   "source": [
    "filter = np.zeros(len(df), dtype=bool) + True\n",
    "for feature in ['age_in_years','odometer','days_listed']:\n",
    "    q25 = df[feature].quantile(0.25)\n",
    "    q75 = df[feature].quantile(0.75)\n",
    "    iqr = q75 - q25\n",
    "    # calculate the outlier cutoff and upper limit\n",
    "    cut_off = iqr * 1.5\n",
    "    upper = q75 + cut_off\n",
    "    filter[np.where(df[feature]>upper)] = False"
   ]
  },
  {
   "cell_type": "code",
   "execution_count": 115,
   "metadata": {},
   "outputs": [],
   "source": [
    "df_filtered = df[filter]\n",
    "df_filtered.dropna(how='all', inplace=True)\n",
    "df_filtered.reset_index(drop=True, inplace=True)"
   ]
  },
  {
   "cell_type": "code",
   "execution_count": 116,
   "metadata": {},
   "outputs": [
    {
     "data": {
      "text/plain": [
       "(47410, 19)"
      ]
     },
     "execution_count": 116,
     "metadata": {},
     "output_type": "execute_result"
    }
   ],
   "source": [
    "df_filtered.shape"
   ]
  },
  {
   "cell_type": "markdown",
   "metadata": {},
   "source": [
    "##### Гистограммы отфильтрованных данных¶"
   ]
  },
  {
   "cell_type": "code",
   "execution_count": 122,
   "metadata": {},
   "outputs": [
    {
     "data": {
      "image/png": "[encoded data removed]",
      "text/plain": [
       "<Figure size 1080x576 with 4 Axes>"
      ]
     },
     "metadata": {
      "needs_background": "light"
     },
     "output_type": "display_data"
    }
   ],
   "source": [
    "df_filtered[['age_in_years', 'odometer', 'days_listed']].hist(bins=100, figsize=(15,8));"
   ]
  },
  {
   "cell_type": "markdown",
   "metadata": {},
   "source": [
    "Мы больше не видим длинных хвостов больших значений для этих двух признаков, поэтому их распределения выглядят более нормальными и не такими искаженными, как раньше."
   ]
  },
  {
   "cell_type": "markdown",
   "metadata": {},
   "source": [
    "#### Тип транспортных средств\n",
    "Давайте проанализируем количество объявлений и среднюю цену для каждого типа транспортного средства."
   ]
  },
  {
   "cell_type": "code",
   "execution_count": 123,
   "metadata": {},
   "outputs": [
    {
     "data": {
      "text/html": [
       "<div>\n",
       "<style scoped>\n",
       "    .dataframe tbody tr th:only-of-type {\n",
       "        vertical-align: middle;\n",
       "    }\n",
       "\n",
       "    .dataframe tbody tr th {\n",
       "        vertical-align: top;\n",
       "    }\n",
       "\n",
       "    .dataframe thead tr th {\n",
       "        text-align: left;\n",
       "    }\n",
       "\n",
       "    .dataframe thead tr:last-of-type th {\n",
       "        text-align: right;\n",
       "    }\n",
       "</style>\n",
       "<table border=\"1\" class=\"dataframe\">\n",
       "  <thead>\n",
       "    <tr>\n",
       "      <th></th>\n",
       "      <th>count</th>\n",
       "      <th>mean</th>\n",
       "    </tr>\n",
       "    <tr>\n",
       "      <th></th>\n",
       "      <th>price</th>\n",
       "      <th>price</th>\n",
       "    </tr>\n",
       "    <tr>\n",
       "      <th>type</th>\n",
       "      <th></th>\n",
       "      <th></th>\n",
       "    </tr>\n",
       "  </thead>\n",
       "  <tbody>\n",
       "    <tr>\n",
       "      <th>SUV</th>\n",
       "      <td>11577</td>\n",
       "      <td>11097.782241</td>\n",
       "    </tr>\n",
       "    <tr>\n",
       "      <th>bus</th>\n",
       "      <td>9</td>\n",
       "      <td>5985.111111</td>\n",
       "    </tr>\n",
       "    <tr>\n",
       "      <th>convertible</th>\n",
       "      <td>335</td>\n",
       "      <td>14476.752239</td>\n",
       "    </tr>\n",
       "    <tr>\n",
       "      <th>coupe</th>\n",
       "      <td>1962</td>\n",
       "      <td>14542.791539</td>\n",
       "    </tr>\n",
       "    <tr>\n",
       "      <th>hatchback</th>\n",
       "      <td>957</td>\n",
       "      <td>6690.948798</td>\n",
       "    </tr>\n",
       "    <tr>\n",
       "      <th>mini-van</th>\n",
       "      <td>1073</td>\n",
       "      <td>7885.367195</td>\n",
       "    </tr>\n",
       "    <tr>\n",
       "      <th>offroad</th>\n",
       "      <td>173</td>\n",
       "      <td>14890.924855</td>\n",
       "    </tr>\n",
       "    <tr>\n",
       "      <th>other</th>\n",
       "      <td>214</td>\n",
       "      <td>10463.883178</td>\n",
       "    </tr>\n",
       "    <tr>\n",
       "      <th>pickup</th>\n",
       "      <td>6359</td>\n",
       "      <td>16041.601352</td>\n",
       "    </tr>\n",
       "    <tr>\n",
       "      <th>sedan</th>\n",
       "      <td>11420</td>\n",
       "      <td>6904.366025</td>\n",
       "    </tr>\n",
       "    <tr>\n",
       "      <th>truck</th>\n",
       "      <td>11382</td>\n",
       "      <td>16916.224917</td>\n",
       "    </tr>\n",
       "    <tr>\n",
       "      <th>van</th>\n",
       "      <td>533</td>\n",
       "      <td>8236.422139</td>\n",
       "    </tr>\n",
       "    <tr>\n",
       "      <th>wagon</th>\n",
       "      <td>1416</td>\n",
       "      <td>8972.498588</td>\n",
       "    </tr>\n",
       "  </tbody>\n",
       "</table>\n",
       "</div>"
      ],
      "text/plain": [
       "             count          mean\n",
       "             price         price\n",
       "type                            \n",
       "SUV          11577  11097.782241\n",
       "bus              9   5985.111111\n",
       "convertible    335  14476.752239\n",
       "coupe         1962  14542.791539\n",
       "hatchback      957   6690.948798\n",
       "mini-van      1073   7885.367195\n",
       "offroad        173  14890.924855\n",
       "other          214  10463.883178\n",
       "pickup        6359  16041.601352\n",
       "sedan        11420   6904.366025\n",
       "truck        11382  16916.224917\n",
       "van            533   8236.422139\n",
       "wagon         1416   8972.498588"
      ]
     },
     "execution_count": 123,
     "metadata": {},
     "output_type": "execute_result"
    }
   ],
   "source": [
    "type_grouped = df_filtered.pivot_table(index='type', values='price', aggfunc=['count','mean'])\n",
    "type_grouped"
   ]
  },
  {
   "cell_type": "markdown",
   "metadata": {},
   "source": [
    "Во-первых, давайте посмотрим, какой тип транспортного средства имеет наибольшую цену, в среднем."
   ]
  },
  {
   "cell_type": "code",
   "execution_count": 124,
   "metadata": {},
   "outputs": [
    {
     "data": {
      "image/png": "[encoded data removed]",
      "text/plain": [
       "<Figure size 432x288 with 1 Axes>"
      ]
     },
     "metadata": {
      "needs_background": "light"
     },
     "output_type": "display_data"
    }
   ],
   "source": [
    "type_grouped['mean'].sort_values(by='price', ascending=False).plot(kind='bar', legend=False)\n",
    "plt.title('Average price per vehicle type')\n",
    "plt.ylabel('average price');"
   ]
  },
  {
   "cell_type": "markdown",
   "metadata": {},
   "source": [
    "Согласно приведенному выше графику, грузовики и пикапы являются самыми дорогими в среднем, и это кажется логичным, поскольку они также являются самыми большими.\n",
    "\n",
    "Далее мы построим график, показывающий зависимость количества объявлений от типа транспортного средства и определим два типа с наибольшим количеством объявлений."
   ]
  },
  {
   "cell_type": "code",
   "execution_count": 125,
   "metadata": {},
   "outputs": [
    {
     "data": {
      "image/png": "[encoded data removed]",
      "text/plain": [
       "<Figure size 432x288 with 1 Axes>"
      ]
     },
     "metadata": {
      "needs_background": "light"
     },
     "output_type": "display_data"
    }
   ],
   "source": [
    "type_grouped['count'].sort_values(by='price', ascending=False).plot(kind='bar', legend=False)\n",
    "plt.title('Number of ads per vehicle type')\n",
    "plt.ylabel('number of ads');"
   ]
  },
  {
   "cell_type": "markdown",
   "metadata": {},
   "source": [
    "Из графика выше мы видим, что «внедорожник» и «седан» являются двумя наиболее популярными типами транспортных средств в этом наборе данных. Давайте подставим наш фрейм данных на основе этих 2 типов."
   ]
  },
  {
   "cell_type": "code",
   "execution_count": 127,
   "metadata": {},
   "outputs": [
    {
     "data": {
      "text/html": [
       "<div>\n",
       "<style scoped>\n",
       "    .dataframe tbody tr th:only-of-type {\n",
       "        vertical-align: middle;\n",
       "    }\n",
       "\n",
       "    .dataframe tbody tr th {\n",
       "        vertical-align: top;\n",
       "    }\n",
       "\n",
       "    .dataframe thead th {\n",
       "        text-align: right;\n",
       "    }\n",
       "</style>\n",
       "<table border=\"1\" class=\"dataframe\">\n",
       "  <thead>\n",
       "    <tr style=\"text-align: right;\">\n",
       "      <th></th>\n",
       "      <th>price</th>\n",
       "      <th>model_year</th>\n",
       "      <th>model</th>\n",
       "      <th>condition</th>\n",
       "      <th>cylinders</th>\n",
       "      <th>fuel</th>\n",
       "      <th>odometer</th>\n",
       "      <th>transmission</th>\n",
       "      <th>type</th>\n",
       "      <th>paint_color</th>\n",
       "      <th>is_4wd</th>\n",
       "      <th>date_posted</th>\n",
       "      <th>days_listed</th>\n",
       "      <th>brand</th>\n",
       "      <th>year_posted</th>\n",
       "      <th>month_posted</th>\n",
       "      <th>dow_posted</th>\n",
       "      <th>age_in_years</th>\n",
       "      <th>avg_miles_per_year</th>\n",
       "    </tr>\n",
       "  </thead>\n",
       "  <tbody>\n",
       "    <tr>\n",
       "      <th>0</th>\n",
       "      <td>9400.0</td>\n",
       "      <td>2011</td>\n",
       "      <td>bmw x5</td>\n",
       "      <td>2</td>\n",
       "      <td>6.0</td>\n",
       "      <td>gas</td>\n",
       "      <td>145000.0</td>\n",
       "      <td>automatic</td>\n",
       "      <td>SUV</td>\n",
       "      <td>missing</td>\n",
       "      <td>1.0</td>\n",
       "      <td>2018-06-23</td>\n",
       "      <td>19.0</td>\n",
       "      <td>bmw</td>\n",
       "      <td>2018</td>\n",
       "      <td>6</td>\n",
       "      <td>5</td>\n",
       "      <td>7.474486</td>\n",
       "      <td>19399.326923</td>\n",
       "    </tr>\n",
       "    <tr>\n",
       "      <th>2</th>\n",
       "      <td>5500.0</td>\n",
       "      <td>2013</td>\n",
       "      <td>hyundai sonata</td>\n",
       "      <td>4</td>\n",
       "      <td>4.0</td>\n",
       "      <td>gas</td>\n",
       "      <td>110000.0</td>\n",
       "      <td>automatic</td>\n",
       "      <td>sedan</td>\n",
       "      <td>red</td>\n",
       "      <td>0.0</td>\n",
       "      <td>2019-02-07</td>\n",
       "      <td>79.0</td>\n",
       "      <td>hyundai</td>\n",
       "      <td>2019</td>\n",
       "      <td>2</td>\n",
       "      <td>3</td>\n",
       "      <td>6.100057</td>\n",
       "      <td>18032.618941</td>\n",
       "    </tr>\n",
       "    <tr>\n",
       "      <th>4</th>\n",
       "      <td>14900.0</td>\n",
       "      <td>2017</td>\n",
       "      <td>chrysler 200</td>\n",
       "      <td>3</td>\n",
       "      <td>4.0</td>\n",
       "      <td>gas</td>\n",
       "      <td>80903.0</td>\n",
       "      <td>automatic</td>\n",
       "      <td>sedan</td>\n",
       "      <td>black</td>\n",
       "      <td>0.0</td>\n",
       "      <td>2019-04-02</td>\n",
       "      <td>28.0</td>\n",
       "      <td>chrysler</td>\n",
       "      <td>2019</td>\n",
       "      <td>4</td>\n",
       "      <td>1</td>\n",
       "      <td>2.247822</td>\n",
       "      <td>35991.734443</td>\n",
       "    </tr>\n",
       "    <tr>\n",
       "      <th>5</th>\n",
       "      <td>14990.0</td>\n",
       "      <td>2014</td>\n",
       "      <td>chrysler 300</td>\n",
       "      <td>3</td>\n",
       "      <td>6.0</td>\n",
       "      <td>gas</td>\n",
       "      <td>57954.0</td>\n",
       "      <td>automatic</td>\n",
       "      <td>sedan</td>\n",
       "      <td>black</td>\n",
       "      <td>1.0</td>\n",
       "      <td>2018-06-20</td>\n",
       "      <td>15.0</td>\n",
       "      <td>chrysler</td>\n",
       "      <td>2018</td>\n",
       "      <td>6</td>\n",
       "      <td>2</td>\n",
       "      <td>4.465526</td>\n",
       "      <td>12978.089421</td>\n",
       "    </tr>\n",
       "    <tr>\n",
       "      <th>6</th>\n",
       "      <td>12990.0</td>\n",
       "      <td>2015</td>\n",
       "      <td>toyota camry</td>\n",
       "      <td>3</td>\n",
       "      <td>4.0</td>\n",
       "      <td>gas</td>\n",
       "      <td>79212.0</td>\n",
       "      <td>automatic</td>\n",
       "      <td>sedan</td>\n",
       "      <td>white</td>\n",
       "      <td>0.0</td>\n",
       "      <td>2018-12-27</td>\n",
       "      <td>73.0</td>\n",
       "      <td>toyota</td>\n",
       "      <td>2018</td>\n",
       "      <td>12</td>\n",
       "      <td>3</td>\n",
       "      <td>3.986393</td>\n",
       "      <td>19870.596779</td>\n",
       "    </tr>\n",
       "    <tr>\n",
       "      <th>...</th>\n",
       "      <td>...</td>\n",
       "      <td>...</td>\n",
       "      <td>...</td>\n",
       "      <td>...</td>\n",
       "      <td>...</td>\n",
       "      <td>...</td>\n",
       "      <td>...</td>\n",
       "      <td>...</td>\n",
       "      <td>...</td>\n",
       "      <td>...</td>\n",
       "      <td>...</td>\n",
       "      <td>...</td>\n",
       "      <td>...</td>\n",
       "      <td>...</td>\n",
       "      <td>...</td>\n",
       "      <td>...</td>\n",
       "      <td>...</td>\n",
       "      <td>...</td>\n",
       "      <td>...</td>\n",
       "    </tr>\n",
       "    <tr>\n",
       "      <th>47405</th>\n",
       "      <td>9249.0</td>\n",
       "      <td>2013</td>\n",
       "      <td>nissan maxima</td>\n",
       "      <td>4</td>\n",
       "      <td>6.0</td>\n",
       "      <td>gas</td>\n",
       "      <td>88136.0</td>\n",
       "      <td>automatic</td>\n",
       "      <td>sedan</td>\n",
       "      <td>black</td>\n",
       "      <td>0.0</td>\n",
       "      <td>2018-10-03</td>\n",
       "      <td>37.0</td>\n",
       "      <td>nissan</td>\n",
       "      <td>2018</td>\n",
       "      <td>10</td>\n",
       "      <td>2</td>\n",
       "      <td>5.752343</td>\n",
       "      <td>15321.757725</td>\n",
       "    </tr>\n",
       "    <tr>\n",
       "      <th>47406</th>\n",
       "      <td>2700.0</td>\n",
       "      <td>2002</td>\n",
       "      <td>honda civic</td>\n",
       "      <td>0</td>\n",
       "      <td>4.0</td>\n",
       "      <td>gas</td>\n",
       "      <td>181500.0</td>\n",
       "      <td>automatic</td>\n",
       "      <td>sedan</td>\n",
       "      <td>white</td>\n",
       "      <td>0.0</td>\n",
       "      <td>2018-11-14</td>\n",
       "      <td>22.0</td>\n",
       "      <td>honda</td>\n",
       "      <td>2018</td>\n",
       "      <td>11</td>\n",
       "      <td>2</td>\n",
       "      <td>16.868245</td>\n",
       "      <td>10759.862644</td>\n",
       "    </tr>\n",
       "    <tr>\n",
       "      <th>47407</th>\n",
       "      <td>3950.0</td>\n",
       "      <td>2009</td>\n",
       "      <td>hyundai sonata</td>\n",
       "      <td>3</td>\n",
       "      <td>4.0</td>\n",
       "      <td>gas</td>\n",
       "      <td>128000.0</td>\n",
       "      <td>automatic</td>\n",
       "      <td>sedan</td>\n",
       "      <td>blue</td>\n",
       "      <td>0.0</td>\n",
       "      <td>2018-11-15</td>\n",
       "      <td>32.0</td>\n",
       "      <td>hyundai</td>\n",
       "      <td>2018</td>\n",
       "      <td>11</td>\n",
       "      <td>3</td>\n",
       "      <td>9.870155</td>\n",
       "      <td>12968.388350</td>\n",
       "    </tr>\n",
       "    <tr>\n",
       "      <th>47408</th>\n",
       "      <td>7455.0</td>\n",
       "      <td>2013</td>\n",
       "      <td>toyota corolla</td>\n",
       "      <td>2</td>\n",
       "      <td>4.0</td>\n",
       "      <td>gas</td>\n",
       "      <td>139573.0</td>\n",
       "      <td>automatic</td>\n",
       "      <td>sedan</td>\n",
       "      <td>black</td>\n",
       "      <td>0.0</td>\n",
       "      <td>2018-07-02</td>\n",
       "      <td>71.0</td>\n",
       "      <td>toyota</td>\n",
       "      <td>2018</td>\n",
       "      <td>7</td>\n",
       "      <td>0</td>\n",
       "      <td>5.497717</td>\n",
       "      <td>25387.445942</td>\n",
       "    </tr>\n",
       "    <tr>\n",
       "      <th>47409</th>\n",
       "      <td>6300.0</td>\n",
       "      <td>2014</td>\n",
       "      <td>nissan altima</td>\n",
       "      <td>2</td>\n",
       "      <td>4.0</td>\n",
       "      <td>gas</td>\n",
       "      <td>NaN</td>\n",
       "      <td>automatic</td>\n",
       "      <td>sedan</td>\n",
       "      <td>missing</td>\n",
       "      <td>0.0</td>\n",
       "      <td>2018-06-05</td>\n",
       "      <td>10.0</td>\n",
       "      <td>nissan</td>\n",
       "      <td>2018</td>\n",
       "      <td>6</td>\n",
       "      <td>1</td>\n",
       "      <td>4.424458</td>\n",
       "      <td>NaN</td>\n",
       "    </tr>\n",
       "  </tbody>\n",
       "</table>\n",
       "<p>22997 rows × 19 columns</p>\n",
       "</div>"
      ],
      "text/plain": [
       "         price  model_year           model  condition  cylinders fuel  \\\n",
       "0       9400.0        2011          bmw x5          2        6.0  gas   \n",
       "2       5500.0        2013  hyundai sonata          4        4.0  gas   \n",
       "4      14900.0        2017    chrysler 200          3        4.0  gas   \n",
       "5      14990.0        2014    chrysler 300          3        6.0  gas   \n",
       "6      12990.0        2015    toyota camry          3        4.0  gas   \n",
       "...        ...         ...             ...        ...        ...  ...   \n",
       "47405   9249.0        2013   nissan maxima          4        6.0  gas   \n",
       "47406   2700.0        2002     honda civic          0        4.0  gas   \n",
       "47407   3950.0        2009  hyundai sonata          3        4.0  gas   \n",
       "47408   7455.0        2013  toyota corolla          2        4.0  gas   \n",
       "47409   6300.0        2014   nissan altima          2        4.0  gas   \n",
       "\n",
       "       odometer transmission   type paint_color  is_4wd date_posted  \\\n",
       "0      145000.0    automatic    SUV     missing     1.0  2018-06-23   \n",
       "2      110000.0    automatic  sedan         red     0.0  2019-02-07   \n",
       "4       80903.0    automatic  sedan       black     0.0  2019-04-02   \n",
       "5       57954.0    automatic  sedan       black     1.0  2018-06-20   \n",
       "6       79212.0    automatic  sedan       white     0.0  2018-12-27   \n",
       "...         ...          ...    ...         ...     ...         ...   \n",
       "47405   88136.0    automatic  sedan       black     0.0  2018-10-03   \n",
       "47406  181500.0    automatic  sedan       white     0.0  2018-11-14   \n",
       "47407  128000.0    automatic  sedan        blue     0.0  2018-11-15   \n",
       "47408  139573.0    automatic  sedan       black     0.0  2018-07-02   \n",
       "47409       NaN    automatic  sedan     missing     0.0  2018-06-05   \n",
       "\n",
       "       days_listed     brand  year_posted  month_posted  dow_posted  \\\n",
       "0             19.0       bmw         2018             6           5   \n",
       "2             79.0   hyundai         2019             2           3   \n",
       "4             28.0  chrysler         2019             4           1   \n",
       "5             15.0  chrysler         2018             6           2   \n",
       "6             73.0    toyota         2018            12           3   \n",
       "...            ...       ...          ...           ...         ...   \n",
       "47405         37.0    nissan         2018            10           2   \n",
       "47406         22.0     honda         2018            11           2   \n",
       "47407         32.0   hyundai         2018            11           3   \n",
       "47408         71.0    toyota         2018             7           0   \n",
       "47409         10.0    nissan         2018             6           1   \n",
       "\n",
       "       age_in_years  avg_miles_per_year  \n",
       "0          7.474486        19399.326923  \n",
       "2          6.100057        18032.618941  \n",
       "4          2.247822        35991.734443  \n",
       "5          4.465526        12978.089421  \n",
       "6          3.986393        19870.596779  \n",
       "...             ...                 ...  \n",
       "47405      5.752343        15321.757725  \n",
       "47406     16.868245        10759.862644  \n",
       "47407      9.870155        12968.388350  \n",
       "47408      5.497717        25387.445942  \n",
       "47409      4.424458                 NaN  \n",
       "\n",
       "[22997 rows x 19 columns]"
      ]
     },
     "execution_count": 127,
     "metadata": {},
     "output_type": "execute_result"
    }
   ],
   "source": [
    "popular_types = df_filtered[df_filtered['type'].isin(['SUV', 'sedan'])]\n",
    "popular_types"
   ]
  },
  {
   "cell_type": "markdown",
   "metadata": {},
   "source": [
    "#### Факторы, влияющие на цену\n",
    "##### Состояние vs цена\n",
    "Во-первых, давайте проверим, есть ли в каждой категории не менее 50 объявлений."
   ]
  },
  {
   "cell_type": "code",
   "execution_count": 128,
   "metadata": {},
   "outputs": [
    {
     "data": {
      "text/plain": [
       "3    11971\n",
       "2     8084\n",
       "4     2282\n",
       "1      548\n",
       "5       57\n",
       "0       55\n",
       "Name: condition, dtype: int64"
      ]
     },
     "execution_count": 128,
     "metadata": {},
     "output_type": "execute_result"
    }
   ],
   "source": [
    "popular_types.condition.value_counts()"
   ]
  },
  {
   "cell_type": "code",
   "execution_count": 208,
   "metadata": {},
   "outputs": [
    {
     "data": {
      "image/png": "[encoded data removed]",
      "text/plain": [
       "<Figure size 432x288 with 1 Axes>"
      ]
     },
     "metadata": {
      "needs_background": "light"
     },
     "output_type": "display_data"
    }
   ],
   "source": [
    "popular_types.boxplot(by='condition', column='price')\n",
    "plt.suptitle('')\n",
    "plt.title('Link between price and condition of a vehicle');"
   ]
  },
  {
   "cell_type": "markdown",
   "metadata": {},
   "source": [
    "Мы видим вполне четкую связь: в среднем, чем лучше состояние транспортного средства, тем выше его цена."
   ]
  },
  {
   "cell_type": "markdown",
   "metadata": {},
   "source": [
    "##### Тип коробки передач vs цена¶\n",
    "Во-первых, давайте проверим, есть ли в каждой категории не менее 50 объявлений."
   ]
  },
  {
   "cell_type": "code",
   "execution_count": 209,
   "metadata": {},
   "outputs": [
    {
     "data": {
      "text/plain": [
       "automatic    21838\n",
       "manual         992\n",
       "other          283\n",
       "Name: transmission, dtype: int64"
      ]
     },
     "execution_count": 209,
     "metadata": {},
     "output_type": "execute_result"
    }
   ],
   "source": [
    "popular_types.transmission.value_counts()"
   ]
  },
  {
   "cell_type": "code",
   "execution_count": 210,
   "metadata": {},
   "outputs": [
    {
     "data": {
      "image/png": "[encoded data removed]",
      "text/plain": [
       "<Figure size 432x288 with 1 Axes>"
      ]
     },
     "metadata": {
      "needs_background": "light"
     },
     "output_type": "display_data"
    }
   ],
   "source": [
    "popular_types.boxplot(by='transmission', column='price')\n",
    "plt.suptitle('')\n",
    "plt.title('Link between price and transmission type of a vehicle');"
   ]
  },
  {
   "cell_type": "markdown",
   "metadata": {},
   "source": [
    "Автомобили с «другим» типом трансмиссии, как правило, немного дороже. Вероятно, это объясняется тем, что эти другие типы дают большую гибкость и комфорт водителю и более эффективны с точки зрения использования топлива."
   ]
  },
  {
   "cell_type": "markdown",
   "metadata": {},
   "source": [
    "##### Цвет краски vs цена¶\n",
    "Во-первых, давайте проверим, есть ли в каждой категории не менее 50 объявлений."
   ]
  },
  {
   "cell_type": "code",
   "execution_count": 211,
   "metadata": {},
   "outputs": [
    {
     "data": {
      "text/plain": [
       "missing    4167\n",
       "black      3748\n",
       "silver     3435\n",
       "white      3246\n",
       "grey       2677\n",
       "blue       2135\n",
       "red        1743\n",
       "green       592\n",
       "brown       581\n",
       "custom      577\n",
       "orange       88\n",
       "yellow       65\n",
       "purple       59\n",
       "Name: paint_color, dtype: int64"
      ]
     },
     "execution_count": 211,
     "metadata": {},
     "output_type": "execute_result"
    }
   ],
   "source": [
    "popular_types.paint_color.value_counts()"
   ]
  },
  {
   "cell_type": "code",
   "execution_count": 212,
   "metadata": {},
   "outputs": [
    {
     "data": {
      "image/png": "[encoded data removed]",
      "text/plain": [
       "<Figure size 720x360 with 1 Axes>"
      ]
     },
     "metadata": {
      "needs_background": "light"
     },
     "output_type": "display_data"
    }
   ],
   "source": [
    "popular_types.boxplot(by='paint_color', column='price', figsize=(10,5))\n",
    "plt.suptitle('')\n",
    "plt.title('Link between price and paint color of a vehicle');"
   ]
  },
  {
   "cell_type": "markdown",
   "metadata": {},
   "source": [
    "Нет четкой связи между ценой и цветом краски. Это имеет смысл, потому что цвет краски зависит в основном от предпочтений клиентов, а не от цены автомобиля. Интересно, что оранжевые автомобили кажутся самыми дорогими, но их количество в этом наборе данных довольно низкое (всего 88 автомобилей). Большинство автомобилей черного и серебристого цвета."
   ]
  },
  {
   "cell_type": "markdown",
   "metadata": {},
   "source": [
    "##### Возраст vs цена"
   ]
  },
  {
   "cell_type": "code",
   "execution_count": 213,
   "metadata": {},
   "outputs": [
    {
     "data": {
      "image/png": "[encoded data removed]",
      "text/plain": [
       "<Figure size 432x288 with 1 Axes>"
      ]
     },
     "metadata": {
      "needs_background": "light"
     },
     "output_type": "display_data"
    }
   ],
   "source": [
    "popular_types.plot.scatter(x='age_in_years', y='price', alpha=.15)\n",
    "plt.title('Link between price and age of a vehicle: scatter plot');"
   ]
  },
  {
   "cell_type": "code",
   "execution_count": 214,
   "metadata": {},
   "outputs": [
    {
     "data": {
      "image/png": "[encoded data removed]",
      "text/plain": [
       "<Figure size 720x360 with 2 Axes>"
      ]
     },
     "metadata": {
      "needs_background": "light"
     },
     "output_type": "display_data"
    }
   ],
   "source": [
    "popular_types.plot(x='age_in_years', y='price', kind='hexbin', gridsize=30, figsize=(10, 5), sharex=False, grid=True)\n",
    "plt.title('Link between price and age of a vehicle: hexbin plot');"
   ]
  },
  {
   "cell_type": "markdown",
   "metadata": {},
   "source": [
    "Мы видим, что, в среднем, чем старше транспортное средство, тем ниже его цена, что вполне разумно.\n",
    "\n",
    "Давайте посмотрим, справедлив ли этот вывод для функции.model_year"
   ]
  },
  {
   "cell_type": "code",
   "execution_count": 215,
   "metadata": {},
   "outputs": [
    {
     "data": {
      "image/png": "[encoded data removed]",
      "text/plain": [
       "<Figure size 432x288 with 1 Axes>"
      ]
     },
     "metadata": {
      "needs_background": "light"
     },
     "output_type": "display_data"
    }
   ],
   "source": [
    "popular_types.plot.scatter(x='model_year', y='price', alpha=.25)\n",
    "plt.title('Link between price and model year of a vehicle');"
   ]
  },
  {
   "cell_type": "markdown",
   "metadata": {},
   "source": [
    "Эта тенденция подтверждается и переменной. Данные отражают реальную жизненную ситуацию: чем новее модель автомобиля, тем выше его цена.model_year"
   ]
  },
  {
   "cell_type": "markdown",
   "metadata": {},
   "source": [
    "##### Пробег vs цена"
   ]
  },
  {
   "cell_type": "code",
   "execution_count": 216,
   "metadata": {},
   "outputs": [
    {
     "data": {
      "image/png": "[encoded data removed]",
      "text/plain": [
       "<Figure size 432x288 with 1 Axes>"
      ]
     },
     "metadata": {
      "needs_background": "light"
     },
     "output_type": "display_data"
    }
   ],
   "source": [
    "popular_types.plot.scatter(x='odometer', y='price', alpha=.25)\n",
    "plt.title('Link between price and mileage of a vehicle');"
   ]
  },
  {
   "cell_type": "markdown",
   "metadata": {},
   "source": [
    "Основываясь на приведенном выше точечном графике, по мере увеличения, транспортное средство имеет тенденцию к уменьшению. Это имеет смысл, так как чем выше пробег, тем хуже, в среднем, состояние автомобиля, следовательно, ниже цена.odometerprice"
   ]
  },
  {
   "cell_type": "markdown",
   "metadata": {},
   "source": [
    "# Заключение"
   ]
  },
  {
   "cell_type": "markdown",
   "metadata": {},
   "source": [
    "В этом отчете мы проанализировали различные особенности различных типов транспортных средств, чтобы определить, влияют ли возраст, пробег, состояние, тип трансмиссии и цвет на цену транспортного средства.\n",
    "\n",
    "Прежде всего, мы ознакомились с данными, выполнив описательную статистику. Затем мы изучили нашу целевую переменную и обнаружили несколько артефактов в наборе данных, который мы исправили: строки с аномально высокими ценами на тип и группу брендов, наблюдения с = 1 и = 123456.pricepriceprice\n",
    "\n",
    "Следующим шагом была работа с отсутствующими значениями:\n",
    "- Недостающие значения в колонке были заполнены 0 для тех транспортных средств, которые не имеют 4 weels; is_4wd\n",
    "- Недостающие значения заполнялись медианным значением соответствующей группы на основе модели и типа транспортного средства. Мы предположили, что автомобили с одной и той же моделью (например, Cadillac escalade), но разными типами (например, внедорожник и пикап) имеют разные значения одометра;odometer\n",
    "- Недостающие значения заполнялись на основе медианного числа лет эксплуатации соответствующей группы на основе модели и типа транспортного средства;model_year\n",
    "- Недостающие значения заполнялись медианным значением соответствующей группы на основе модели и типа транспортного средства. Мы предположили, что автомобили с одной и той же моделью (например, Cadillac escalade), но разными типами (например, внедорожник и пикап) имеют разное количество цилиндров, потому что их двигатели были предназначены для разных целей;cylinders\n",
    "- Отсутствующие значения были заполнены строкой «отсутствует», так как это в основном зависит от предпочтений клиента, и у нас нет никакой дополнительной информации для заполнения этого столбца.paint_color\n",
    "\n",
    "Затем мы выполнили несколько вспомогательных расчетов:\n",
    "\n",
    "- Мы извлекли день недели, месяц и год, когда было размещено объявление;\n",
    "- Мы рассчитали возраст автомобиля (в годах) при размещении объявления;\n",
    "- Мы рассчитали средний пробег автомобиля в год;\n",
    "- В столбце условия мы заменили строковые значения числовой шкалой, чтобы упростить дальнейший анализ.\n",
    "\n",
    "Наконец, мы провели исследовательский анализ данных:\n",
    "\n",
    "1. Мы построили гистограммы для основных признаков, чтобы найти выбросы. , и столбцы не имели видимых выбросов, и все они имели длинные хвосты больших значений, которые мы должны были отфильтровать, поскольку они искажали наши данные. Во-первых, мы проверили, имеют ли эти переменные нормальное (гауссовское) распределение. Все они сильно отклонялись от теоретического распределения колоколообразной кривой. Исходя из этого, мы решили использовать межквартильный диапазон для определения предельных значений для удаления выбросов. После фильтрации гистограммы выглядели более нормальными и менее перекошенными, чем раньше;priceconditioncylindersage_in_yearsodometerdays_listed\n",
    "2. Наконец, мы проанализировали, какие факторы больше всего повлияли на цену автомобиля. Мы провели этот анализ для 2 самых популярных типов транспортных средств с точки зрения количества объявлений (внедорожник и седан). Основываясь на нашем анализе, некоторые из предсказанных тенденций были правильными, в то время как другие не были:\n",
    "- Правильно, в среднем, чем старше транспортное средство, тем ниже цена;\n",
    "- Правильно, в среднем, чем выше пробег, тем ниже цена;\n",
    "- Правильно, в среднем, чем лучше состояние транспортного средства, тем выше цена;\n",
    "- Неправильные, транспортные средства с «другим» типом трансмиссии, как правило, дороже. Вероятно, это объясняется тем, что эти другие типы дают большую гибкость и комфорт водителю и более эффективны с точки зрения использования топлива.\n",
    "- Неправильно, нет четкой связи между ценой и цветом краски, это зависит в основном от предпочтений клиентов. Интересно, что оранжевые автомобили кажутся самыми дорогими, хотя их количество в этом наборе данных довольно низкое (всего 88 машин). Большинство автомобилей черного и серебристого цвета, но они не самые дорогие."
   ]
  },
  {
   "cell_type": "code",
   "execution_count": null,
   "metadata": {},
   "outputs": [],
   "source": []
  }
 ],
 "metadata": {
  "kernelspec": {
   "display_name": "Python 3.10.7 64-bit",
   "language": "python",
   "name": "python3"
  },
  "language_info": {
   "codemirror_mode": {
    "name": "ipython",
    "version": 3
   },
   "file_extension": ".py",
   "mimetype": "text/x-python",
   "name": "python",
   "nbconvert_exporter": "python",
   "pygments_lexer": "ipython3",
   "version": "3.10.7"
  },
  "toc": {
   "base_numbering": 1,
   "nav_menu": {},
   "number_sections": true,
   "sideBar": true,
   "skip_h1_title": true,
   "title_cell": "Table of Contents",
   "title_sidebar": "Contents",
   "toc_cell": true,
   "toc_position": {},
   "toc_section_display": true,
   "toc_window_display": false
  },
  "vscode": {
   "interpreter": {
    "hash": "800f5446f05b6c19c3d9d5605cc8e76c92f802913ec490527ddacf581c40d26e"
   }
  }
 },
 "nbformat": 4,
 "nbformat_minor": 4
}
