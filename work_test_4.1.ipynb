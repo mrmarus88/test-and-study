{
 "cells": [
  {
   "cell_type": "markdown",
   "metadata": {},
   "source": [
    "Зачет 4.1\n",
    " Исследовательский анализ данных\n",
    "1. Для каждой страны найдите среднюю цену вина. Для каждой страны найдите максимальную цену вина.Для каждой страны найдите минимальную цену вина. Для каждой страны найдите количество записей.\n",
    "2. Определить, какие вины лидируют по рейтингам. Выберите несколько вин с наилучшим рейтингом.\n",
    "3. Построить график «ящик с усами» по рейтингам в разбивке по странам, по сортам вина. Опишите результат.\n",
    "4. Определить, как влияют отзывы внутри одной страны на цены.\n",
    "5. Построить диаграмму рассеяния и посчитайте корреляцию между рейтингами и ценами. Сформулировать выводы.\n",
    "6. Посмотреть на общее распределение вин по странам. Что можно сказать о самых распрастраненных сортах вина?\n",
    "7. Вина какой области (province) получают наилучший рейтинг?Более дорогие вина оцениваются выше?\n",
    "8. В какой части мира производят вина с более высоким рейтингом?\n",
    "9. Какое описание вин более высоко оценено?\n",
    "10. Какой сорт вина более высоко оценен?\n",
    "11. Сколько денег стоит получить вино с высоким рейтингом в стране?\n",
    "12. Какие винодельни производят самые дорогие/высоко оцененные вина?\n",
    "13. Какие винодельни/регионы/страны производят вина с самым низким рейтингом?\n",
    "14. Провести анализ сорта вина (например, белого вина Шардоне) и проанализировал стоимость и качество в основных регионах-производителях в мире."
   ]
  },
  {
   "cell_type": "code",
   "execution_count": 279,
   "metadata": {},
   "outputs": [
    {
     "data": {
      "text/html": [
       "<div>\n",
       "<style scoped>\n",
       "    .dataframe tbody tr th:only-of-type {\n",
       "        vertical-align: middle;\n",
       "    }\n",
       "\n",
       "    .dataframe tbody tr th {\n",
       "        vertical-align: top;\n",
       "    }\n",
       "\n",
       "    .dataframe thead th {\n",
       "        text-align: right;\n",
       "    }\n",
       "</style>\n",
       "<table border=\"1\" class=\"dataframe\">\n",
       "  <thead>\n",
       "    <tr style=\"text-align: right;\">\n",
       "      <th></th>\n",
       "      <th>country</th>\n",
       "      <th>description</th>\n",
       "      <th>designation</th>\n",
       "      <th>points</th>\n",
       "      <th>price</th>\n",
       "      <th>province</th>\n",
       "      <th>region_1</th>\n",
       "      <th>region_2</th>\n",
       "      <th>variety</th>\n",
       "      <th>winery</th>\n",
       "    </tr>\n",
       "  </thead>\n",
       "  <tbody>\n",
       "    <tr>\n",
       "      <th>0</th>\n",
       "      <td>US</td>\n",
       "      <td>With a delicate, silky mouthfeel and bright ac...</td>\n",
       "      <td>NaN</td>\n",
       "      <td>86</td>\n",
       "      <td>23.0</td>\n",
       "      <td>California</td>\n",
       "      <td>Central Coast</td>\n",
       "      <td>Central Coast</td>\n",
       "      <td>Pinot Noir</td>\n",
       "      <td>MacMurray Ranch</td>\n",
       "    </tr>\n",
       "    <tr>\n",
       "      <th>1</th>\n",
       "      <td>Italy</td>\n",
       "      <td>D'Alceo is a drop dead gorgeous wine that ooze...</td>\n",
       "      <td>D'Alceo</td>\n",
       "      <td>96</td>\n",
       "      <td>275.0</td>\n",
       "      <td>Tuscany</td>\n",
       "      <td>Toscana</td>\n",
       "      <td>NaN</td>\n",
       "      <td>Red Blend</td>\n",
       "      <td>Castello dei Rampolla</td>\n",
       "    </tr>\n",
       "  </tbody>\n",
       "</table>\n",
       "</div>"
      ],
      "text/plain": [
       "  country                                        description designation  \\\n",
       "0      US  With a delicate, silky mouthfeel and bright ac...         NaN   \n",
       "1   Italy  D'Alceo is a drop dead gorgeous wine that ooze...     D'Alceo   \n",
       "\n",
       "   points  price    province       region_1       region_2     variety  \\\n",
       "0      86   23.0  California  Central Coast  Central Coast  Pinot Noir   \n",
       "1      96  275.0     Tuscany        Toscana            NaN   Red Blend   \n",
       "\n",
       "                  winery  \n",
       "0        MacMurray Ranch  \n",
       "1  Castello dei Rampolla  "
      ]
     },
     "execution_count": 279,
     "metadata": {},
     "output_type": "execute_result"
    }
   ],
   "source": [
    "# import\n",
    "import pandas as pd\n",
    "import numpy as np\n",
    "import pylab as pl\n",
    "import matplotlib.pyplot as plt\n",
    "import matplotlib as mpl\n",
    "df = pd.read_csv('G:/study/documents_study/materials/wine_1.csv')\n",
    "df.head(2)"
   ]
  },
  {
   "cell_type": "markdown",
   "metadata": {},
   "source": [
    "1. Для каждой страны найдите среднюю цену вина.Для каждой страны найдите максимальную цену вина.Для каждой страны найдите минимальную цену вина. Для каждой страны найдите количество записей.\n"
   ]
  },
  {
   "cell_type": "code",
   "execution_count": 6,
   "metadata": {},
   "outputs": [
    {
     "name": "stdout",
     "output_type": "stream",
     "text": [
      "country            0\n",
      "description        0\n",
      "designation     6001\n",
      "points             0\n",
      "price           1802\n",
      "province           0\n",
      "region_1        3457\n",
      "region_2       11942\n",
      "variety            0\n",
      "winery             0\n",
      "dtype: int64\n"
     ]
    }
   ],
   "source": [
    "print(df.isnull().sum())"
   ]
  },
  {
   "cell_type": "code",
   "execution_count": 36,
   "metadata": {},
   "outputs": [
    {
     "name": "stdout",
     "output_type": "stream",
     "text": [
      "                           points      price\n",
      "country                                     \n",
      "Argentina               86.215259  22.502747\n",
      "Australia               87.977492  30.607780\n",
      "Austria                 89.095465  31.691395\n",
      "Bosnia and Herzegovina  88.000000  12.000000\n",
      "Brazil                  83.666667  24.666667\n"
     ]
    }
   ],
   "source": [
    "#1.1 Для каждой страны найдите среднюю цену вина\n",
    "mean_price = (df\n",
    "              .groupby('country')\n",
    "              .mean('price')\n",
    "              .head(5)\n",
    "              )\n",
    "print(mean_price)"
   ]
  },
  {
   "cell_type": "code",
   "execution_count": 35,
   "metadata": {},
   "outputs": [
    {
     "name": "stdout",
     "output_type": "stream",
     "text": [
      "                        points   price\n",
      "country                               \n",
      "Argentina                   97   215.0\n",
      "Australia                   98   550.0\n",
      "Austria                     96  1100.0\n",
      "Bosnia and Herzegovina      88    12.0\n",
      "Brazil                      85    35.0\n"
     ]
    }
   ],
   "source": [
    "#1.2 Для каждой страны найдите максимальную цену вина\n",
    "max_price = (df\n",
    "              .groupby('country')\n",
    "              .max('price')\n",
    "              .head(5)\n",
    "              )\n",
    "print(max_price)"
   ]
  },
  {
   "cell_type": "code",
   "execution_count": 34,
   "metadata": {},
   "outputs": [
    {
     "name": "stdout",
     "output_type": "stream",
     "text": [
      "                        points  price\n",
      "country                              \n",
      "Argentina                   80    6.0\n",
      "Australia                   80    5.0\n",
      "Austria                     82    8.0\n",
      "Bosnia and Herzegovina      88   12.0\n",
      "Brazil                      82   13.0\n"
     ]
    }
   ],
   "source": [
    "#1.3 Для каждой страны найдите минимальную цену вина\n",
    "min_price = (df\n",
    "              .groupby('country')\n",
    "              .min('price')\n",
    "              .head(5)\n",
    "              )\n",
    "print(min_price)"
   ]
  },
  {
   "cell_type": "code",
   "execution_count": 42,
   "metadata": {},
   "outputs": [
    {
     "name": "stdout",
     "output_type": "stream",
     "text": [
      "country\n",
      "US             8247\n",
      "Italy          3092\n",
      "France         2751\n",
      "Spain          1090\n",
      "Chile           780\n",
      "Portugal        751\n",
      "Argentina       734\n",
      "Australia       622\n",
      "New Zealand     446\n",
      "Austria         419\n",
      "dtype: int64\n"
     ]
    }
   ],
   "source": [
    "#1.4 Для каждой страны найдите кол-во записей\n",
    "count = (df\n",
    "            .value_counts('country')\n",
    "            .head(10)\n",
    "            )\n",
    "print(count)\n",
    "\n"
   ]
  },
  {
   "cell_type": "markdown",
   "metadata": {},
   "source": [
    "2. Определить, какие вины лидируют по рейтингам. Выберите несколько вин с наилучшим рейтингом."
   ]
  },
  {
   "cell_type": "code",
   "execution_count": 43,
   "metadata": {},
   "outputs": [
    {
     "name": "stdout",
     "output_type": "stream",
     "text": [
      "            points   price\n",
      "province                  \n",
      "California     100   245.0\n",
      "Champagne      100  1400.0\n",
      "Tuscany        100   460.0\n"
     ]
    }
   ],
   "source": [
    "top_wines = df[df['points'] == 100]\n",
    "province = top_wines.pivot_table(df, \n",
    "                          index='province')\n",
    "print(province)"
   ]
  },
  {
   "cell_type": "markdown",
   "metadata": {},
   "source": [
    "3. Построить график «ящик с усами» по рейтингам в разбивке по странам, по сортам вина. Опишите результат.\n"
   ]
  },
  {
   "cell_type": "code",
   "execution_count": 109,
   "metadata": {},
   "outputs": [
    {
     "data": {
      "image/png": "[encoded data removed]",
      "text/plain": [
       "<Figure size 1000x700 with 1 Axes>"
      ]
     },
     "metadata": {},
     "output_type": "display_data"
    }
   ],
   "source": [
    "# Creating dataset\n",
    "fig = plt.figure(figsize =(10, 7)) \n",
    " \n",
    "# Creating axes instance\n",
    "#ax = fig.add_axes(df\n",
    "#                  ['country'])\n",
    "\n",
    "# Creating plot\n",
    "#bp = ax.boxplot(df\n",
    "#            ['points'])\n",
    "\n",
    "# Creating plot\n",
    "plt.boxplot(df\n",
    "            ['points'])\n",
    "# show plot\n",
    "plt.show()\n",
    "\n",
    "\n"
   ]
  },
  {
   "cell_type": "markdown",
   "metadata": {},
   "source": [
    "4. Определить, как влияют отзывы внутри одной страны на цены."
   ]
  },
  {
   "cell_type": "code",
   "execution_count": 28,
   "metadata": {},
   "outputs": [
    {
     "data": {
      "text/plain": [
       "[<matplotlib.lines.Line2D at 0x219e68a7b20>]"
      ]
     },
     "execution_count": 28,
     "metadata": {},
     "output_type": "execute_result"
    },
    {
     "data": {
      "image/png": "[encoded data removed]",
      "text/plain": [
       "<Figure size 640x480 with 1 Axes>"
      ]
     },
     "metadata": {},
     "output_type": "display_data"
    }
   ],
   "source": [
    "d = df.groupby('points').mean()\n",
    "plt.xlabel('points')\n",
    "plt.ylabel('Средняя цена')\n",
    "plt.plot(d.index, d.values)"
   ]
  },
  {
   "cell_type": "markdown",
   "metadata": {},
   "source": [
    "5. Построить диаграмму рассеяния и посчитайте корреляцию между рейтингами и ценами. Сформулировать выводы.\n"
   ]
  },
  {
   "cell_type": "code",
   "execution_count": 29,
   "metadata": {},
   "outputs": [
    {
     "data": {
      "text/plain": [
       "<matplotlib.collections.PathCollection at 0x219e689b220>"
      ]
     },
     "execution_count": 29,
     "metadata": {},
     "output_type": "execute_result"
    },
    {
     "data": {
      "image/png": "[encoded data removed]",
      "text/plain": [
       "<Figure size 640x480 with 1 Axes>"
      ]
     },
     "metadata": {},
     "output_type": "display_data"
    }
   ],
   "source": [
    "plt.xlabel('points')\n",
    "plt.ylabel('price')\n",
    "plt.scatter(x=df['points'], y=df['price'])"
   ]
  },
  {
   "cell_type": "markdown",
   "metadata": {},
   "source": [
    "6. Посмотреть на общее распределение вин по странам. Что можно сказать о самых распрастраненных сортах вина?\n"
   ]
  },
  {
   "cell_type": "code",
   "execution_count": 46,
   "metadata": {},
   "outputs": [
    {
     "data": {
      "text/plain": [
       "<BarContainer object of 7 artists>"
      ]
     },
     "execution_count": 46,
     "metadata": {},
     "output_type": "execute_result"
    },
    {
     "data": {
      "image/png": "[encoded data removed]",
      "text/plain": [
       "<Figure size 640x480 with 1 Axes>"
      ]
     },
     "metadata": {},
     "output_type": "display_data"
    }
   ],
   "source": [
    "countries = df['country'].value_counts().head(7)\n",
    "plt.xlabel('Cтрана')\n",
    "plt.ylabel('Количество вин')\n",
    "plt.bar(x=countries.index, height=countries.values)\n"
   ]
  },
  {
   "cell_type": "code",
   "execution_count": 53,
   "metadata": {},
   "outputs": [
    {
     "data": {
      "text/plain": [
       "([0, 1, 2, 3, 4, 5, 6, 7, 8, 9],\n",
       " [Text(0, 0, 'Pinot Noir'),\n",
       "  Text(1, 0, 'Chardonnay'),\n",
       "  Text(2, 0, 'Cabernet Sauvignon'),\n",
       "  Text(3, 0, 'Red Blend'),\n",
       "  Text(4, 0, 'Bordeaux-style Red Blend'),\n",
       "  Text(5, 0, 'Sauvignon Blanc'),\n",
       "  Text(6, 0, 'Syrah'),\n",
       "  Text(7, 0, 'Riesling'),\n",
       "  Text(8, 0, 'Merlot'),\n",
       "  Text(9, 0, 'Zinfandel')])"
      ]
     },
     "execution_count": 53,
     "metadata": {},
     "output_type": "execute_result"
    },
    {
     "data": {
      "image/png": "[encoded data removed]",
      "text/plain": [
       "<Figure size 640x480 with 1 Axes>"
      ]
     },
     "metadata": {},
     "output_type": "display_data"
    }
   ],
   "source": [
    "variety = df['variety'].value_counts().head(10)\n",
    "plt.xlabel('Количество')\n",
    "plt.ylabel('Регион')\n",
    "plt.bar(x=variety.index, height=variety.values)\n",
    "plt.xticks(rotation=90)"
   ]
  },
  {
   "cell_type": "markdown",
   "metadata": {},
   "source": [
    "7. Вина какой области (province) получают наилучший рейтинг?Более дорогие вина оцениваются выше?\n"
   ]
  },
  {
   "cell_type": "code",
   "execution_count": 343,
   "metadata": {},
   "outputs": [
    {
     "data": {
      "text/html": [
       "<div>\n",
       "<style scoped>\n",
       "    .dataframe tbody tr th:only-of-type {\n",
       "        vertical-align: middle;\n",
       "    }\n",
       "\n",
       "    .dataframe tbody tr th {\n",
       "        vertical-align: top;\n",
       "    }\n",
       "\n",
       "    .dataframe thead th {\n",
       "        text-align: right;\n",
       "    }\n",
       "</style>\n",
       "<table border=\"1\" class=\"dataframe\">\n",
       "  <thead>\n",
       "    <tr style=\"text-align: right;\">\n",
       "      <th></th>\n",
       "      <th>points</th>\n",
       "    </tr>\n",
       "    <tr>\n",
       "      <th>province</th>\n",
       "      <th></th>\n",
       "    </tr>\n",
       "  </thead>\n",
       "  <tbody>\n",
       "    <tr>\n",
       "      <th>Madeira</th>\n",
       "      <td>93.0</td>\n",
       "    </tr>\n",
       "    <tr>\n",
       "      <th>Martinborough Terrace</th>\n",
       "      <td>93.0</td>\n",
       "    </tr>\n",
       "    <tr>\n",
       "      <th>Eisenberg</th>\n",
       "      <td>92.0</td>\n",
       "    </tr>\n",
       "    <tr>\n",
       "      <th>Minho</th>\n",
       "      <td>92.0</td>\n",
       "    </tr>\n",
       "    <tr>\n",
       "      <th>Tokaji</th>\n",
       "      <td>91.6</td>\n",
       "    </tr>\n",
       "  </tbody>\n",
       "</table>\n",
       "</div>"
      ],
      "text/plain": [
       "                       points\n",
       "province                     \n",
       "Madeira                  93.0\n",
       "Martinborough Terrace    93.0\n",
       "Eisenberg                92.0\n",
       "Minho                    92.0\n",
       "Tokaji                   91.6"
      ]
     },
     "execution_count": 343,
     "metadata": {},
     "output_type": "execute_result"
    }
   ],
   "source": [
    "dfp = df.copy()\n",
    "dfp.drop(['description','designation','region_1','region_2','winery'], axis=1, inplace=True)\n",
    "dfp = dfp. dropna()\n",
    "dfp.isnull().sum()\n",
    "dfp.head(3)\n",
    "\n",
    "\n",
    "\n",
    "\n",
    "pd.pivot_table(dfp,\n",
    "                    index=[\"province\"],\n",
    "                    values=[\"points\"],\n",
    "                    ).sort_values(by=['points'],ascending=False).head(5)\n",
    "\n",
    "\n"
   ]
  },
  {
   "cell_type": "markdown",
   "metadata": {},
   "source": [
    "8. В какой части мира производят вина с более высоким рейтингом?\n"
   ]
  },
  {
   "cell_type": "code",
   "execution_count": 394,
   "metadata": {},
   "outputs": [
    {
     "data": {
      "text/html": [
       "<div>\n",
       "<style scoped>\n",
       "    .dataframe tbody tr th:only-of-type {\n",
       "        vertical-align: middle;\n",
       "    }\n",
       "\n",
       "    .dataframe tbody tr th {\n",
       "        vertical-align: top;\n",
       "    }\n",
       "\n",
       "    .dataframe thead th {\n",
       "        text-align: right;\n",
       "    }\n",
       "</style>\n",
       "<table border=\"1\" class=\"dataframe\">\n",
       "  <thead>\n",
       "    <tr style=\"text-align: right;\">\n",
       "      <th></th>\n",
       "      <th>points</th>\n",
       "    </tr>\n",
       "    <tr>\n",
       "      <th>region</th>\n",
       "      <th></th>\n",
       "    </tr>\n",
       "  </thead>\n",
       "  <tbody>\n",
       "    <tr>\n",
       "      <th>Europe</th>\n",
       "      <td>88.123732</td>\n",
       "    </tr>\n",
       "    <tr>\n",
       "      <th>Oceania</th>\n",
       "      <td>87.824952</td>\n",
       "    </tr>\n",
       "    <tr>\n",
       "      <th>North America</th>\n",
       "      <td>87.823108</td>\n",
       "    </tr>\n",
       "    <tr>\n",
       "      <th>Asia</th>\n",
       "      <td>87.223301</td>\n",
       "    </tr>\n",
       "    <tr>\n",
       "      <th>Africa</th>\n",
       "      <td>87.059801</td>\n",
       "    </tr>\n",
       "  </tbody>\n",
       "</table>\n",
       "</div>"
      ],
      "text/plain": [
       "                  points\n",
       "region                  \n",
       "Europe         88.123732\n",
       "Oceania        87.824952\n",
       "North America  87.823108\n",
       "Asia           87.223301\n",
       "Africa         87.059801"
      ]
     },
     "execution_count": 394,
     "metadata": {},
     "output_type": "execute_result"
    }
   ],
   "source": [
    "region = {\n",
    "'Italy':'Europe',\n",
    "'Portugal':'Europe',\n",
    "'US':'North America',\n",
    "'Spain':'Europe',\n",
    "'France':'Europe',\n",
    "'Germany':'Europe',\n",
    "'Argentina':'Latin America',\n",
    "'Chile':'Latin America',\n",
    "'Australia': 'Oceania',\n",
    "'Austria': 'Europe',\n",
    "'South Africa': 'Africa',\n",
    "'New Zealand': 'Oceania',\n",
    "'Israel': 'Asia',\n",
    "'Hungary':'Europe',\n",
    "'Greece':'Europe',\n",
    "'Romania':'Europe',\n",
    "'Mexico':'Latin America',\n",
    "'Canada':'North America',\n",
    "'Turkey': 'Asia',\n",
    "'Czech Republic': 'Europe',\n",
    "'Slovenia': 'Europe',\n",
    "'Luxembourg': 'Europe',\n",
    "'Croatia': 'Europe',\n",
    "'Georgia':'Europe',\n",
    "'Uruguay': 'Latin America',\n",
    "'England': 'Europe',\n",
    "'Lebanon': 'Asia',\n",
    "'Serbia': 'Europe',\n",
    "'Brazil': 'Latin America',\n",
    "'Moldova': 'Europe',\n",
    "'Morocco':'Africa',\n",
    "'Peru':'Latin America',\n",
    "'India':'Asia',\n",
    "'Bulgaria':'Europe',\n",
    "'Cyprus': 'Europe',\n",
    "'Armenia':'Asia',\n",
    "'Switzerland':'Europe',\n",
    "'Bosnia and Herzegovina':'Europe',\n",
    "'Ukraine':'Europe',\n",
    "'Slovakia':'Europe',\n",
    "'Macedonia':'Europe',\n",
    "'China':'Asia',\n",
    "'Egypt':'Africa'\n",
    "}\n",
    "dfp['region'] = dfp['country'].map(region)\n",
    "dfp.head(10)\n",
    "\n",
    "pd.pivot_table(dfp,\n",
    "                    index=[\"region\"],\n",
    "                    values=[\"points\"],\n",
    "                    ).sort_values(by=['points'],ascending=False).head(5)"
   ]
  },
  {
   "cell_type": "markdown",
   "metadata": {},
   "source": [
    "9. Какое описание вин более высоко оценено?\n"
   ]
  },
  {
   "cell_type": "code",
   "execution_count": null,
   "metadata": {},
   "outputs": [],
   "source": []
  },
  {
   "cell_type": "markdown",
   "metadata": {},
   "source": [
    "10. Какой сорт вина более высоко оценен?\n"
   ]
  },
  {
   "cell_type": "code",
   "execution_count": 347,
   "metadata": {},
   "outputs": [
    {
     "data": {
      "text/html": [
       "<div>\n",
       "<style scoped>\n",
       "    .dataframe tbody tr th:only-of-type {\n",
       "        vertical-align: middle;\n",
       "    }\n",
       "\n",
       "    .dataframe tbody tr th {\n",
       "        vertical-align: top;\n",
       "    }\n",
       "\n",
       "    .dataframe thead th {\n",
       "        text-align: right;\n",
       "    }\n",
       "</style>\n",
       "<table border=\"1\" class=\"dataframe\">\n",
       "  <thead>\n",
       "    <tr style=\"text-align: right;\">\n",
       "      <th></th>\n",
       "      <th>points</th>\n",
       "    </tr>\n",
       "    <tr>\n",
       "      <th>variety</th>\n",
       "      <th></th>\n",
       "    </tr>\n",
       "  </thead>\n",
       "  <tbody>\n",
       "    <tr>\n",
       "      <th>Tokay</th>\n",
       "      <td>96.0</td>\n",
       "    </tr>\n",
       "    <tr>\n",
       "      <th>Syrah-Viognier</th>\n",
       "      <td>94.0</td>\n",
       "    </tr>\n",
       "    <tr>\n",
       "      <th>Sauvignon Gris</th>\n",
       "      <td>94.0</td>\n",
       "    </tr>\n",
       "    <tr>\n",
       "      <th>Muskat Ottonel</th>\n",
       "      <td>94.0</td>\n",
       "    </tr>\n",
       "    <tr>\n",
       "      <th>Roussanne-Viognier</th>\n",
       "      <td>93.0</td>\n",
       "    </tr>\n",
       "  </tbody>\n",
       "</table>\n",
       "</div>"
      ],
      "text/plain": [
       "                    points\n",
       "variety                   \n",
       "Tokay                 96.0\n",
       "Syrah-Viognier        94.0\n",
       "Sauvignon Gris        94.0\n",
       "Muskat Ottonel        94.0\n",
       "Roussanne-Viognier    93.0"
      ]
     },
     "execution_count": 347,
     "metadata": {},
     "output_type": "execute_result"
    }
   ],
   "source": [
    "pd.pivot_table(dfp,\n",
    "                    index=[\"variety\"],\n",
    "                    values=[\"points\"],\n",
    "                    ).sort_values(by=['points'],ascending=False).head(5)"
   ]
  },
  {
   "cell_type": "markdown",
   "metadata": {},
   "source": [
    "11. Сколько денег стоит получить вино с высоким рейтингом в стране?\n"
   ]
  },
  {
   "cell_type": "code",
   "execution_count": 352,
   "metadata": {},
   "outputs": [
    {
     "data": {
      "text/html": [
       "<div>\n",
       "<style scoped>\n",
       "    .dataframe tbody tr th:only-of-type {\n",
       "        vertical-align: middle;\n",
       "    }\n",
       "\n",
       "    .dataframe tbody tr th {\n",
       "        vertical-align: top;\n",
       "    }\n",
       "\n",
       "    .dataframe thead th {\n",
       "        text-align: right;\n",
       "    }\n",
       "</style>\n",
       "<table border=\"1\" class=\"dataframe\">\n",
       "  <thead>\n",
       "    <tr style=\"text-align: right;\">\n",
       "      <th></th>\n",
       "      <th>points</th>\n",
       "      <th>price</th>\n",
       "    </tr>\n",
       "    <tr>\n",
       "      <th>country</th>\n",
       "      <th></th>\n",
       "      <th></th>\n",
       "    </tr>\n",
       "  </thead>\n",
       "  <tbody>\n",
       "    <tr>\n",
       "      <th>Austria</th>\n",
       "      <td>89.008902</td>\n",
       "      <td>31.691395</td>\n",
       "    </tr>\n",
       "    <tr>\n",
       "      <th>Germany</th>\n",
       "      <td>88.898017</td>\n",
       "      <td>35.609065</td>\n",
       "    </tr>\n",
       "    <tr>\n",
       "      <th>France</th>\n",
       "      <td>88.640228</td>\n",
       "      <td>46.297564</td>\n",
       "    </tr>\n",
       "    <tr>\n",
       "      <th>Italy</th>\n",
       "      <td>88.384304</td>\n",
       "      <td>37.177184</td>\n",
       "    </tr>\n",
       "    <tr>\n",
       "      <th>Slovenia</th>\n",
       "      <td>88.166667</td>\n",
       "      <td>24.416667</td>\n",
       "    </tr>\n",
       "  </tbody>\n",
       "</table>\n",
       "</div>"
      ],
      "text/plain": [
       "             points      price\n",
       "country                       \n",
       "Austria   89.008902  31.691395\n",
       "Germany   88.898017  35.609065\n",
       "France    88.640228  46.297564\n",
       "Italy     88.384304  37.177184\n",
       "Slovenia  88.166667  24.416667"
      ]
     },
     "execution_count": 352,
     "metadata": {},
     "output_type": "execute_result"
    }
   ],
   "source": [
    "pd.pivot_table(dfp,\n",
    "                    index=[\"country\"],\n",
    "                    values=[\"price\",\"points\"],\n",
    "                    ).sort_values(by=['points'],ascending=False).head(5)"
   ]
  },
  {
   "cell_type": "markdown",
   "metadata": {},
   "source": [
    "12. Какие винодельни производят самые дорогие/высоко оцененные вина?\n"
   ]
  },
  {
   "cell_type": "code",
   "execution_count": 363,
   "metadata": {},
   "outputs": [
    {
     "data": {
      "text/html": [
       "<div>\n",
       "<style scoped>\n",
       "    .dataframe tbody tr th:only-of-type {\n",
       "        vertical-align: middle;\n",
       "    }\n",
       "\n",
       "    .dataframe tbody tr th {\n",
       "        vertical-align: top;\n",
       "    }\n",
       "\n",
       "    .dataframe thead th {\n",
       "        text-align: right;\n",
       "    }\n",
       "</style>\n",
       "<table border=\"1\" class=\"dataframe\">\n",
       "  <thead>\n",
       "    <tr style=\"text-align: right;\">\n",
       "      <th></th>\n",
       "      <th>points</th>\n",
       "      <th>price</th>\n",
       "    </tr>\n",
       "    <tr>\n",
       "      <th>variety</th>\n",
       "      <th></th>\n",
       "      <th></th>\n",
       "    </tr>\n",
       "  </thead>\n",
       "  <tbody>\n",
       "    <tr>\n",
       "      <th>Tokay</th>\n",
       "      <td>96.0</td>\n",
       "      <td>160.666667</td>\n",
       "    </tr>\n",
       "    <tr>\n",
       "      <th>Syrah-Viognier</th>\n",
       "      <td>94.0</td>\n",
       "      <td>75.000000</td>\n",
       "    </tr>\n",
       "    <tr>\n",
       "      <th>Muskat Ottonel</th>\n",
       "      <td>94.0</td>\n",
       "      <td>48.000000</td>\n",
       "    </tr>\n",
       "    <tr>\n",
       "      <th>Sauvignon Gris</th>\n",
       "      <td>94.0</td>\n",
       "      <td>40.000000</td>\n",
       "    </tr>\n",
       "    <tr>\n",
       "      <th>Madeira Blend</th>\n",
       "      <td>93.0</td>\n",
       "      <td>40.000000</td>\n",
       "    </tr>\n",
       "  </tbody>\n",
       "</table>\n",
       "</div>"
      ],
      "text/plain": [
       "                points       price\n",
       "variety                           \n",
       "Tokay             96.0  160.666667\n",
       "Syrah-Viognier    94.0   75.000000\n",
       "Muskat Ottonel    94.0   48.000000\n",
       "Sauvignon Gris    94.0   40.000000\n",
       "Madeira Blend     93.0   40.000000"
      ]
     },
     "execution_count": 363,
     "metadata": {},
     "output_type": "execute_result"
    }
   ],
   "source": [
    "pd.pivot_table(dfp,\n",
    "                    index=[\"variety\"],\n",
    "                    values=[\"price\",\"points\"],\n",
    "                    ).sort_values(by=['points','price'],ascending=False).head(5)"
   ]
  },
  {
   "cell_type": "markdown",
   "metadata": {},
   "source": [
    "13. Какие винодельни/регионы/страны производят вина с самым низким рейтингом?\n"
   ]
  },
  {
   "cell_type": "code",
   "execution_count": 362,
   "metadata": {},
   "outputs": [
    {
     "data": {
      "text/html": [
       "<div>\n",
       "<style scoped>\n",
       "    .dataframe tbody tr th:only-of-type {\n",
       "        vertical-align: middle;\n",
       "    }\n",
       "\n",
       "    .dataframe tbody tr th {\n",
       "        vertical-align: top;\n",
       "    }\n",
       "\n",
       "    .dataframe thead th {\n",
       "        text-align: right;\n",
       "    }\n",
       "</style>\n",
       "<table border=\"1\" class=\"dataframe\">\n",
       "  <thead>\n",
       "    <tr style=\"text-align: right;\">\n",
       "      <th></th>\n",
       "      <th></th>\n",
       "      <th></th>\n",
       "      <th>points</th>\n",
       "    </tr>\n",
       "    <tr>\n",
       "      <th>variety</th>\n",
       "      <th>country</th>\n",
       "      <th>province</th>\n",
       "      <th></th>\n",
       "    </tr>\n",
       "  </thead>\n",
       "  <tbody>\n",
       "    <tr>\n",
       "      <th>Parraleta</th>\n",
       "      <th>Spain</th>\n",
       "      <th>Northern Spain</th>\n",
       "      <td>80.0</td>\n",
       "    </tr>\n",
       "    <tr>\n",
       "      <th>Tempranillo-Merlot</th>\n",
       "      <th>Spain</th>\n",
       "      <th>Northern Spain</th>\n",
       "      <td>80.0</td>\n",
       "    </tr>\n",
       "    <tr>\n",
       "      <th>Red Blend</th>\n",
       "      <th>Chile</th>\n",
       "      <th>Casablanca Valley</th>\n",
       "      <td>80.0</td>\n",
       "    </tr>\n",
       "    <tr>\n",
       "      <th>White Blend</th>\n",
       "      <th>Chile</th>\n",
       "      <th>Casablanca Valley</th>\n",
       "      <td>80.0</td>\n",
       "    </tr>\n",
       "    <tr>\n",
       "      <th>Pinot Grigio</th>\n",
       "      <th>Argentina</th>\n",
       "      <th>Mendoza Province</th>\n",
       "      <td>80.0</td>\n",
       "    </tr>\n",
       "  </tbody>\n",
       "</table>\n",
       "</div>"
      ],
      "text/plain": [
       "                                                points\n",
       "variety            country   province                 \n",
       "Parraleta          Spain     Northern Spain       80.0\n",
       "Tempranillo-Merlot Spain     Northern Spain       80.0\n",
       "Red Blend          Chile     Casablanca Valley    80.0\n",
       "White Blend        Chile     Casablanca Valley    80.0\n",
       "Pinot Grigio       Argentina Mendoza Province     80.0"
      ]
     },
     "execution_count": 362,
     "metadata": {},
     "output_type": "execute_result"
    }
   ],
   "source": [
    "pd.pivot_table(dfp,\n",
    "                    index=[\"variety\",\"country\",\"province\"],\n",
    "                    values=[\"points\"],\n",
    "                    ).sort_values(by=['points'],ascending=True).head(5)"
   ]
  },
  {
   "cell_type": "markdown",
   "metadata": {},
   "source": [
    "14. Провести анализ сорта вина (например, белого вина Шардоне) и проанализировал стоимость и качество в основных регионах-производителях в мире.\n"
   ]
  },
  {
   "cell_type": "code",
   "execution_count": 364,
   "metadata": {},
   "outputs": [
    {
     "data": {
      "text/html": [
       "<div>\n",
       "<style scoped>\n",
       "    .dataframe tbody tr th:only-of-type {\n",
       "        vertical-align: middle;\n",
       "    }\n",
       "\n",
       "    .dataframe tbody tr th {\n",
       "        vertical-align: top;\n",
       "    }\n",
       "\n",
       "    .dataframe thead th {\n",
       "        text-align: right;\n",
       "    }\n",
       "</style>\n",
       "<table border=\"1\" class=\"dataframe\">\n",
       "  <thead>\n",
       "    <tr style=\"text-align: right;\">\n",
       "      <th></th>\n",
       "      <th>country</th>\n",
       "      <th>points</th>\n",
       "      <th>price</th>\n",
       "      <th>province</th>\n",
       "      <th>variety</th>\n",
       "      <th>color</th>\n",
       "    </tr>\n",
       "  </thead>\n",
       "  <tbody>\n",
       "    <tr>\n",
       "      <th>0</th>\n",
       "      <td>US</td>\n",
       "      <td>86</td>\n",
       "      <td>23.0</td>\n",
       "      <td>California</td>\n",
       "      <td>Pinot Noir</td>\n",
       "      <td>red</td>\n",
       "    </tr>\n",
       "    <tr>\n",
       "      <th>1</th>\n",
       "      <td>Italy</td>\n",
       "      <td>96</td>\n",
       "      <td>275.0</td>\n",
       "      <td>Tuscany</td>\n",
       "      <td>Red Blend</td>\n",
       "      <td>red</td>\n",
       "    </tr>\n",
       "    <tr>\n",
       "      <th>2</th>\n",
       "      <td>France</td>\n",
       "      <td>91</td>\n",
       "      <td>40.0</td>\n",
       "      <td>Bordeaux</td>\n",
       "      <td>Bordeaux-style Red Blend</td>\n",
       "      <td>red</td>\n",
       "    </tr>\n",
       "    <tr>\n",
       "      <th>3</th>\n",
       "      <td>Italy</td>\n",
       "      <td>81</td>\n",
       "      <td>15.0</td>\n",
       "      <td>Tuscany</td>\n",
       "      <td>Sangiovese</td>\n",
       "      <td>red</td>\n",
       "    </tr>\n",
       "    <tr>\n",
       "      <th>4</th>\n",
       "      <td>US</td>\n",
       "      <td>83</td>\n",
       "      <td>25.0</td>\n",
       "      <td>Oregon</td>\n",
       "      <td>Pinot Noir</td>\n",
       "      <td>red</td>\n",
       "    </tr>\n",
       "    <tr>\n",
       "      <th>5</th>\n",
       "      <td>Austria</td>\n",
       "      <td>96</td>\n",
       "      <td>89.0</td>\n",
       "      <td>Wachau</td>\n",
       "      <td>Riesling</td>\n",
       "      <td>white</td>\n",
       "    </tr>\n",
       "    <tr>\n",
       "      <th>6</th>\n",
       "      <td>US</td>\n",
       "      <td>84</td>\n",
       "      <td>40.0</td>\n",
       "      <td>California</td>\n",
       "      <td>Bordeaux-style Red Blend</td>\n",
       "      <td>red</td>\n",
       "    </tr>\n",
       "    <tr>\n",
       "      <th>7</th>\n",
       "      <td>US</td>\n",
       "      <td>93</td>\n",
       "      <td>40.0</td>\n",
       "      <td>California</td>\n",
       "      <td>Syrah</td>\n",
       "      <td>red</td>\n",
       "    </tr>\n",
       "    <tr>\n",
       "      <th>8</th>\n",
       "      <td>US</td>\n",
       "      <td>93</td>\n",
       "      <td>44.0</td>\n",
       "      <td>California</td>\n",
       "      <td>Pinot Noir</td>\n",
       "      <td>red</td>\n",
       "    </tr>\n",
       "    <tr>\n",
       "      <th>9</th>\n",
       "      <td>US</td>\n",
       "      <td>85</td>\n",
       "      <td>35.0</td>\n",
       "      <td>California</td>\n",
       "      <td>Merlot</td>\n",
       "      <td>red</td>\n",
       "    </tr>\n",
       "  </tbody>\n",
       "</table>\n",
       "</div>"
      ],
      "text/plain": [
       "   country  points  price    province                   variety  color\n",
       "0       US      86   23.0  California                Pinot Noir    red\n",
       "1    Italy      96  275.0     Tuscany                 Red Blend    red\n",
       "2   France      91   40.0    Bordeaux  Bordeaux-style Red Blend    red\n",
       "3    Italy      81   15.0     Tuscany                Sangiovese    red\n",
       "4       US      83   25.0      Oregon                Pinot Noir    red\n",
       "5  Austria      96   89.0      Wachau                  Riesling  white\n",
       "6       US      84   40.0  California  Bordeaux-style Red Blend    red\n",
       "7       US      93   40.0  California                     Syrah    red\n",
       "8       US      93   44.0  California                Pinot Noir    red\n",
       "9       US      85   35.0  California                    Merlot    red"
      ]
     },
     "execution_count": 364,
     "metadata": {},
     "output_type": "execute_result"
    }
   ],
   "source": [
    "color = {\"Chardonnay\": \"white\",\n",
    "\"Pinot Noir\": 'red',\n",
    "\"Cabernet Sauvignon\": \"red\",\n",
    "\"Red Blend\": \"red\",\n",
    "\"Bordeaux-style Red Blend\": \"red\",\n",
    "\"Sauvignon Blanc\": \"white\",\n",
    "\"Syrah\": \"red\",\n",
    "\"Riesling\": \"white\",\n",
    "\"Merlot\": \"red\",\n",
    "\"Zinfandel\": \"red\",\n",
    "\"Sangiovese\": \"red\",\n",
    "\"Malbec\": \"red\",\n",
    "\"White Blend\": \"white\",\n",
    "\"Rosé\": \"other\",\n",
    "\"Tempranillo\": \"red\",\n",
    "\"Nebbiolo\": \"red\",\n",
    "\"Portuguese Red\": \"red\",\n",
    "\"Sparkling Blend\": \"other\",\n",
    "\"Shiraz\": \"red\",\n",
    "\"Corvina, Rondinella, Molinara\": \"red\",\n",
    "\"Rhône-style Red Blend\": \"red\",\n",
    "\"Barbera\": \"red\",\n",
    "\"Pinot Gris\": \"white\",\n",
    "\"Viognier\": \"white\",\n",
    "\"Bordeaux-style White Blend\": \"white\",\n",
    "\"Champagne Blend\": \"other\",\n",
    "\"Port\": \"red\",\n",
    "\"Grüner Veltliner\": \"white\",\n",
    "\"Gewürztraminer\": \"white\",\n",
    "\"Portuguese White\": \"white\",\n",
    "\"Petite Sirah\": \"red\",\n",
    "\"Carmenère\": \"red\"}\n",
    "\n",
    "#dfcolor = pd.DataFrame(color,index=['color']).T\n",
    "dfp['color'] = dfp['variety'].map(color)\n",
    "dfp.head(10)"
   ]
  },
  {
   "cell_type": "code",
   "execution_count": 393,
   "metadata": {},
   "outputs": [
    {
     "data": {
      "text/html": [
       "<div>\n",
       "<style scoped>\n",
       "    .dataframe tbody tr th:only-of-type {\n",
       "        vertical-align: middle;\n",
       "    }\n",
       "\n",
       "    .dataframe tbody tr th {\n",
       "        vertical-align: top;\n",
       "    }\n",
       "\n",
       "    .dataframe thead th {\n",
       "        text-align: right;\n",
       "    }\n",
       "</style>\n",
       "<table border=\"1\" class=\"dataframe\">\n",
       "  <thead>\n",
       "    <tr style=\"text-align: right;\">\n",
       "      <th></th>\n",
       "      <th>points</th>\n",
       "      <th>price</th>\n",
       "    </tr>\n",
       "    <tr>\n",
       "      <th>province</th>\n",
       "      <th></th>\n",
       "      <th></th>\n",
       "    </tr>\n",
       "  </thead>\n",
       "  <tbody>\n",
       "    <tr>\n",
       "      <th>California</th>\n",
       "      <td>853</td>\n",
       "      <td>28.201641</td>\n",
       "    </tr>\n",
       "    <tr>\n",
       "      <th>Burgundy</th>\n",
       "      <td>233</td>\n",
       "      <td>64.454936</td>\n",
       "    </tr>\n",
       "    <tr>\n",
       "      <th>Washington</th>\n",
       "      <td>94</td>\n",
       "      <td>22.106383</td>\n",
       "    </tr>\n",
       "    <tr>\n",
       "      <th>New York</th>\n",
       "      <td>68</td>\n",
       "      <td>16.220588</td>\n",
       "    </tr>\n",
       "    <tr>\n",
       "      <th>Mendoza Province</th>\n",
       "      <td>45</td>\n",
       "      <td>12.755556</td>\n",
       "    </tr>\n",
       "  </tbody>\n",
       "</table>\n",
       "</div>"
      ],
      "text/plain": [
       "                  points      price\n",
       "province                           \n",
       "California           853  28.201641\n",
       "Burgundy             233  64.454936\n",
       "Washington            94  22.106383\n",
       "New York              68  16.220588\n",
       "Mendoza Province      45  12.755556"
      ]
     },
     "execution_count": 393,
     "metadata": {},
     "output_type": "execute_result"
    }
   ],
   "source": [
    "#\"Chardonnay\": \"white\"\n",
    "#price \n",
    "#points\n",
    "#province\n",
    "\n",
    "dfp[dfp.variety == 'Chardonnay'].pivot_table(index='province', values=['points','price'],\n",
    "                                 aggfunc={'points': 'count', 'price': np.mean}).sort_values(by=['points'],ascending=False).head(5)\n",
    "\n"
   ]
  }
 ],
 "metadata": {
  "kernelspec": {
   "display_name": "Python 3.10.7 64-bit",
   "language": "python",
   "name": "python3"
  },
  "language_info": {
   "codemirror_mode": {
    "name": "ipython",
    "version": 3
   },
   "file_extension": ".py",
   "mimetype": "text/x-python",
   "name": "python",
   "nbconvert_exporter": "python",
   "pygments_lexer": "ipython3",
   "version": "3.10.7"
  },
  "orig_nbformat": 4,
  "vscode": {
   "interpreter": {
    "hash": "800f5446f05b6c19c3d9d5605cc8e76c92f802913ec490527ddacf581c40d26e"
   }
  }
 },
 "nbformat": 4,
 "nbformat_minor": 2
}
